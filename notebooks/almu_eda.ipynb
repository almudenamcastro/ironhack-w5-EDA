{
 "cells": [
  {
   "cell_type": "markdown",
   "metadata": {},
   "source": [
    "## Import libraries and load data"
   ]
  },
  {
   "cell_type": "code",
   "execution_count": 54,
   "metadata": {},
   "outputs": [],
   "source": [
    "import pandas as pd\n",
    "import numpy as np\n",
    "import seaborn as sns\n",
    "import matplotlib.pyplot as plt"
   ]
  },
  {
   "cell_type": "code",
   "execution_count": 2,
   "metadata": {},
   "outputs": [],
   "source": [
    "clients = pd.read_csv('../data/df_final_demo.txt')\n",
    "events_1 = pd.read_csv('../data/df_final_web_data_pt_1.txt')\n",
    "events_2 = pd.read_csv('../data/df_final_web_data_pt_2.txt')\n",
    "test = pd.read_csv('../data/df_final_experiment_clients.txt')"
   ]
  },
  {
   "cell_type": "markdown",
   "metadata": {},
   "source": [
    "## Client data"
   ]
  },
  {
   "cell_type": "markdown",
   "metadata": {},
   "source": [
    "### dataframe exploration"
   ]
  },
  {
   "cell_type": "code",
   "execution_count": 45,
   "metadata": {},
   "outputs": [
    {
     "name": "stdout",
     "output_type": "stream",
     "text": [
      "<class 'pandas.core.frame.DataFrame'>\n",
      "Index: 70594 entries, 0 to 70608\n",
      "Data columns (total 9 columns):\n",
      " #   Column            Non-Null Count  Dtype  \n",
      "---  ------            --------------  -----  \n",
      " 0   client_id         70594 non-null  int64  \n",
      " 1   clnt_tenure_yr    70594 non-null  float64\n",
      " 2   clnt_tenure_mnth  70594 non-null  float64\n",
      " 3   clnt_age          70594 non-null  float64\n",
      " 4   gendr             70594 non-null  object \n",
      " 5   num_accts         70594 non-null  float64\n",
      " 6   bal               70594 non-null  float64\n",
      " 7   calls_6_mnth      70594 non-null  float64\n",
      " 8   logons_6_mnth     70594 non-null  float64\n",
      "dtypes: float64(7), int64(1), object(1)\n",
      "memory usage: 5.4+ MB\n"
     ]
    }
   ],
   "source": [
    "clients.info()\n",
    "\n",
    "# there are some null values. \n",
    "# The dypes look correct: client_id and gender are categorical. "
   ]
  },
  {
   "cell_type": "code",
   "execution_count": 40,
   "metadata": {},
   "outputs": [
    {
     "data": {
      "text/plain": [
       "clnt_age            15\n",
       "num_accts           14\n",
       "clnt_tenure_yr      14\n",
       "clnt_tenure_mnth    14\n",
       "gendr               14\n",
       "calls_6_mnth        14\n",
       "bal                 14\n",
       "logons_6_mnth       14\n",
       "client_id            0\n",
       "dtype: int64"
      ]
     },
     "execution_count": 40,
     "metadata": {},
     "output_type": "execute_result"
    }
   ],
   "source": [
    "clients.isnull().sum().sort_values(ascending = False)\n",
    "clients[clients.clnt_age.isna()]\n",
    "\n",
    "# it seems like there are 14 rows with lots of null values and 1 row where the age is missing. \n",
    "# This is an insignificant amount of data (having >70000 valid data points) \n",
    "# We can savely remove these data. \n",
    "\n",
    "clients.dropna(inplace=True)"
   ]
  },
  {
   "cell_type": "code",
   "execution_count": null,
   "metadata": {},
   "outputs": [],
   "source": [
    "# look for duplicates\n",
    "clients.duplicated().sum()\n",
    "\n",
    "# there are no duplicated values. "
   ]
  },
  {
   "cell_type": "code",
   "execution_count": 46,
   "metadata": {},
   "outputs": [
    {
     "data": {
      "text/plain": [
       "True"
      ]
     },
     "execution_count": 46,
     "metadata": {},
     "output_type": "execute_result"
    }
   ],
   "source": [
    "# Let's classify numerical vs categorial columns. \n",
    "\n",
    "clients_num = list(clients.select_dtypes(\"number\").columns)\n",
    "clients_num.remove('client_id')\n",
    "clients_cat = ['client_id', 'gendr']\n",
    "\n",
    "len(clients.columns) == len (clients_num + clients_cat)\n"
   ]
  },
  {
   "cell_type": "code",
   "execution_count": 10,
   "metadata": {},
   "outputs": [
    {
     "data": {
      "text/html": [
       "<div>\n",
       "<style scoped>\n",
       "    .dataframe tbody tr th:only-of-type {\n",
       "        vertical-align: middle;\n",
       "    }\n",
       "\n",
       "    .dataframe tbody tr th {\n",
       "        vertical-align: top;\n",
       "    }\n",
       "\n",
       "    .dataframe thead th {\n",
       "        text-align: right;\n",
       "    }\n",
       "</style>\n",
       "<table border=\"1\" class=\"dataframe\">\n",
       "  <thead>\n",
       "    <tr style=\"text-align: right;\">\n",
       "      <th></th>\n",
       "      <th>client_id</th>\n",
       "      <th>clnt_tenure_yr</th>\n",
       "      <th>clnt_tenure_mnth</th>\n",
       "      <th>clnt_age</th>\n",
       "      <th>gendr</th>\n",
       "      <th>num_accts</th>\n",
       "      <th>bal</th>\n",
       "      <th>calls_6_mnth</th>\n",
       "      <th>logons_6_mnth</th>\n",
       "    </tr>\n",
       "  </thead>\n",
       "  <tbody>\n",
       "    <tr>\n",
       "      <th>53144</th>\n",
       "      <td>2830632</td>\n",
       "      <td>9.0</td>\n",
       "      <td>118.0</td>\n",
       "      <td>28.0</td>\n",
       "      <td>F</td>\n",
       "      <td>2.0</td>\n",
       "      <td>65170.51</td>\n",
       "      <td>1.0</td>\n",
       "      <td>1.0</td>\n",
       "    </tr>\n",
       "    <tr>\n",
       "      <th>42059</th>\n",
       "      <td>6219579</td>\n",
       "      <td>26.0</td>\n",
       "      <td>321.0</td>\n",
       "      <td>31.5</td>\n",
       "      <td>M</td>\n",
       "      <td>2.0</td>\n",
       "      <td>36155.70</td>\n",
       "      <td>0.0</td>\n",
       "      <td>3.0</td>\n",
       "    </tr>\n",
       "    <tr>\n",
       "      <th>55165</th>\n",
       "      <td>4647846</td>\n",
       "      <td>5.0</td>\n",
       "      <td>60.0</td>\n",
       "      <td>29.5</td>\n",
       "      <td>F</td>\n",
       "      <td>3.0</td>\n",
       "      <td>32564.36</td>\n",
       "      <td>3.0</td>\n",
       "      <td>3.0</td>\n",
       "    </tr>\n",
       "    <tr>\n",
       "      <th>8634</th>\n",
       "      <td>3244142</td>\n",
       "      <td>13.0</td>\n",
       "      <td>166.0</td>\n",
       "      <td>55.5</td>\n",
       "      <td>F</td>\n",
       "      <td>2.0</td>\n",
       "      <td>141413.67</td>\n",
       "      <td>6.0</td>\n",
       "      <td>9.0</td>\n",
       "    </tr>\n",
       "    <tr>\n",
       "      <th>5366</th>\n",
       "      <td>869520</td>\n",
       "      <td>21.0</td>\n",
       "      <td>263.0</td>\n",
       "      <td>65.5</td>\n",
       "      <td>M</td>\n",
       "      <td>4.0</td>\n",
       "      <td>1260593.42</td>\n",
       "      <td>2.0</td>\n",
       "      <td>5.0</td>\n",
       "    </tr>\n",
       "    <tr>\n",
       "      <th>50596</th>\n",
       "      <td>8735075</td>\n",
       "      <td>24.0</td>\n",
       "      <td>289.0</td>\n",
       "      <td>63.0</td>\n",
       "      <td>F</td>\n",
       "      <td>2.0</td>\n",
       "      <td>92179.56</td>\n",
       "      <td>2.0</td>\n",
       "      <td>3.0</td>\n",
       "    </tr>\n",
       "    <tr>\n",
       "      <th>7886</th>\n",
       "      <td>6568477</td>\n",
       "      <td>13.0</td>\n",
       "      <td>158.0</td>\n",
       "      <td>53.5</td>\n",
       "      <td>M</td>\n",
       "      <td>2.0</td>\n",
       "      <td>193436.93</td>\n",
       "      <td>2.0</td>\n",
       "      <td>5.0</td>\n",
       "    </tr>\n",
       "    <tr>\n",
       "      <th>40504</th>\n",
       "      <td>2849792</td>\n",
       "      <td>7.0</td>\n",
       "      <td>95.0</td>\n",
       "      <td>49.0</td>\n",
       "      <td>U</td>\n",
       "      <td>2.0</td>\n",
       "      <td>69796.12</td>\n",
       "      <td>6.0</td>\n",
       "      <td>9.0</td>\n",
       "    </tr>\n",
       "    <tr>\n",
       "      <th>3702</th>\n",
       "      <td>125305</td>\n",
       "      <td>11.0</td>\n",
       "      <td>143.0</td>\n",
       "      <td>33.5</td>\n",
       "      <td>M</td>\n",
       "      <td>2.0</td>\n",
       "      <td>74182.77</td>\n",
       "      <td>6.0</td>\n",
       "      <td>9.0</td>\n",
       "    </tr>\n",
       "    <tr>\n",
       "      <th>46419</th>\n",
       "      <td>6384526</td>\n",
       "      <td>6.0</td>\n",
       "      <td>82.0</td>\n",
       "      <td>70.0</td>\n",
       "      <td>U</td>\n",
       "      <td>2.0</td>\n",
       "      <td>44877.92</td>\n",
       "      <td>6.0</td>\n",
       "      <td>9.0</td>\n",
       "    </tr>\n",
       "  </tbody>\n",
       "</table>\n",
       "</div>"
      ],
      "text/plain": [
       "       client_id  clnt_tenure_yr  clnt_tenure_mnth  clnt_age gendr  num_accts  \\\n",
       "53144    2830632             9.0             118.0      28.0     F        2.0   \n",
       "42059    6219579            26.0             321.0      31.5     M        2.0   \n",
       "55165    4647846             5.0              60.0      29.5     F        3.0   \n",
       "8634     3244142            13.0             166.0      55.5     F        2.0   \n",
       "5366      869520            21.0             263.0      65.5     M        4.0   \n",
       "50596    8735075            24.0             289.0      63.0     F        2.0   \n",
       "7886     6568477            13.0             158.0      53.5     M        2.0   \n",
       "40504    2849792             7.0              95.0      49.0     U        2.0   \n",
       "3702      125305            11.0             143.0      33.5     M        2.0   \n",
       "46419    6384526             6.0              82.0      70.0     U        2.0   \n",
       "\n",
       "              bal  calls_6_mnth  logons_6_mnth  \n",
       "53144    65170.51           1.0            1.0  \n",
       "42059    36155.70           0.0            3.0  \n",
       "55165    32564.36           3.0            3.0  \n",
       "8634    141413.67           6.0            9.0  \n",
       "5366   1260593.42           2.0            5.0  \n",
       "50596    92179.56           2.0            3.0  \n",
       "7886    193436.93           2.0            5.0  \n",
       "40504    69796.12           6.0            9.0  \n",
       "3702     74182.77           6.0            9.0  \n",
       "46419    44877.92           6.0            9.0  "
      ]
     },
     "execution_count": 10,
     "metadata": {},
     "output_type": "execute_result"
    }
   ],
   "source": [
    "clients.sample(10)\n",
    "\n",
    "# many numerical columns look like int but have type float"
   ]
  },
  {
   "cell_type": "markdown",
   "metadata": {},
   "source": [
    "### variables exploration"
   ]
  },
  {
   "cell_type": "code",
   "execution_count": 47,
   "metadata": {},
   "outputs": [
    {
     "data": {
      "text/plain": [
       "np.int64(0)"
      ]
     },
     "execution_count": 47,
     "metadata": {},
     "output_type": "execute_result"
    }
   ],
   "source": [
    "clients.clnt_tenure_yr.value_counts\n",
    "\n",
    "#convert to int\n",
    "clients.clnt_tenure_yr = clients.clnt_tenure_yr.astype(\"int\")"
   ]
  },
  {
   "cell_type": "code",
   "execution_count": 60,
   "metadata": {},
   "outputs": [
    {
     "name": "stderr",
     "output_type": "stream",
     "text": [
      "/var/folders/yf/ydfr37g56sb7b4mncpm76gk00000gn/T/ipykernel_26871/3203938801.py:11: UserWarning: No artists with labels found to put in legend.  Note that artists whose label start with an underscore are ignored when legend() is called with no argument.\n",
      "  plt.legend(title=\"Params\")\n"
     ]
    },
    {
     "data": {
      "image/png": "[encoded data removed]",
      "text/plain": [
       "<Figure size 1000x600 with 1 Axes>"
      ]
     },
     "metadata": {},
     "output_type": "display_data"
    }
   ],
   "source": [
    "\n",
    "tenure_yr_count = clients.clnt_tenure_yr.value_counts()\n",
    "\n",
    "plt.figure(figsize=(10,6))\n",
    "    \n",
    "sns.barplot(x = tenure_yr_count.index, y = tenure_yr_count.values)\n",
    "    \n",
    "# Configurar la gráfica\n",
    "plt.title(f'client count', fontsize=16)\n",
    "plt.xlabel('Tenure year', fontsize=14)\n",
    "plt.ylabel(f'client count', fontsize=14)\n",
    "plt.legend(title=\"Params\")\n",
    "plt.grid(True)\n",
    "plt.xticks(rotation=90)\n",
    "\n",
    "# Mostrar la gráfica\n",
    "plt.show()\n"
   ]
  }
 ],
 "metadata": {
  "kernelspec": {
   "display_name": ".venv",
   "language": "python",
   "name": "python3"
  },
  "language_info": {
   "codemirror_mode": {
    "name": "ipython",
    "version": 3
   },
   "file_extension": ".py",
   "mimetype": "text/x-python",
   "name": "python",
   "nbconvert_exporter": "python",
   "pygments_lexer": "ipython3",
   "version": "3.12.4"
  }
 },
 "nbformat": 4,
 "nbformat_minor": 2
}
