{
 "cells": [
  {
   "cell_type": "markdown",
   "metadata": {},
   "source": [
    "# EDA project"
   ]
  },
  {
   "cell_type": "markdown",
   "metadata": {},
   "source": [
    "## Load libraries and datasets"
   ]
  },
  {
   "cell_type": "code",
<<<<<<< HEAD
   "execution_count": 216,
=======
   "execution_count": 177,
>>>>>>> main
   "metadata": {},
   "outputs": [],
   "source": [
    "import pandas as pd\n",
    "import pandas as pd\n",
    "import matplotlib.pyplot as plt\n",
    "import seaborn as sns\n",
    "from scipy.stats import chi2_contingency\n"
   ]
  },
  {
   "cell_type": "code",
<<<<<<< HEAD
   "execution_count": 217,
=======
   "execution_count": 205,
>>>>>>> main
   "metadata": {},
   "outputs": [],
   "source": [
    "clients_raw = pd.read_csv('../data/df_final_demo.txt')\n",
    "events_1_raw = pd.read_csv('../data/df_final_web_data_pt_1.txt')\n",
    "events_2_raw = pd.read_csv('../data/df_final_web_data_pt_2.txt')\n",
    "test_raw = pd.read_csv('../data/df_final_experiment_clients.txt')"
   ]
  },
  {
   "cell_type": "markdown",
   "metadata": {},
   "source": [
    "## Data cleaning and exploration"
   ]
  },
  {
   "cell_type": "markdown",
   "metadata": {},
   "source": [
    "### Clients"
   ]
  },
  {
   "cell_type": "code",
<<<<<<< HEAD
   "execution_count": 218,
=======
   "execution_count": 557,
>>>>>>> main
   "metadata": {},
   "outputs": [
    {
     "name": "stdout",
     "output_type": "stream",
     "text": [
      "<class 'pandas.core.frame.DataFrame'>\n",
      "RangeIndex: 70609 entries, 0 to 70608\n",
      "Data columns (total 9 columns):\n",
      " #   Column            Non-Null Count  Dtype  \n",
      "---  ------            --------------  -----  \n",
      " 0   client_id         70609 non-null  int64  \n",
      " 1   clnt_tenure_yr    70595 non-null  float64\n",
      " 2   clnt_tenure_mnth  70595 non-null  float64\n",
      " 3   clnt_age          70594 non-null  float64\n",
      " 4   gendr             70595 non-null  object \n",
      " 5   num_accts         70595 non-null  float64\n",
      " 6   bal               70595 non-null  float64\n",
      " 7   calls_6_mnth      70595 non-null  float64\n",
      " 8   logons_6_mnth     70595 non-null  float64\n",
      "dtypes: float64(7), int64(1), object(1)\n",
      "memory usage: 4.8+ MB\n"
     ]
    },
    {
     "data": {
      "text/html": [
       "<div>\n",
       "<style scoped>\n",
       "    .dataframe tbody tr th:only-of-type {\n",
       "        vertical-align: middle;\n",
       "    }\n",
       "\n",
       "    .dataframe tbody tr th {\n",
       "        vertical-align: top;\n",
       "    }\n",
       "\n",
       "    .dataframe thead th {\n",
       "        text-align: right;\n",
       "    }\n",
       "</style>\n",
       "<table border=\"1\" class=\"dataframe\">\n",
       "  <thead>\n",
       "    <tr style=\"text-align: right;\">\n",
       "      <th></th>\n",
       "      <th>client_id</th>\n",
       "      <th>clnt_tenure_yr</th>\n",
       "      <th>clnt_tenure_mnth</th>\n",
       "      <th>clnt_age</th>\n",
       "      <th>gendr</th>\n",
       "      <th>num_accts</th>\n",
       "      <th>bal</th>\n",
       "      <th>calls_6_mnth</th>\n",
       "      <th>logons_6_mnth</th>\n",
       "    </tr>\n",
       "  </thead>\n",
       "  <tbody>\n",
       "    <tr>\n",
       "      <th>0</th>\n",
       "      <td>836976</td>\n",
       "      <td>6.0</td>\n",
       "      <td>73.0</td>\n",
       "      <td>60.5</td>\n",
       "      <td>U</td>\n",
       "      <td>2.0</td>\n",
       "      <td>45105.30</td>\n",
       "      <td>6.0</td>\n",
       "      <td>9.0</td>\n",
       "    </tr>\n",
       "    <tr>\n",
       "      <th>1</th>\n",
       "      <td>2304905</td>\n",
       "      <td>7.0</td>\n",
       "      <td>94.0</td>\n",
       "      <td>58.0</td>\n",
       "      <td>U</td>\n",
       "      <td>2.0</td>\n",
       "      <td>110860.30</td>\n",
       "      <td>6.0</td>\n",
       "      <td>9.0</td>\n",
       "    </tr>\n",
       "    <tr>\n",
       "      <th>2</th>\n",
       "      <td>1439522</td>\n",
       "      <td>5.0</td>\n",
       "      <td>64.0</td>\n",
       "      <td>32.0</td>\n",
       "      <td>U</td>\n",
       "      <td>2.0</td>\n",
       "      <td>52467.79</td>\n",
       "      <td>6.0</td>\n",
       "      <td>9.0</td>\n",
       "    </tr>\n",
       "    <tr>\n",
       "      <th>3</th>\n",
       "      <td>1562045</td>\n",
       "      <td>16.0</td>\n",
       "      <td>198.0</td>\n",
       "      <td>49.0</td>\n",
       "      <td>M</td>\n",
       "      <td>2.0</td>\n",
       "      <td>67454.65</td>\n",
       "      <td>3.0</td>\n",
       "      <td>6.0</td>\n",
       "    </tr>\n",
       "    <tr>\n",
       "      <th>4</th>\n",
       "      <td>5126305</td>\n",
       "      <td>12.0</td>\n",
       "      <td>145.0</td>\n",
       "      <td>33.0</td>\n",
       "      <td>F</td>\n",
       "      <td>2.0</td>\n",
       "      <td>103671.75</td>\n",
       "      <td>0.0</td>\n",
       "      <td>3.0</td>\n",
       "    </tr>\n",
       "  </tbody>\n",
       "</table>\n",
       "</div>"
      ],
      "text/plain": [
       "   client_id  clnt_tenure_yr  clnt_tenure_mnth  clnt_age gendr  num_accts  \\\n",
       "0     836976             6.0              73.0      60.5     U        2.0   \n",
       "1    2304905             7.0              94.0      58.0     U        2.0   \n",
       "2    1439522             5.0              64.0      32.0     U        2.0   \n",
       "3    1562045            16.0             198.0      49.0     M        2.0   \n",
       "4    5126305            12.0             145.0      33.0     F        2.0   \n",
       "\n",
       "         bal  calls_6_mnth  logons_6_mnth  \n",
       "0   45105.30           6.0            9.0  \n",
       "1  110860.30           6.0            9.0  \n",
       "2   52467.79           6.0            9.0  \n",
       "3   67454.65           3.0            6.0  \n",
       "4  103671.75           0.0            3.0  "
      ]
     },
<<<<<<< HEAD
     "execution_count": 218,
=======
     "execution_count": 557,
>>>>>>> main
     "metadata": {},
     "output_type": "execute_result"
    }
   ],
   "source": [
<<<<<<< HEAD
    "clients.info()\n",
    "\n",
    "# there are some null values. \n",
    "# client_id and gender are the only categorical columns. \n",
    "# Let's classify numerical vs categorial columns. \n",
    "\n",
    "clients_num = list(clients.select_dtypes(\"number\").columns)\n",
    "clients_num.remove('client_id')\n",
    "clients_cat = ['client_id', 'gendr']\n",
    "\n",
    "len(clients.columns) == len (clients_num + clients_cat)\n",
    "\n",
=======
    "clients = clients_raw.copy()\n",
>>>>>>> main
    "clients.head()"
   ]
  },
  {
   "cell_type": "code",
<<<<<<< HEAD
   "execution_count": 219,
=======
   "execution_count": 558,
>>>>>>> main
   "metadata": {},
   "outputs": [
    {
     "name": "stdout",
     "output_type": "stream",
     "text": [
      "<class 'pandas.core.frame.DataFrame'>\n",
      "RangeIndex: 70609 entries, 0 to 70608\n",
      "Data columns (total 9 columns):\n",
      " #   Column            Non-Null Count  Dtype  \n",
      "---  ------            --------------  -----  \n",
      " 0   client_id         70609 non-null  int64  \n",
      " 1   clnt_tenure_yr    70595 non-null  float64\n",
      " 2   clnt_tenure_mnth  70595 non-null  float64\n",
      " 3   clnt_age          70594 non-null  float64\n",
      " 4   gendr             70595 non-null  object \n",
      " 5   num_accts         70595 non-null  float64\n",
      " 6   bal               70595 non-null  float64\n",
      " 7   calls_6_mnth      70595 non-null  float64\n",
      " 8   logons_6_mnth     70595 non-null  float64\n",
      "dtypes: float64(7), int64(1), object(1)\n",
      "memory usage: 4.8+ MB\n"
     ]
    }
   ],
   "source": [
<<<<<<< HEAD
=======
    "clients.info()\n",
    "# there are some null values. \n",
    "# client_id and gender are the only categorical columns. "
   ]
  },
  {
   "cell_type": "code",
   "execution_count": 559,
   "metadata": {},
   "outputs": [],
   "source": [
    "# remove null values\n",
    "\n",
>>>>>>> main
    "clients.isnull().sum().sort_values(ascending = False)\n",
    "clients[clients.clnt_age.isna()]\n",
    "\n",
    "# it seems like there are 14 rows with lots of null values and 1 row where the age is missing. \n",
    "# This is an insignificant amount of data (having >70000 valid data points) \n",
    "# We can savely remove these data. \n",
    "\n",
    "clients.dropna(inplace=True)"
   ]
  },
  {
   "cell_type": "code",
<<<<<<< HEAD
   "execution_count": 220,
=======
   "execution_count": 560,
>>>>>>> main
   "metadata": {},
   "outputs": [
    {
     "data": {
      "text/plain": [
       "0"
      ]
     },
<<<<<<< HEAD
     "execution_count": 220,
=======
     "execution_count": 560,
>>>>>>> main
     "metadata": {},
     "output_type": "execute_result"
    }
   ],
   "source": [
    "# look for duplicates\n",
    "clients.duplicated().sum()\n",
    "\n",
    "# there are no duplicated values. "
   ]
  },
  {
   "cell_type": "code",
<<<<<<< HEAD
   "execution_count": 221,
=======
   "execution_count": 561,
>>>>>>> main
   "metadata": {},
   "outputs": [],
   "source": [
    "# data types\n",
    "clients.dtypes\n",
    "# many numerical columns look like int but have type float. Let's assign the correct type.\n",
    "int_cols = ['clnt_tenure_yr', 'clnt_tenure_mnth', 'num_accts', 'calls_6_mnth', 'logons_6_mnth']\n",
    "clients[int_cols] = clients[int_cols].astype('int64')"
   ]
  },
  {
   "cell_type": "code",
<<<<<<< HEAD
   "execution_count": 222,
=======
   "execution_count": 562,
>>>>>>> main
   "metadata": {},
   "outputs": [
    {
     "data": {
      "text/plain": [
       "gendr\n",
       "U    24122\n",
       "M    23724\n",
       "F    22745\n",
       "X        3\n",
       "Name: count, dtype: int64"
      ]
     },
<<<<<<< HEAD
     "execution_count": 222,
=======
     "execution_count": 562,
>>>>>>> main
     "metadata": {},
     "output_type": "execute_result"
    }
   ],
   "source": [
    "# there are for possible values for gender. We assume that 'U' stands for unknown. 'X' may stand for non binary. \n",
    "clients.gendr.value_counts()"
   ]
  },
  {
   "cell_type": "code",
<<<<<<< HEAD
   "execution_count": 223,
=======
   "execution_count": 563,
>>>>>>> main
   "metadata": {},
   "outputs": [
    {
     "data": {
      "text/html": [
       "<div>\n",
       "<style scoped>\n",
       "    .dataframe tbody tr th:only-of-type {\n",
       "        vertical-align: middle;\n",
       "    }\n",
       "\n",
       "    .dataframe tbody tr th {\n",
       "        vertical-align: top;\n",
       "    }\n",
       "\n",
       "    .dataframe thead th {\n",
       "        text-align: right;\n",
       "    }\n",
       "</style>\n",
       "<table border=\"1\" class=\"dataframe\">\n",
       "  <thead>\n",
       "    <tr style=\"text-align: right;\">\n",
       "      <th></th>\n",
       "      <th>clnt_tenure_yr</th>\n",
       "      <th>clnt_tenure_mnth</th>\n",
       "      <th>clnt_age</th>\n",
       "      <th>num_accts</th>\n",
       "      <th>bal</th>\n",
       "      <th>calls_6_mnth</th>\n",
       "      <th>logons_6_mnth</th>\n",
       "    </tr>\n",
       "  </thead>\n",
       "  <tbody>\n",
       "    <tr>\n",
       "      <th>count</th>\n",
       "      <td>70594.000000</td>\n",
       "      <td>70594.000000</td>\n",
       "      <td>70594.000000</td>\n",
       "      <td>70594.000000</td>\n",
       "      <td>7.059400e+04</td>\n",
       "      <td>70594.000000</td>\n",
       "      <td>70594.000000</td>\n",
       "    </tr>\n",
       "    <tr>\n",
       "      <th>mean</th>\n",
       "      <td>12.053007</td>\n",
       "      <td>150.659999</td>\n",
       "      <td>46.442240</td>\n",
       "      <td>2.255532</td>\n",
       "      <td>1.474467e+05</td>\n",
       "      <td>3.382469</td>\n",
       "      <td>5.566720</td>\n",
       "    </tr>\n",
       "    <tr>\n",
       "      <th>std</th>\n",
       "      <td>6.871850</td>\n",
       "      <td>82.090264</td>\n",
       "      <td>15.591273</td>\n",
       "      <td>0.535000</td>\n",
       "      <td>3.015106e+05</td>\n",
       "      <td>2.236595</td>\n",
       "      <td>2.353296</td>\n",
       "    </tr>\n",
       "    <tr>\n",
       "      <th>min</th>\n",
       "      <td>2.000000</td>\n",
       "      <td>33.000000</td>\n",
       "      <td>13.500000</td>\n",
       "      <td>1.000000</td>\n",
       "      <td>1.378942e+04</td>\n",
       "      <td>0.000000</td>\n",
       "      <td>1.000000</td>\n",
       "    </tr>\n",
       "    <tr>\n",
       "      <th>25%</th>\n",
       "      <td>6.000000</td>\n",
       "      <td>82.000000</td>\n",
       "      <td>32.500000</td>\n",
       "      <td>2.000000</td>\n",
       "      <td>3.734660e+04</td>\n",
       "      <td>1.000000</td>\n",
       "      <td>4.000000</td>\n",
       "    </tr>\n",
       "    <tr>\n",
       "      <th>50%</th>\n",
       "      <td>11.000000</td>\n",
       "      <td>136.000000</td>\n",
       "      <td>47.000000</td>\n",
       "      <td>2.000000</td>\n",
       "      <td>6.333459e+04</td>\n",
       "      <td>3.000000</td>\n",
       "      <td>5.000000</td>\n",
       "    </tr>\n",
       "    <tr>\n",
       "      <th>75%</th>\n",
       "      <td>16.000000</td>\n",
       "      <td>192.000000</td>\n",
       "      <td>59.000000</td>\n",
       "      <td>2.000000</td>\n",
       "      <td>1.375461e+05</td>\n",
       "      <td>6.000000</td>\n",
       "      <td>7.000000</td>\n",
       "    </tr>\n",
       "    <tr>\n",
       "      <th>max</th>\n",
       "      <td>62.000000</td>\n",
       "      <td>749.000000</td>\n",
       "      <td>96.000000</td>\n",
       "      <td>8.000000</td>\n",
       "      <td>1.632004e+07</td>\n",
       "      <td>7.000000</td>\n",
       "      <td>9.000000</td>\n",
       "    </tr>\n",
       "  </tbody>\n",
       "</table>\n",
       "</div>"
      ],
      "text/plain": [
       "       clnt_tenure_yr  clnt_tenure_mnth      clnt_age     num_accts  \\\n",
       "count    70594.000000      70594.000000  70594.000000  70594.000000   \n",
       "mean        12.053007        150.659999     46.442240      2.255532   \n",
       "std          6.871850         82.090264     15.591273      0.535000   \n",
       "min          2.000000         33.000000     13.500000      1.000000   \n",
       "25%          6.000000         82.000000     32.500000      2.000000   \n",
       "50%         11.000000        136.000000     47.000000      2.000000   \n",
       "75%         16.000000        192.000000     59.000000      2.000000   \n",
       "max         62.000000        749.000000     96.000000      8.000000   \n",
       "\n",
       "                bal  calls_6_mnth  logons_6_mnth  \n",
       "count  7.059400e+04  70594.000000   70594.000000  \n",
       "mean   1.474467e+05      3.382469       5.566720  \n",
       "std    3.015106e+05      2.236595       2.353296  \n",
       "min    1.378942e+04      0.000000       1.000000  \n",
       "25%    3.734660e+04      1.000000       4.000000  \n",
       "50%    6.333459e+04      3.000000       5.000000  \n",
       "75%    1.375461e+05      6.000000       7.000000  \n",
       "max    1.632004e+07      7.000000       9.000000  "
      ]
     },
<<<<<<< HEAD
     "execution_count": 223,
=======
     "execution_count": 563,
>>>>>>> main
     "metadata": {},
     "output_type": "execute_result"
    }
   ],
   "source": [
    "clients[clients_num].describe()"
   ]
  },
  {
   "cell_type": "markdown",
   "metadata": {},
   "source": [
    "### Events"
   ]
  },
  {
   "cell_type": "code",
<<<<<<< HEAD
   "execution_count": 224,
=======
   "execution_count": 564,
>>>>>>> main
   "metadata": {},
   "outputs": [
    {
     "data": {
      "text/html": [
       "<div>\n",
       "<style scoped>\n",
       "    .dataframe tbody tr th:only-of-type {\n",
       "        vertical-align: middle;\n",
       "    }\n",
       "\n",
       "    .dataframe tbody tr th {\n",
       "        vertical-align: top;\n",
       "    }\n",
       "\n",
       "    .dataframe thead th {\n",
       "        text-align: right;\n",
       "    }\n",
       "</style>\n",
       "<table border=\"1\" class=\"dataframe\">\n",
       "  <thead>\n",
       "    <tr style=\"text-align: right;\">\n",
       "      <th></th>\n",
       "      <th>client_id</th>\n",
       "      <th>visitor_id</th>\n",
       "      <th>visit_id</th>\n",
       "      <th>process_step</th>\n",
       "      <th>date_time</th>\n",
       "    </tr>\n",
       "  </thead>\n",
       "  <tbody>\n",
       "    <tr>\n",
       "      <th>0</th>\n",
       "      <td>9988021</td>\n",
       "      <td>580560515_7732621733</td>\n",
       "      <td>781255054_21935453173_531117</td>\n",
       "      <td>step_3</td>\n",
       "      <td>2017-04-17 15:27:07</td>\n",
       "    </tr>\n",
       "    <tr>\n",
       "      <th>1</th>\n",
       "      <td>9988021</td>\n",
       "      <td>580560515_7732621733</td>\n",
       "      <td>781255054_21935453173_531117</td>\n",
       "      <td>step_2</td>\n",
       "      <td>2017-04-17 15:26:51</td>\n",
       "    </tr>\n",
       "    <tr>\n",
       "      <th>2</th>\n",
       "      <td>9988021</td>\n",
       "      <td>580560515_7732621733</td>\n",
       "      <td>781255054_21935453173_531117</td>\n",
       "      <td>step_3</td>\n",
       "      <td>2017-04-17 15:19:22</td>\n",
       "    </tr>\n",
       "    <tr>\n",
       "      <th>3</th>\n",
       "      <td>9988021</td>\n",
       "      <td>580560515_7732621733</td>\n",
       "      <td>781255054_21935453173_531117</td>\n",
       "      <td>step_2</td>\n",
       "      <td>2017-04-17 15:19:13</td>\n",
       "    </tr>\n",
       "    <tr>\n",
       "      <th>4</th>\n",
       "      <td>9988021</td>\n",
       "      <td>580560515_7732621733</td>\n",
       "      <td>781255054_21935453173_531117</td>\n",
       "      <td>step_3</td>\n",
       "      <td>2017-04-17 15:18:04</td>\n",
       "    </tr>\n",
       "  </tbody>\n",
       "</table>\n",
       "</div>"
      ],
      "text/plain": [
       "   client_id            visitor_id                      visit_id process_step  \\\n",
       "0    9988021  580560515_7732621733  781255054_21935453173_531117       step_3   \n",
       "1    9988021  580560515_7732621733  781255054_21935453173_531117       step_2   \n",
       "2    9988021  580560515_7732621733  781255054_21935453173_531117       step_3   \n",
       "3    9988021  580560515_7732621733  781255054_21935453173_531117       step_2   \n",
       "4    9988021  580560515_7732621733  781255054_21935453173_531117       step_3   \n",
       "\n",
       "             date_time  \n",
       "0  2017-04-17 15:27:07  \n",
       "1  2017-04-17 15:26:51  \n",
       "2  2017-04-17 15:19:22  \n",
       "3  2017-04-17 15:19:13  \n",
       "4  2017-04-17 15:18:04  "
      ]
     },
<<<<<<< HEAD
     "execution_count": 224,
=======
     "execution_count": 564,
>>>>>>> main
     "metadata": {},
     "output_type": "execute_result"
    }
   ],
   "source": [
<<<<<<< HEAD
    "events = pd.concat([events_1, events_2])\n",
=======
    "# there are two datasets for events. We want to merge them. \n",
    "events_1_raw.shape\n",
    "events_2_raw.shape\n",
    "\n",
    "# both columns have the same columns, we can savely concat them.\n",
    "events = pd.concat([events_1_raw, events_2_raw])\n",
>>>>>>> main
    "events.head()"
   ]
  },
  {
   "cell_type": "markdown",
   "metadata": {},
   "source": [
    "### Exploring numerical and categorical variables"
   ]
  },
  {
   "cell_type": "code",
<<<<<<< HEAD
   "execution_count": 225,
=======
   "execution_count": 565,
>>>>>>> main
   "metadata": {},
   "outputs": [
    {
     "data": {
      "text/plain": [
       "gendr\n",
       "U    24122\n",
       "M    23724\n",
       "F    22745\n",
       "X        3\n",
       "Name: count, dtype: int64"
      ]
     },
     "execution_count": 225,
     "metadata": {},
     "output_type": "execute_result"
    }
   ],
   "source": [
    "clients['gendr'].value_counts()"
   ]
  },
  {
   "cell_type": "code",
<<<<<<< HEAD
   "execution_count": 226,
=======
   "execution_count": 566,
>>>>>>> main
   "metadata": {},
   "outputs": [
    {
     "data": {
      "text/plain": [
       "num_accts\n",
       "2    55496\n",
       "3    12529\n",
       "4     2241\n",
       "5      284\n",
       "6       33\n",
       "7        8\n",
       "1        2\n",
       "8        1\n",
       "Name: count, dtype: int64"
      ]
     },
     "execution_count": 226,
     "metadata": {},
     "output_type": "execute_result"
    }
   ],
   "source": [
    "clients['num_accts'].value_counts()"
   ]
  },
  {
   "cell_type": "code",
<<<<<<< HEAD
   "execution_count": 227,
=======
   "execution_count": 567,
   "metadata": {},
   "outputs": [],
   "source": [
    "# data types. \n",
    "events_categorical = ['client_id', 'visitor_id', 'visit_id', 'process_step']\n",
    "\n",
    "# ordinal: process_step\n",
    "events_numerical = ['date_time']\n",
    "\n",
    "# let's convert date_time to datetime. \n",
    "events['date_time'] = pd.to_datetime(events['date_time'])"
   ]
  },
  {
   "cell_type": "code",
   "execution_count": 568,
>>>>>>> main
   "metadata": {},
   "outputs": [
    {
     "data": {
      "text/plain": [
       "process_step\n",
       "start      234999\n",
       "step_1     162797\n",
       "step_2     132750\n",
       "step_3     111589\n",
       "confirm    102506\n",
       "Name: count, dtype: int64"
      ]
     },
<<<<<<< HEAD
     "execution_count": 227,
=======
     "execution_count": 568,
>>>>>>> main
     "metadata": {},
     "output_type": "execute_result"
    }
   ],
   "source": [
    "events['process_step'].value_counts()"
   ]
  },
  {
   "cell_type": "code",
<<<<<<< HEAD
   "execution_count": 228,
   "metadata": {},
   "outputs": [
    {
     "data": {
      "text/plain": [
       "Index(['client_id', 'visitor_id', 'visit_id', 'process_step', 'date_time'], dtype='object')"
      ]
     },
     "execution_count": 228,
     "metadata": {},
     "output_type": "execute_result"
    }
   ],
   "source": [
    "events.columns"
   ]
  },
  {
   "cell_type": "code",
   "execution_count": 229,
=======
   "execution_count": 569,
>>>>>>> main
   "metadata": {},
   "outputs": [],
   "source": [
    "events_categorical = ['client_id', 'visitor_id', 'visit_id', 'process_step']\n",
    "# ordinal: process_step\n",
    "events_numerical = ['date_time']"
   ]
  },
  {
   "cell_type": "code",
   "execution_count": 230,
   "metadata": {},
   "outputs": [],
   "source": [
    "events['date_time'] = pd.to_datetime(events['date_time'])"
   ]
  },
  {
   "cell_type": "code",
<<<<<<< HEAD
   "execution_count": 231,
   "metadata": {},
   "outputs": [
    {
     "data": {
      "text/plain": [
       "client_id                int64\n",
       "visitor_id              object\n",
       "visit_id                object\n",
       "process_step            object\n",
       "date_time       datetime64[ns]\n",
       "dtype: object"
      ]
     },
     "execution_count": 231,
     "metadata": {},
     "output_type": "execute_result"
    }
   ],
   "source": [
    "events.dtypes"
   ]
  },
  {
   "cell_type": "code",
   "execution_count": 232,
   "metadata": {},
   "outputs": [
    {
     "data": {
      "text/plain": [
       "Variation\n",
       "Test       26968\n",
       "Control    23532\n",
       "Name: count, dtype: int64"
      ]
     },
     "execution_count": 232,
     "metadata": {},
     "output_type": "execute_result"
    }
   ],
   "source": [
    "test['Variation'].value_counts()"
   ]
  },
  {
   "cell_type": "markdown",
   "metadata": {},
   "source": [
    "### Data cleaning"
   ]
  },
  {
   "cell_type": "code",
   "execution_count": 233,
   "metadata": {},
   "outputs": [],
   "source": [
    "clients = clients.dropna()"
   ]
  },
  {
   "cell_type": "code",
   "execution_count": 234,
   "metadata": {},
   "outputs": [
    {
     "data": {
      "text/plain": [
       "client_id       0\n",
       "visitor_id      0\n",
       "visit_id        0\n",
       "process_step    0\n",
       "date_time       0\n",
       "dtype: int64"
      ]
     },
     "execution_count": 234,
     "metadata": {},
     "output_type": "execute_result"
    }
   ],
   "source": [
    "events.isnull().sum()"
   ]
  },
  {
   "cell_type": "code",
   "execution_count": 235,
   "metadata": {},
   "outputs": [],
   "source": [
    "events = events.drop_duplicates()"
   ]
  },
  {
   "cell_type": "code",
   "execution_count": 236,
   "metadata": {},
   "outputs": [
    {
     "data": {
      "text/plain": [
       "client_id        0\n",
       "Variation    20109\n",
       "dtype: int64"
      ]
     },
     "execution_count": 236,
     "metadata": {},
     "output_type": "execute_result"
    }
   ],
   "source": [
    "test.isnull().sum()"
   ]
  },
  {
   "cell_type": "code",
   "execution_count": 237,
=======
   "execution_count": 570,
>>>>>>> main
   "metadata": {},
   "outputs": [
    {
     "data": {
      "text/html": [
       "<div>\n",
       "<style scoped>\n",
       "    .dataframe tbody tr th:only-of-type {\n",
       "        vertical-align: middle;\n",
       "    }\n",
       "\n",
       "    .dataframe tbody tr th {\n",
       "        vertical-align: top;\n",
       "    }\n",
       "\n",
       "    .dataframe thead th {\n",
       "        text-align: right;\n",
       "    }\n",
       "</style>\n",
       "<table border=\"1\" class=\"dataframe\">\n",
       "  <thead>\n",
       "    <tr style=\"text-align: right;\">\n",
       "      <th></th>\n",
       "      <th>client_id</th>\n",
       "      <th>Variation</th>\n",
       "    </tr>\n",
       "  </thead>\n",
       "  <tbody>\n",
       "    <tr>\n",
       "      <th>0</th>\n",
       "      <td>9988021</td>\n",
       "      <td>Test</td>\n",
       "    </tr>\n",
       "    <tr>\n",
       "      <th>1</th>\n",
       "      <td>8320017</td>\n",
       "      <td>Test</td>\n",
       "    </tr>\n",
       "    <tr>\n",
       "      <th>2</th>\n",
       "      <td>4033851</td>\n",
       "      <td>Control</td>\n",
       "    </tr>\n",
       "    <tr>\n",
       "      <th>3</th>\n",
       "      <td>1982004</td>\n",
       "      <td>Test</td>\n",
       "    </tr>\n",
       "    <tr>\n",
       "      <th>4</th>\n",
       "      <td>9294070</td>\n",
       "      <td>Control</td>\n",
       "    </tr>\n",
       "  </tbody>\n",
       "</table>\n",
       "</div>"
      ],
      "text/plain": [
       "   client_id Variation\n",
       "0    9988021      Test\n",
       "1    8320017      Test\n",
       "2    4033851   Control\n",
       "3    1982004      Test\n",
       "4    9294070   Control"
      ]
     },
<<<<<<< HEAD
     "execution_count": 237,
=======
     "execution_count": 570,
>>>>>>> main
     "metadata": {},
     "output_type": "execute_result"
    }
   ],
   "source": [
    "test = test_raw.copy()\n",
    "test.head()"
   ]
  },
  {
   "cell_type": "code",
<<<<<<< HEAD
   "execution_count": 238,
   "metadata": {},
   "outputs": [
    {
     "name": "stderr",
     "output_type": "stream",
     "text": [
      "C:\\Users\\Lidia Mayor\\AppData\\Local\\Temp\\ipykernel_30880\\3417416057.py:3: SettingWithCopyWarning: \n",
      "A value is trying to be set on a copy of a slice from a DataFrame.\n",
      "Try using .loc[row_indexer,col_indexer] = value instead\n",
      "\n",
      "See the caveats in the documentation: https://pandas.pydata.org/pandas-docs/stable/user_guide/indexing.html#returning-a-view-versus-a-copy\n",
      "  test_in['Variation'] = test_in['Variation'].apply(lambda x: 1 if x == 'Test' else 0)\n"
=======
   "execution_count": 571,
   "metadata": {},
   "outputs": [
    {
     "name": "stdout",
     "output_type": "stream",
     "text": [
      "<class 'pandas.core.frame.DataFrame'>\n",
      "RangeIndex: 70609 entries, 0 to 70608\n",
      "Data columns (total 2 columns):\n",
      " #   Column     Non-Null Count  Dtype \n",
      "---  ------     --------------  ----- \n",
      " 0   client_id  70609 non-null  int64 \n",
      " 1   Variation  50500 non-null  object\n",
      "dtypes: int64(1), object(1)\n",
      "memory usage: 1.1+ MB\n"
>>>>>>> main
     ]
    }
   ],
   "source": [
<<<<<<< HEAD
    "# Necesitamos solo los que estan en el experimento y \n",
    "test_in = test.dropna()\n",
    "test_in['Variation'] = test_in['Variation'].apply(lambda x: 1 if x == 'Test' else 0)"
   ]
  },
  {
   "cell_type": "code",
   "execution_count": 239,
   "metadata": {},
   "outputs": [],
   "source": [
    "# Necesitamos saber si estan en el experimento o no\n",
    "test['experiment'] = test['Variation'].notnull().astype(int)"
   ]
  },
  {
   "cell_type": "markdown",
   "metadata": {},
   "source": [
    "### Univariate Analysis"
   ]
  },
  {
   "cell_type": "code",
   "execution_count": 240,
   "metadata": {},
   "outputs": [
    {
     "data": {
      "text/html": [
       "<div>\n",
       "<style scoped>\n",
       "    .dataframe tbody tr th:only-of-type {\n",
       "        vertical-align: middle;\n",
       "    }\n",
       "\n",
       "    .dataframe tbody tr th {\n",
       "        vertical-align: top;\n",
       "    }\n",
       "\n",
       "    .dataframe thead th {\n",
       "        text-align: right;\n",
       "    }\n",
       "</style>\n",
       "<table border=\"1\" class=\"dataframe\">\n",
       "  <thead>\n",
       "    <tr style=\"text-align: right;\">\n",
       "      <th>col_0</th>\n",
       "      <th>count</th>\n",
       "    </tr>\n",
       "    <tr>\n",
       "      <th>num_accts</th>\n",
       "      <th></th>\n",
       "    </tr>\n",
       "  </thead>\n",
       "  <tbody>\n",
       "    <tr>\n",
       "      <th>1</th>\n",
       "      <td>2</td>\n",
       "    </tr>\n",
       "    <tr>\n",
       "      <th>2</th>\n",
       "      <td>55496</td>\n",
       "    </tr>\n",
       "    <tr>\n",
       "      <th>3</th>\n",
       "      <td>12529</td>\n",
       "    </tr>\n",
       "    <tr>\n",
       "      <th>4</th>\n",
       "      <td>2241</td>\n",
       "    </tr>\n",
       "    <tr>\n",
       "      <th>5</th>\n",
       "      <td>284</td>\n",
       "    </tr>\n",
       "    <tr>\n",
       "      <th>6</th>\n",
       "      <td>33</td>\n",
       "    </tr>\n",
       "    <tr>\n",
       "      <th>7</th>\n",
       "      <td>8</td>\n",
       "    </tr>\n",
       "    <tr>\n",
       "      <th>8</th>\n",
       "      <td>1</td>\n",
       "    </tr>\n",
       "  </tbody>\n",
       "</table>\n",
       "</div>"
      ],
      "text/plain": [
       "col_0      count\n",
       "num_accts       \n",
       "1              2\n",
       "2          55496\n",
       "3          12529\n",
       "4           2241\n",
       "5            284\n",
       "6             33\n",
       "7              8\n",
       "8              1"
      ]
     },
     "execution_count": 240,
     "metadata": {},
     "output_type": "execute_result"
    }
   ],
   "source": [
    "table_c = pd.crosstab(index = clients[\"num_accts\"],columns=\"count\")\n",
    "table_c "
   ]
  },
  {
   "cell_type": "code",
   "execution_count": 241,
   "metadata": {},
   "outputs": [
    {
     "name": "stderr",
     "output_type": "stream",
     "text": [
      "C:\\Users\\Lidia Mayor\\AppData\\Local\\Temp\\ipykernel_30880\\3211288094.py:2: FutureWarning: \n",
      "\n",
      "`shade` is now deprecated in favor of `fill`; setting `fill=True`.\n",
      "This will become an error in seaborn v0.14.0; please update your code.\n",
      "\n",
      "  sns.kdeplot(c['bal'], color='skyblue', shade=True)\n"
     ]
    },
    {
     "data": {
      "image/png": "iVBORw0KGgoAAAANSUhEUgAAAjcAAAHACAYAAABeV0mSAAAAOXRFWHRTb2Z0d2FyZQBNYXRwbG90bGliIHZlcnNpb24zLjkuMiwgaHR0cHM6Ly9tYXRwbG90bGliLm9yZy8hTgPZAAAACXBIWXMAAA9hAAAPYQGoP6dpAABVIUlEQVR4nO3deXRV5b038O8+83wyT5CQIKOAgICCgoi4UFCuqG211yq2965V5yov763aXm2tLe191XpdvcWrRSh1boNKHUFl0IIiQxgkzCEJISEkOWNy5v28f8ScGkggw0n2Oft8P2vttXr2fnbO72xPeX7nGSUhhAARERGRSmiUDoCIiIgokZjcEBERkaowuSEiIiJVYXJDREREqsLkhoiIiFSFyQ0RERGpCpMbIiIiUhUmN0RERKQqTG6IiIhIVZjcEBERkaqkdXKzefNmLFy4EEVFRZAkCW+//faAvt8vfvELSJLU6SgoKBjQ9yQiIko3aZ3ctLa2YuLEifjDH/4waO85btw41NfXx4+9e/cO2nsTERGlA53SAShp/vz5mD9/frfXw+Ewfv7zn+OVV16B2+3G+PHj8bvf/Q5XXnlln99Tp9OxtYaIiGgApXXLzfn88Ic/xD/+8Q+8/vrr2LNnD7773e/i2muvxeHDh/v8Nw8fPoyioiKUlZXh1ltvxbFjxxIYMREREUlCCKF0EMlAkiS89dZbWLRoEQDg6NGjGDlyJE6cOIGioqJ4uauvvhqXXHIJfvOb3/T6PT744AO0tbVh1KhROHXqFJ588kkcOHAAX3/9NbKzsxP1UYiIiNIaW266sXPnTgghMGrUKNhstvixadMmHD16FABw/PjxswYIn3ncd9998b85f/583HzzzZgwYQKuvvpqvPfeewCAP//5z4p8RiIiIjVK6zE35yLLMrRaLXbs2AGtVtvpms1mAwAMGTIElZWV5/w7mZmZ3V6zWq2YMGFCv7q5iIiIqDMmN92YPHkyYrEYGhsbMWvWrC7L6PV6jBkzps/vEQqFUFlZ2e3fJyIiot5L6+TG7/fjyJEj8ddVVVWoqKhAVlYWRo0ahdtuuw133HEHnn76aUyePBlNTU349NNPMWHCBCxYsKDX77d06VIsXLgQJSUlaGxsxJNPPgmv14vFixcn8mMRERGltbQeULxx40bMmTPnrPOLFy/GqlWrEIlE8OSTT2L16tWoq6tDdnY2ZsyYgV/+8peYMGFCr9/v1ltvxebNm9HU1ITc3FxMnz4dv/rVr3DhhRcm4uMQERER0jy5ISIiIvXhbCkiIiJSFSY3REREpCppN6BYlmWcPHkSdrsdkiQpHQ4RERH1gBACPp8PRUVF0GjO0zYjFPSb3/xGTJ06VdhsNpGbmytuuOEGceDAgXPes2HDBgHgrKOysrJH71lbW9vl/Tx48ODBgweP5D9qa2vPW9cr2nKzadMm3HvvvZg2bRqi0Sh+9rOfYd68edi/fz+sVus57z148CAcDkf8dW5ubo/e0263AwBqa2s73U9ERETJy+v1ori4OF6Pn4uiyc2HH37Y6fXKlSuRl5eHHTt24IorrjjnvXl5ecjIyOj1e3Z0RTkcDiY3REREKaYnQ0qSakCxx+MBAGRlZZ237OTJk1FYWIi5c+diw4YN3ZYLhULwer2dDiIiIlKvpEluhBBYsmQJZs6cifHjx3dbrrCwEC+88ALKy8uxZs0ajB49GnPnzsXmzZu7LL9s2TI4nc74UVxcPFAfgYiIiJJA0izid++99+K9997D559/jqFDh/bq3oULF0KSJKxdu/asa6FQCKFQKP66o8/O4/GwW4qIiChFeL1eOJ3OHtXfSdFyc//992Pt2rXYsGFDrxMbAJg+fXq3O2sbjcb4+BqOsyEiIlI/RQcUCyFw//3346233sLGjRtRVlbWp7+za9cuFBYWJjg6IiIiSkWKJjf33nsvXn31Vbzzzjuw2+1oaGgAADidTpjNZgDAI488grq6OqxevRoA8Oyzz6K0tBTjxo1DOBzGyy+/jPLycpSXlyv2OYiIiCh5KJrcLF++HABw5ZVXdjq/cuVK3HnnnQCA+vp61NTUxK+Fw2EsXboUdXV1MJvNGDduHN577z0sWLBgsMImIiKiJJY0A4oHS28GJBEREVFySLkBxURERESJwuSGiIiIVIXJDREREakKkxsiIiJSFSY3REREpCpMboiIiEhVFF3nhkhJshCo9kXgDsdQaNEjz6yFRpKUDouIiPqJyQ2lHSEEvjgVwFenA2iL/nOZJ6NWwrXFNozNNCoYHRER9ReTG0orQgisO9GKXU1BjHTqUWY3wGnQwBWK4ZAngneO+3CyNYI5Q6xsxSEiSlFMbihtCCHwXrUf+1whXJJrwgVOQ/xarlmHHJMWOSYNtp8OIiID15bYFIyWiIj6iskNpY29LSHsc4UwI9+MUrv+rOuSJGF0hhE6jYRtjUEMseowIdukQKRERNQfnC1FaaE1IuOTulaU2vVdJjbfdoHDgOF2PT6q9aMxEB2kCImIKFGY3FBaWH/CDwC4OKdng4Wn5Jpg02vw9+M+yOm1tywRUcpjckOqd9wXxgF3GBfnmGDU9uwrr9NImJZnwulgDHtbQgMcIRERJRKTG1K9rQ0BZBk1GGbr3RCzHJMOw2x6bDrZilBMHqDoiIgo0ZjckKo1tEVR7Y9gTIYRUh+mdk/MNiIUE/jyVGAAoiMiooHA5IZUbVtjG2w6CcW9bLXpYNVrMCbDgC8bA2iNsPWGiCgVMLkh1fKEY6h0hTEqw9CvBflGZxghAdjRxNYbIqJUwOSGVGvn6SD0GgnDHYbzFz4Ho1bCBQ4DdpwOIhzjzCkiomTH5IZUSQiBr10hDLProNf0fxuF0RkGhGMCu5uDCYiOiIgGEpMbUqXa1ij8ERnDbOdesK+nrHoNhtn12NYYQIzr3hARJTUmN6RK+1tCsOok5Ji0CfubYzMM8EVkHHKHE/Y3iYgo8ZjckOrEZIED7hBKbPo+Tf/uToZRi1yTFrs4sJiIKKkxuSHVqfJFEIwJDDvPHlJ9McJpQI0/ipZgLOF/m4iIEoPJDanOflcQToMGGYbEf72LrToYtRIqOLCYiChpMbkhVYkJgSOeCIoT3CXVQauRUGbXY09zEFGZA4uJiJIRkxtSlZOtUYRlgSJL31Yk7okLHHoEY+3jeoiIKPkwuSFVqfKGYdRKyDQO3FfbYdAiz6zF3mYmN0REyYjJDanKUW8YBWZtv7Zb6Ikyux7V/gi8YQ4sJiJKNkxuSDVaIzJOBWIoHMAuqQ7FNj10ErCvha03RETJhskNqUaVr31xvYJBSG70GglDbXrsbQlCcMViIqKkwuSGVKPKG0GmUQOzbnC+1mV2PVwhGSfbooPyfkRE1DNMbkgVhBA45g0PSpdUhzyzFhadxK4pIqIkw+SGVOF0MIZATCDfPHjJjUaSMMymR6UrhBjXvCEiShpMbkgVTvgjkICEbpTZE6X29jVvjvm4mSYRUbJgckOqcKI1iiyjFjrNwE4BP1OGUYsMgwb72TVFRJQ0mNyQKpzwRwa91abDMLsehz1hhGKyIu9PRESdMbmhlOcNx+CNyMg1K5Tc2PSICuCwh11TRETJgMkNpby61vap2Eq13Fj1GuSatOyaIiJKEkxuKOXV+iOw6wdvfZuuDLPrUeWLoDXCrikiIqUxuaGUd6JVufE2HUps7VPQD3KncCIixTG5oZQWisk4HYgpNt6mg1GrQYFFh/0uJjdEREpjckMp7WRrFAJArsItNwAwzKbDidYodwonIlIYkxtKafVtUeg1gF2v/Fd5qE0PrQRUsvWGiEhRytcIRP3Q0Na+eJ8kDe7ifV3RayQUsWuKiEhxTG4opTW0RZFpVL5LqsMwux6nAjG0BNk1RUSkFCY3lLICURneiIysJEpuiiw66DVg6w0RkYKY3FDKamhrX7wv05g8X2OtRsJQqx5fu4IQgjuFExEpIXlqBaJeakiiwcTfNsyuhysk41SAXVNEREpIrlqBqBc6xtskw2Dib8s3a2HSSvi6Jah0KEREaYnJDaWshkAUmYbkGW/TQSNJKLHpUekKQWbXFBHRoGNyQykpGJXhCcvISoLF+7oyzK6DPypQ648oHQoRUdphckMpqSGQfIOJvy3bqIVNL+FrzpoiIhp0yVkzEJ3HqbYodFLyDSbuIEkShtn0OOAKIyqza4qIaDAlZ81AdB6nAjFkGLXQJNlg4m8rtesRlgWOeMJKh0JElFaY3FBKagxEkWFI7q+vw6BFtlGLfZw1RUQ0qJK7diDqQkwItIRicCbhTKkzldr1OOaNoC0iKx0KEVHaYHJDKccVjEEWQEaSDib+tmF2HQSASjcHFhMRDZbkrx2IznD6m00pnUneLQUARq0GRVYd9rJrioho0CR/7UB0htPBKMxaCUZtanx9y+x6NLTFcPqb6etERDSwUqN2IPqWpkBqjLfpUGTVwaiVsKeZrTdERIOByQ2lnNOBaEp0SXXQShJKbXrsawkhxjVviIgGnKI1xLJlyzBt2jTY7Xbk5eVh0aJFOHjw4Hnv27RpE6ZMmQKTyYThw4fj+eefH4RoKRlEZAFXWIYzBQYTf9twhx6BmMARL9e8ISIaaIrWEJs2bcK9996LL774AuvXr0c0GsW8efPQ2tra7T1VVVVYsGABZs2ahV27duHRRx/FAw88gPLy8kGMnJTSnEKDib8tw9i+5g27poiIBp5OyTf/8MMPO71euXIl8vLysGPHDlxxxRVd3vP888+jpKQEzz77LABg7Nix2L59O5566incfPPNAx0yKaxjUG4qjbnpUObQY8fpIHzhGOwpGD8RUapIqp+/Ho8HAJCVldVtma1bt2LevHmdzl1zzTXYvn07IpGzd2AOhULwer2dDkpdTcEYbDoJek3ybrvQnVK7HloJqGDrDRHRgEqa5EYIgSVLlmDmzJkYP358t+UaGhqQn5/f6Vx+fj6i0SiamprOKr9s2TI4nc74UVxcnPDYafCcDkThSNFWD71GwjC7HrubgogJDiwmIhooSZPc3HfffdizZw9ee+2185aVztgsUXxTUZx5HgAeeeQReDye+FFbW5uYgEkRp4OxlBtv820jnQb4o9xMk4hoICk65qbD/fffj7Vr12Lz5s0YOnToOcsWFBSgoaGh07nGxkbodDpkZ2efVd5oNMJoNCY0XlJGOCbgi8hwpHByk2nUIsekxc7TQYzO4PeSiGggKFpLCCFw3333Yc2aNfj0009RVlZ23ntmzJiB9evXdzq3bt06TJ06FXq9fqBCpSTQEmqfKZXKyQ0AjHDoUe2PoOWbmV9ERJRYitYS9957L15++WW8+uqrsNvtaGhoQENDAwKBQLzMI488gjvuuCP++q677kJ1dTWWLFmCyspKvPTSS1ixYgWWLl2qxEegQRRPbvSpOeamQ4lND6NWwvbTgfMXJiKiXlM0uVm+fDk8Hg+uvPJKFBYWxo833ngjXqa+vh41NTXx12VlZXj//fexceNGTJo0Cb/61a/w3HPPcRp4GmgORmHSSjBoU2+m1LdpNRJGOvTY0xxEMCorHQ4RkepIQqTXtA2v1wun0wmPxwOHw6F0ONQL71R50RyKYe4Qq9Kh9FsgKuPv1X7MLLBgRoFF6XCIiJJeb+rv1B68QGmlORSDXa+Or6xZp8Ewux47Tge43xQRUYKpo6Yg1RNCoCWonuQGAMZ8My280h1SOhQiIlVRT01BquaLyIiK1J8p9W1OoxaFFh2+OBVAmvUOExENKPXUFKRqHRtmpvpMqTONyzSgKRjDIS7qR0SUMExuKCW0hGLQALDqU3um1JlyzTrkm7X4R0MbW2+IiBKEyQ2lhOZgDHaDBpoutthIdeMyjWgMxHDEy9YbIqJEYHJDKaFZZYOJvy3PrEWuSYt/1LP1hogoEdRZW5DqtIRiqhpM/G2SJGFClhENgRgOcuwNEVG/qbO2IFXp2DBTrS03AJBv0aHQosOmk62IsfWGiKhf1FtbkGq44ntKqfvrOjHbCFdIxp7moNKhEBGlNHXXFqQKHcmNXaXdUh0yjVqU2vT4vL4N4Rhbb4iI+krdtQWpgisUg14DGDTqmyl1pgnZRgRjAltPtSkdChFRymJyQ0nPFY7BrtdCUuE08DPZ9BqMzTDgy8YAWr5ZuJCIiHqHyQ0lPVcwBpvKFu87l7GZRpi1Etaf8HNqOBFRHzC5oaTnCqt7ptSZdBoJF+eYUOWLcFsGIqI+SJ8ag1JSRBbwR2TY0ii5AYAhVh2KrDqsq/UjGJWVDoeIKKWkV41BKcfdMVMqzZIbSZIwLdeEsCzwSV2r0uEQEaWU9KoxKOV0TANPt5YbALDoNJicY8LelhCOcd8pIqIeS78ag1KKKxSDTgJM2vQZUPxtw+16FFh0eL/ahzZ2TxER9QiTG0pqrpAMu0GTFtPAuyJJEi7NMyEigPerfZw9RUTUA0xuKKm5QjHYdOn9NbXoNLg0z4Qj3gh2NnFrBiKi80nvWoOSnisUS8vxNmcaYtVjpFOPT+taUd8aUTocIqKkxlqDklZUFvBGZNXvKdVTk3NMyDBosabKh7YIx98QEXWHtQYlLU84PaeBd0crSZhZaEZEFnj7uBcyx98QEXWJtQYlLVeovXWC3VL/ZNFpcHmBGbX+KNafaOUAYyKiLrDWoKTlCsWglQBzmk4D706eWYdpuSbsagriq9McYExEdCad0gEQdccdbh9MnK7TwM/lAqcBvoiMT+ta4TBoMCbDqHRIRERJgy03lLTcoRisaT4N/FwmZhtRYtPj78d9qPZxBWMiog6sOShpuULpt2Fmb0iShOn5JuSadSg/5kVDW1TpkIiIkgJrDkpKQgh4wjHY9OySOhetJGFmgRl2vRZvHPGgKcAEh4iIyQ0lJX9URkxwplRP6DUSZhdZYNRKeO2IBy3BmNIhEREpijUHJSV3xzRwjrnpEaNWwpwiC7RSe4LjDjHBIaL0xZqDklJH5Wxly02PmXQazBliAQC8esQTXwSRiCjdsOagpOQOx2DWStBpOOamNyw6DeYUWRCTBV477IGPCQ4RpSEmN5SU3CGZrTZ9ZNVrcNUQK8KywKtHPPBzHyoiSjOsPSgpdSzgR31j02twVZEVwajA60c83GiTiNIKaw9KSu5QDDYdu6T6w27Q4KohFvgjMt446kEwxgSHiNIDkxtKOhFZoDUq2HKTAA6DFlcWWeAKyfjbUS8iMjfaJCL1Y+1BScfzzUwpJjeJkWnUYnaRGQ1tUbx1zIsYdxInIpVj7UFJxx1u7z7hgOLEyTHpMKvQguO+CD6o9kMwwSEiFWPtQUnHHYpBKwFmLcfcJFKBRYfp+Wbsc4Wwqb5N6XCIiAaMTukAiM7UMVNKkpjcJNowux6BmIwvTgXgNGgwOcesdEhERAnH5IaSjjsUg5XbLgyYMRlG+CMy1tW2IsOgRZnDoHRIREQJxRqEko47LMPK3cAH1MU5JhRadHirysedxIlIdZjcUFIRQsATZsvNQNNIEi4rMMOik/C3Y14EolwDh4jUgzUIJZVAVCAicxr4YNBrJMwqtCAQFXjnuA8yZ1ARkUqwBqGk4g5zjZvBZNNrcFmBGdW+CDae5AwqIlIH1iCUVDwda9ywW2rQFFh0mJRjxLbGACpdIaXDISLqN9YglFTcoRgMGgkGrnEzqEY7DRhm0+P9Gg4wJqLUx+SGkkr7GjdMbAabJEmYlmeCRafBmiovQtxkk4hSGJMbSirukMwuKYXoNRJmFpjhi8j4oIZbNBBR6mItQknFE45xTykFOQxaXJJnxgF3GDubgkqHQ0TUJ6xFKGnIQsAbkTlTSmElNj1GOQ34pK4V9a0RpcMhIuo11iKUNHwRGbIArDqOuVHapBwjMg1avFXlQ5AL/BFRimFyQ0nDE2qvRNlyozytJOHyAjOCMYF3q30cf0NEKYW1CCWNjgX8OKA4OVj1GkzPN+GIN4JtjQGlwyEi6jHWIpQ0POEYzFoJWg27pZLFEKseYzMM2HiyDbV+jr8hotTA5IaShjskc6ZUEroo24gckxbvVHnRFuH4GyJKfqxJKGl4wjGOt0lCHTuIRwW4wSYRpQTWJJQ03GGZM6WSlEWnwYx8M2r8EXxezw02iSi5MbmhpBCVBfxc4yapFVh0mJBlxJZTARzxhJUOh4ioW6xJKCl4OFMqJVyYacAQqw5/r/bBFYopHQ4RUZcUrUk2b96MhQsXoqioCJIk4e233z5n+Y0bN0KSpLOOAwcODE7ANGA8Ya5xkwokScL0PDMMGgnlx7wIxzj+hoiSj6I1SWtrKyZOnIg//OEPvbrv4MGDqK+vjx8jR44coAhpsLhDMUgAzBxzk/QM2vYNNt2hGD6o4QJ/RJR8dEq++fz58zF//vxe35eXl4eMjIzEB0SK8YTbx9toJCY3qSDDqMWl+Wb8oyGA/MYApudblA6JiCguJfsAJk+ejMLCQsydOxcbNmw4Z9lQKASv19vpoOTjDsc43ibFlNj0uDCzfYG/oxxgTERJJKVqk8LCQrzwwgsoLy/HmjVrMHr0aMydOxebN2/u9p5ly5bB6XTGj+Li4kGMmHrKHYrBqmerTaq5KMuIIVYd3jnuQ1MwqnQ4REQAAEkkSYe5JEl46623sGjRol7dt3DhQkiShLVr13Z5PRQKIRQKxV97vV4UFxfD4/HA4XD0J2RKoN/vacZopwHjsoxKh0K9FJEF1p9oBQAsHp0BC1vgiGgAeL1eOJ3OHtXfKf+v0PTp03H48OFurxuNRjgcjk4HJZdgVEYoJjhTKkXpNRKuKLQgFBNYc8yLqJwUv5eIKI2lfG2ya9cuFBYWKh0G9YOb08BTnk2vwcwCM062RfFhjZ8zqIhIUYrOlvL7/Thy5Ej8dVVVFSoqKpCVlYWSkhI88sgjqKurw+rVqwEAzz77LEpLSzFu3DiEw2G8/PLLKC8vR3l5uVIfgRIgvoAfx9yktFyzDpfmmbH1VABOowazCq1Kh0REaUrR5Gb79u2YM2dO/PWSJUsAAIsXL8aqVatQX1+Pmpqa+PVwOIylS5eirq4OZrMZ48aNw3vvvYcFCxYMeuyUOO5QDDoJMGqY3KS6UrserREZ/2gIwGnQ4qJsk9IhEVEaSpoBxYOlNwOSaHCsq/XjmDeM+SU2pUOhBBBC4KvTQVR5I/jOBQ4MdxiUDomIVCCtBhRT6nOHY7ByvI1qSJKEqbkmFFh0eKvKi4Y2ThEnosHFGoUU5w7JXMBPZTSShMsLzHDotXjzqAdubrJJRIOINQopSggBTzgGGwcTq45OI+GKIjO0koTXj3jQGpGVDomI0gSTG1JUa1QgJsBuKZUyaTW4sqh9DZw3jnoQijHBIaKB16capaqqKtFxUJrq6K6wsVtKtWx6DWYXWeAKxVDORf6IaBD0qUYZMWIE5syZg5dffhnBYDDRMVEacX+zxg0X8FO3TKMWVxRaUNcaxdrjPsjpNUmTiAZZn2qU3bt3Y/Lkyfg//+f/oKCgAD/+8Y+xbdu2RMdGacAdkmHWStBxjRvVyzPrcFmBGYc9YayrbeUqxkQ0YPqU3IwfPx7PPPMM6urqsHLlSjQ0NGDmzJkYN24cnnnmGZw+fTrRcZJKuUKcBp5Ohlr1uCTPhIrmID6rb1M6HCJSqX7VKjqdDjfeeCPefPNN/O53v8PRo0exdOlSDB06FHfccQfq6+sTFSeplDscY5dUmhnuMGBSthFbTgWwvTGgdDhEpEL9qlW2b9+Oe+65B4WFhXjmmWewdOlSHD16FJ9++inq6upwww03JCpOUilXKAabjl1S6WZsphFjMgz4uK4VX7dw3B4RJVaf9pZ65plnsHLlShw8eBALFizA6tWrsWDBAmg07blSWVkZ/vd//xdjxoxJaLCkLhFZoC0q2HKTpiZlGxGKCbxX44dFp0EZt2kgogTpU3KzfPly/OhHP8IPf/hDFBQUdFmmpKQEK1as6FdwpG7xaeBMbtKSJEm4JM+EUExgTZUX/zrSiUKLXumwiEgF+pTcrF+/HiUlJfGWmg5CCNTW1qKkpAQGgwGLFy9OSJCkTpwGTh3bNGw42YY3j3hxx+gMZBq1SodFRCmuT7XKBRdcgKamprPOt7S0oKysrN9BUXpwhWRoJcCk5ZibdKbTSLii0Ay9hts0EFFi9Cm56W59Cr/fD5PJ1K+AKH24Q+0zpSSJyU26M2rbVzEOxwTePOpBOMY1cIio73rVLbVkyRIA7X3ljz32GCwWS/xaLBbDl19+iUmTJiU0QFKvjuSGCPjnNg0fn2jF28e9+M5wBzRMfImoD3qV3OzatQtAe8vN3r17YTD8c3aDwWDAxIkTsXTp0sRGSKrlCseQZ+rTsC9SqUyjFjMLLdh0sg3raltxTbGVLXtE1Gu9qlk2bNgAAPjhD3+I//7v/4bD4RiQoEj9ZCHgDcsYbmfLDXVWaNHhkjwTvmwMIsOowfR8y/lvIiL6lj79bF65cmWi46A044/IiAnApuevcjrbcIcBrREZG0+2wWnQYmymUemQiCiF9Di5uemmm7Bq1So4HA7cdNNN5yy7Zs2afgdG6ubiGjd0HuOzjPBHBd6t9sGu12CojWvgEFHP9Di5cTqd8b5vp9M5YAFRenCH26f7ctNM6k7HIn9tURnlx7xYPDoDGVwDh4h6QBLdzetWKa/XC6fTCY/HwzFDCtp0shV7moP4l1K70qFQkgvFZKw/0Qa9RsIdo5ww6ZgQE6Wj3tTfffpXIhAIoK2tLf66uroazz77LNatW9eXP0dpqIXTwKmHjFoNrig0wx+R8fZxH2Lp9XuMiPqgT7XLDTfcgNWrVwMA3G43LrnkEjz99NO44YYbsHz58oQGSOrUEozBzuSGeshh0GJmgRnVvgg+PtHa7UKiRERAH5ObnTt3YtasWQCAv/3tbygoKEB1dTVWr16N5557LqEBkvoIIeAOs+WGeiffosO0XBN2NQWx/XRQ6XCIKIn1aSp4W1sb7Pb2sRLr1q3DTTfdBI1Gg+nTp6O6ujqhAZL6+KMyIjJgNzC5od65wGmANyLj07pWZJu0GO4wnP8mIko7fapdRowYgbfffhu1tbX46KOPMG/ePABAY2MjB+nSebmC7TOl2C1FfTEx24hCqw5vV/nQFIgqHQ4RJaE+1S6PPfYYli5ditLSUlx66aWYMWMGgPZWnMmTJyc0QFIfVygGCVzjhvpGI0m4LN8Mi07CX4950RblLuJE1FmfapfvfOc7qKmpwfbt2/Hhhx/Gz8+dOxe///3vExYcqVNLKAarToKWewZRH+k1EmYVWhCKCaw55kVM5gBjIvqnPu9aWFBQgIKCgk7nLrnkkn4HROrnCsVgM3AxNuofm16DmQVmfFrXhnUn/Li22MZNNokIQB+Tm9bWVvz2t7/FJ598gsbGRshy52bhY8eOJSQ4UqeWUAyZRnZJUf/lmnWY9s0mm9kmHS7JMysdEhElgT4lN//+7/+OTZs24fbbb0dhYSF/LVGPCSHgCsVQbOtzoyFRJ8MdBnjCMjbUtSLbqMUFTs6gIkp3faphPvjgA7z33nu4/PLLEx0PqZzvm93AOVOKEmlithHeiIx3jntxx6gM5JiZPBOlsz7VMJmZmcjKykp0LJQGWr7ZDZzJDSXSP2dQaTiDioj6ltz86le/wmOPPdZpfyminuA0cBoonEFFRB361Hb79NNP4+jRo8jPz0dpaSn0en2n6zt37kxIcKQ+rpAMm14DDcdp0QD49gyqj2r9mF/CGVRE6ahPyc2iRYsSHAali5ZglK02NKC+PYMqx8wZVETpqE/JzeOPP57oOChNNIdiyDVxsCcNrOEOA7ycQUWUtvr8E9rtduNPf/oTHnnkEbS0tABo746qq6tLWHCkLjFZwB2S4eSGmTQILso2osiqwzvHvTjNPaiI0kqfapk9e/Zg1KhR+N3vfoennnoKbrcbAPDWW2/hkUceSWR8pCItoRgEAAeTGxoEGknCjG9mUP2NM6iI0kqfapklS5bgzjvvxOHDh2EymeLn58+fj82bNycsOFKX5mD7NHAmNzRY9BoJV3AGFVHa6VMt89VXX+HHP/7xWeeHDBmChoaGfgdF6tQcisGolWDSMrmhwWP9ZgbVybYoPqr1QwgmOERq16daxmQywev1nnX+4MGDyM3N7XdQpE7NwRgcnClFCsg16zAt14Q9LSFsPx1UOhwiGmB9qmluuOEGPPHEE4hEIgAASZJQU1ODhx9+GDfffHNCAyT1aApE2SVFihnuMGBMhgGf1rXiqCesdDhENID6VNM89dRTOH36NPLy8hAIBDB79myMGDECdrsdv/71rxMdI6mAEAItoRiTG1LUxGwjCq06vHPch+YgZ1ARqVWfFhxxOBz4/PPPsWHDBuzYsQOyLOPiiy/G1Vdfnej4SCU8YRlRATj0WqVDoTTWsQfV+hOt+OtRLxaPzoBZx4SbSG16ndzIsoxVq1ZhzZo1OH78OCRJQllZGQoKCiCE4FLn1KWOmVJc44aU1jGDal1tK96u8uGWEQ5uB0KkMr2qaYQQ+Jd/+Rf8+7//O+rq6jBhwgSMGzcO1dXVuPPOO3HjjTcOVJyU4pqCUegkwKJjJULKs+k1uLzAjBp/BJ/UtSodDhElWK9ablatWoXNmzfjk08+wZw5czpd+/TTT7Fo0SKsXr0ad9xxR0KDpNTX/M14G7bsUbLIt+gwJdeE7aeDyDXpMCnHdP6biCgl9Krl5rXXXsOjjz56VmIDAFdddRUefvhhvPLKKwkLjtSjORiDneNtKMmMdBowwqHHuhN+1PojSodDRAnSq+Rmz549uPbaa7u9Pn/+fOzevbvfQZG6CCHQFIxxvA0lpSm5JuSYtFhzzAtPOKZ0OESUAL2qbVpaWpCfn9/t9fz8fLhcrn4HRerij8oIxQSTG0pKGknC5QVmaCTgb0e9CMe4gjFRqutVbROLxaDTdT9MR6vVIhrl2hHUWWNb+6/hDCO7pSg5mbQazCq0wBWK4b1qH7doIEpxvRpQLITAnXfeCaPR2OX1UCiUkKBIXRoDUeg1gJUzpSiJZRq1mJ5vxucNAfyjIYCZhRalQyKiPupVcrN48eLzluFMKTpTYyCKDIOWM6Uo6RXb9JiQJePzhjbkmLUYk9H1DzkiSm69Sm5Wrlw5UHGQip0KxJBt4ngbSg3jMg3whGW8e9yHjFFaFFj6tJA7ESmINQ4NqIgs4ArFkGHgeBtKDZIk4dI8ExwGLf52zAt/RFY6JCLqJSY3NKCaglEItI9nIEoVOo2EWYVmxGSB8mNeRGQOMCZKJUxuaEA1BmKQwD2lKPVYdO0zqBoDUbzLGVREKYU1Dg2oxkAUdr0GOg0HE1PqyTZpMSPfjIPuMDbXtykdDhH1EJMbGlCn2qLIMPJrRqmr2KbHpGwjtp4KYHdTUOlwiKgHWOvQgBFCoDHAwcSU+sZktO9B9WGtH0c9YaXDIaLzUDS52bx5MxYuXIiioiJIkoS33377vPds2rQJU6ZMgclkwvDhw/H8888PfKDUJ96IjLAs2HJDKU+SJEzJNaHIqsNbVV7Ut3KTTaJkpmit09raiokTJ+IPf/hDj8pXVVVhwYIFmDVrFnbt2oVHH30UDzzwAMrLywc4UuqLU23tW3FwphSpgUaScFm+GRlGLd446kVTkFvNECUrRVenmj9/PubPn9/j8s8//zxKSkrw7LPPAgDGjh2L7du346mnnsLNN988QFFSX51si8KslWDWcjAxqYNOI2F2oQWf1LXi9SNe/GCkk3umESWhlOov2Lp1K+bNm9fp3DXXXIPt27cjEmEzcbI52RpBtonbLpC6GLQSriyyQALw2hEPvOGY0iER0RlSKrlpaGhAfn5+p3P5+fmIRqNoamrq8p5QKASv19vpoIEnC4H6tiiyTfxVS+pj1mkwp8iCqCzw6mEPfExwiJJKSiU3AM5qBehYWKu71oFly5bB6XTGj+Li4gGPkYDmYAwRGchmkz2plFWvwVVDrIjIAq8c9sDDBIcoaaRUclNQUICGhoZO5xobG6HT6ZCdnd3lPY888gg8Hk/8qK2tHYxQ097JbwYTZ7HlhlTM9k2CExUCLx/yoJmDjImSQkolNzNmzMD69es7nVu3bh2mTp0KvV7f5T1GoxEOh6PTQQOvvjWKDIMGeq5MTCpn02swd4gVGgl4+ZAHJzlNnEhxiiY3fr8fFRUVqKioANA+1buiogI1NTUA2ltd7rjjjnj5u+66C9XV1ViyZAkqKyvx0ksvYcWKFVi6dKkS4dM51LVG2GpDacOi02DuEAuseg1ePezBIXdI6ZCI0pqiyc327dsxefJkTJ48GQCwZMkSTJ48GY899hgAoL6+Pp7oAEBZWRnef/99bNy4EZMmTcKvfvUrPPfcc5wGnmTCMYGmYIzjbSitGLXtg4wLLTqsqfLhy1Nt3GyTSCGSSLP/93m9XjidTng8HnZRDZAafwSvHvbg2mIrF/CjtCOEwJ6WEPa7whiTYcCCEjsMXOuJqN96U3+n1JgbSg31rRHoJMBp4NeL0o8kSZiYbcLlBWYc8YSx+pAbpwMcaEw0mFj7UMLV+NsX79Nw8T5KYyU2PeYVt08V//NBN3Y3BdlNRTRImNxQQslCoNYfQb5Z0Z09iJKC06DFvKFWlNoN+KDWj/JjXrRGZKXDIlI9JjeUUA1tUYRlIN/MsTZEQPt+VNPyTJhVYMaJ1ij+VOlCpSvEVhyiAcTkhhKq2tc+3obTwIk6G2rTY36xFTkmLd457sOaY15u20A0QJjcUEId90WQZ9ZxvA1RF0w6DWYWWjCzwIza1iherHRh++kAZLbiECUUkxtKmKgsUNcaQR67pIjOqdimx3UlNpTY9Pj4RCtWH3Sjvo0rGxMlCpMbSpiTbVFEBTiYmKgHDFoJ0/LMuHqIBcGYwJ8PevBRrR/BKAccE/UXayFKmGpfGAaNhAwjc2ainso163BNsRWHPWHsbQnigCuEK4dYcVGWERK7d4n6hLUQJUy1r71LiuNtiHpHI0kYnWHEdSU25Ft0+KDGj9WHPGho4+J/RH3B5IYSoi0qo641ikILGwOJ+sqs02BGvhlzh1gQiMpYddDNriqiPmBNRAlx1BOGADDEyq8UUX/lfdNVdcgTxr5vuqquGmLFeHZVEfUIW24oIQ57wsgxaWHW8StFlAgaScKYDCMWlNiQZ9bhvRo/Xj3sQVOQXVVE58OaiPotIgsc84bZakM0ACw6DS4rMGNOkQXusIyXDrix+WQrojLXxiHqDpMb6rfjvjCigl1SRAOpwKLD/GIrxmYY8MWpAFYccKHWz7VxiLrC5Ib67bAnDLteA4eeXyeigaTVSLgo24Rri63QShJeOezBulo/QjEOOCb6NtZG1C+yEDjiae+S4kBHosHhNGoxd4gFF+cYsac5iBWVbhz3hZUOiyhpMLmhfqnxR9AWFSi2sUuKaDB1rI0zv8QGs07C60e8WFfrRzjGsThErJGoX/a1hGDXa5Bt5H5SREqw6TWYU2TBYU8EFc1BHPOGcf0wO4ba9EqHRqQYttxQn4VjAgfdIZTa9eySIlKQJEkYlWHA/GIrdBoJLx/2YGMdZ1RR+mJyQ3120B1CRAZK7fyFSJQM7Ib2sTgTs43Y1hjAnw+60RjgujiUfpjcUJ/tawkhz6yFjbOkiJKGRpJwYaYR84qtiMgCqw668cWpNsiCrTiUPlgrUZ94wzFU+yMoY6sNUVLKNGoxr9iKUU4DNp5swyuHPXCFYkqHRTQomNxQn+xuDkInAcUctEiUtLSShMk5JswdYoEnHMOKShd2ng5AsBWHVI7JDfVaTBaoaAqi1K6HXsOBxETJLs+sw7XFNpTa9Vh3ohWvHfHAzVYcUjEmN9RrB91htEYFRjkNSodCRD2k10iYlte+R1VzMIYVB1zY3hjgWBxSJSY31GvbTweQb9bCybVtiFJOgUWH+SXtrTgf17Xi5UMenOaMKlIZJjfUKw1tUZxsi7LVhiiF6TUSpuaacfUQC/wRGSsPuLGhrpWrG5NqMLmhXvmqsQ1WnYQi7gBOlPJyzTpcW2LF+Cwjtp8O4MVKFw64QhxwTCmPyQ31mCccQ6UrjFEZBmi4IjGRKmglCeOyjFhQYoPDoMHbx3147YgHp9rYVUWpi8kN9dhXjQHoNBIucLBLikhtbHoNrii0YHahGe6QjJUH3Xi/xgdfhLOqKPWwb4F6JBCVsbs5iFFOA6d/E6lYkVWPAosORzwR7GsJYX9LCJfkmXFpvhlGLX8PU2pgckM9suN0ELIABxITpQHNNxtxltr12O8K4cvGAHY2BXFZgQUX55ig4w8cSnJMbui8wjGBHacDGO7Qw6TjLzeidGHQSpiUY8KoDAP2tYSwoa4V2xoDuLzAjIuyTNAyyaEkxZqKzmt3cxDBmMCYDKPSoRCRAiw6DS7JM2NBiRXZRi0+qm3FC5Uu7GkOchFASkpMbuicYrLAl40BlNr13P2bKM05DFpcVmDG/GIr7HoN3q/x48X9LnzdwiSHkgtrKzqnfa4Q/BEZYzM51oaI2mUYtZhVaME1Q60w6zX4e7UfKyrdXCOHkgbH3FC3ZCGwtaENxVYdnAZutUBEnWWZtJhd2L5X1Z6WEN4+7kOuSYsriiwY4TBA4npYpBC23FC3DrnDcIdljM3kWBsi6l62SYs5RRZcPcQCSQLKj/mw+pAHx31hpUOjNMWWG+qSEAJfnGpDvlmLbBNbbYjo/HLNOlxVpEVDIIa9zSG8fsSLYTY9rhxiQaFFr3R4lEaY3FCXavwRNARiuLLQonQoRJRCJElCoUWHArMWJ1qj2NsSwp8PejA6w4Ari6zINPLHEg08JjfUpS9PBZBh0KDAwn+IiKj3JElCsU2PIVYdjvsi2NsSwov7XZiUY8LMAgssnH1JA4jJDZ2lMRDFMV8E0/NNHBBIRP2ikSQMdxhQYtPjkCeMvS1B7GsJYka+BdPyzFztmAYEkxs6y/bTAVh0EobZ2EdORImh00i4MNOICxx67GsJY3N9G3Y1BXHlECvGZnBmFSUW2wWpk0BUxtctIYxwGKDhPzZElGBGrQZTck1YUGKF3aDB2uM+vHzYg/rWiNKhkYowuaFOdjcHAQAXONlqQ0QDx2HQ4opCC+YUWdAakfHnQx68e9wHXySmdGikAuyWojhZCOw4HUSJTQ+TlnkvEQ28AosO1xRbccwbwZ6WEA56QpiRb8ElHI9D/cDkhuIOe8LwRWRclm9WOhQiSiMaScIIZ/ug430tIXxW34aK5iCuKrJiNMfjUB/w5znF7TwdRI5Jiywu2kdECjBoJVz8zXgcm06Dt4/78MphDxraokqHRimGyQ0BANyhGKr9EVzg4FgbIlKWw6DF7CILriy0wBeRseqgG+8e98Eb5ngc6hl2SxEAYG9LEDoJKOb0byJKEoVWHfItVhz1RrCvJYRKdwjT8syYnmeGScff5tQ9JjcEWQjsaQ5hmF0PPQfwEVES0UgSRjoNKLXrUekKYXtjALuagpiRb8bFOWYYtPw3i87G5IZQ7YvAF5ExPd+kdChERF3SayRclG3CSKcBX7tC2HyyDV+eCmB6vhmTmeTQGZjcEHY3B+E0aJDNDe2IKMmZdRpMzTVjbIYRX7tC2HiyDVtPBTA114yLc02wsLuKwOQm7QWjMg57wpiQZeR0SyJKGVa9BpfkmTEu04gD7jC2nmrD1lNtmJBlwpRcE3LNrN7SGf/rp7lDnjBiAhhm50BiIko9Vn37dg7jsww44ongoDuEiuYghlh1mJRtwugMI7us0hCTmzS33xVCvlnLplwiSmlGrQbjsowYk2lAXWsURz1hvFfjx0e1fozKMGBsphFldgNXPU4TTG7SWGtERrUvgqm5HEhMROqglSSU2PQosenRGpFx3BdBtT+C/a4w9BqgzG7ACKcBwx0G2PT8UadWTG7SWKU7BAAotvFrQETqY9W3t+aMyzLCE46h1h/FybYoDtX4AQA5Ji3K7HoMsxsw1Kbjnnoqwlotje1vCaHQooOR/4cmIpVzGrRwZmkxPsuIYFRGQyCGhrYovnaF8NXpICQA+RYthtna19QZauO6X6mMyU2a8oRjONkWxQxukklEacak06DUrkGpXQ8hBPwRgVOBKBoDUexpDuLLxgC036zYfoGjvRsrk0tlpBQmN2nqoDsMjQQMsfIrQETpS5Ik2A0S7Ib2JEYIAW9YRn0givq2GDacbMUnda3IM2sxJsOICzONyGCik/QU74/44x//iLKyMphMJkyZMgWfffZZt2U3btwISZLOOg4cODCIEavDIXcIBWYdm12JiL5FkiQ4je2JzJwiC24qs+PyAjNMWg22NLTh+f0uvHLIjX0tQURloXS41A1Ff7a/8cYbePDBB/HHP/4Rl19+Of73f/8X8+fPx/79+1FSUtLtfQcPHoTD4Yi/zs3NHYxwVaM1IuNEaxSX5HGWFBHRueg1/5x9FZFNOOGPoMoXwbvVfnx8ohUTs024ONcEp4GtOclEEkIolnpeeumluPjii7F8+fL4ubFjx2LRokVYtmzZWeU3btyIOXPmwOVyISMjo0/v6fV64XQ64fF4OiVI6aSiKYiPav1YVGbj7AAioj7whmM44o2gyhtBRBYYlWHApXlmFFm5IOpA6U39rVjNFg6HsWPHDsybN6/T+Xnz5mHLli3nvHfy5MkoLCzE3LlzsWHDhoEMU5UOuUPINWuZ2BAR9ZHDoMXFOSbcUGrDlFwTTrZGsfqQBy8fcuOoJwwF2w0ICnZLNTU1IRaLIT8/v9P5/Px8NDQ0dHlPYWEhXnjhBUyZMgWhUAh/+ctfMHfuXGzcuBFXXHFFl/eEQiGEQqH4a6/Xm7gPkYKCMRnH/RFMyjYqHQoRUcrTaSSMdBpwgUOPutYoKt1h/PWYF7kmLS4rsGB0hgEa7ts36BSfKnPmZo1CiG43cBw9ejRGjx4dfz1jxgzU1tbiqaee6ja5WbZsGX75y18mLuAUd8wTgSyAoWw6JSJKGI0kodimx1CrDo2BGPa7w3jnuA+ZRg1m5FswLssILZOcQaNYv0ROTg60Wu1ZrTSNjY1nteacy/Tp03H48OFurz/yyCPweDzxo7a2ts8xq8FhTwiZRg2sXHaciCjhJElCvkWHOUUWzBtqhVWnwfs1fryw34XdzUHI7K4aFIrVcAaDAVOmTMH69es7nV+/fj0uu+yyHv+dXbt2obCwsNvrRqMRDoej05GuZCFwzBfBEIviDXZERKqXbdJiVqEF1xZb4dBr8EGNHy9WunDAFeKYnAGmaC23ZMkS3H777Zg6dSpmzJiBF154ATU1NbjrrrsAtLe61NXVYfXq1QCAZ599FqWlpRg3bhzC4TBefvlllJeXo7y8XMmPkTJOtEYRigmO5iciGkSZRi1mFlrQEophT3MIbx/3YahVh3nFNuSZ+WNzICj6VG+55RY0NzfjiSeeQH19PcaPH4/3338fw4YNAwDU19ejpqYmXj4cDmPp0qWoq6uD2WzGuHHj8N5772HBggVKfYSUctQThkkrIcvILikiosGWZdTiyiILGtqi2NkUxMoDbkzLM+OKQgt0XFA1oRRd50YJ6bzOzYv7XXAYNJjO/aSIiBQVEwIH3WHsbQkh26jFDaV25LAV55xSYp0bGlzuUAzNoRj3kiIiSgJaScKFmUbMG2pFWBZYddCNI56w0mGpBpObNHHEG4YGQAEHExMRJY1MoxbzhlpRYNGh/JgXO08HlA5JFZjcpImjnjDyzFpulElElGR0GgmXF5gx0mnAuhOt+KqRCU5/8Wd8GojIAjX+CC7K4qrERETJSCNJmJJrglYCPqlrhVknYXwWNzfuKyY3aaDGF0FMAIUcb0NElNQmZhsRlgXeq/bDotNguMOgdEgpid1SaeCYLwyrToKDqxITESU1SZIwNdeEAosOa4/74A3HlA4pJbG2SwPHPGEUWnTd7tlFRETJQyNJmJFvgkYC3jnuQyy9VmxJCCY3KucKxeAKyyjkLCkiopRh1GpwWb4ZJ1uj+Ly+TelwUg6TG5Wr8oYhAchnckNElFJyzTpMyDLii1MBnGqLKh1OSmFyo3JHvZwCTkSUqsZkGuAwaPBRrZ+bbfYCkxsVi8oC1b4IF+4jIkpR2m8GGJ9si6KiOah0OCmDyY2KnWiNICrA8TZERCksz6zDcLseG+vaEIjKSoeTEpjcqFiVNwKzVkKGgf+ZiYhS2cRsI2JC4ItTXL24J1jrqdgxbxgFnAJORJTyTDoNRmcYsP10AD6ufXNeTG5UyheJ4XQwxvE2REQqMSbDCJ0k4R8NbL05HyY3KlXljQAACi1ahSMhIqJEMGgljM00YHdzEK4QW2/OhcmNSlV5w8g2amHU8j8xEZFajHQaYNRK+OIUF/Y7F9Z8KiQLgSpfBAVstSEiUhWdRsLoDAP2tYTgj3DmVHeY3KhQQ1sUwZjgFHAiIhUa4TBAIwFfNXLsTXeY3KjQMW8Eeg2QbWLLDRGR2hi0EkY4DNjVFECQ6950icmNCh3zhlFg1kHDKeBERKo0OsOAqAB2NXHV4q4wuVGZQFTGybYoCq3skiIiUiuzToNSmx47moKQuefUWZjcqMw/p4AzuSEiUrNRGQb4IzIOucNKh5J0mNyozFFvGJkGDSw6/qclIlKzTKMWuSYttp/mwOIzsQZUESFEfMsFIiJSv1EZBpxojeJUW1TpUJIKkxsVORWIIRATKOJ4GyKitDDUqoNFJ7H15gxMblTkqDcMvQbI4RRwIqK0oJHap4Xvd4UQ4LTwOCY3KnLEwyngRETpZrhDDyGAfS0hpUNJGkxuVMIfkVHfFsUQdkkREaUVs06DoTY9djUFIDgtHACTG9U46m2fCsjxNkRE6WekU4+WkIxqf0TpUJICkxuVOOIJIcfEXcCJiNJRrkkLp0HDFYu/wZpQBaKyQJU3wi4pIqI0JX0zsPiwO8zdwsHkRhWqfRFEBTCE69sQEaWtUrsekgTsaWbrDZMbFTjiDcOml+Aw8D8nEVG6MmglDLPpsYv7TTG5SXVCCBz2hFFk0UPiFHAiorQ2wmmALyLjmDe9BxYzuUlxJ9ui8EdkFNvYJUVElO6yjBpkGTXY1ZTeKxYzuUlxB1whmLUSVyUmIiJIkoQLHAYc9UbgCceUDkcxTG5SmBACB9xhDLVxVWIiImo3zK6HXgNUpPG0cCY3Kay+LQpfREaxVa90KERElCT0GglldgMqmoKIyuk5sJjJTQo76A7DpJWQa2aXFBER/dNIpx6BmMABd3ruN8XkJkW1d0mFMNTKLikiIurMYdCiwKzDjtPp2TXF5CZFnWyLwhOWUWxjlxQREZ1tpFOP+rYo6tvSb1o4k5sUtbc5BItOQj67pIiIqAtFVh2sOgk7GtOv9YbJTQqKyAL7XSGU2blwHxERdU0jSRjpNGC/OwRfJL2mhTO5SUFHPGGEZYEyO7ukiIioeyOcBmglpN3YGyY3KWhPcxC5Ji3sBnZJERFR9/Sa9kX9djUFEYqlz27hTG5SjC8Sw3FfhK02RETUI6OcBoRjAnua02daOJObFFPRFIRWAmdJERFRj1j1GpTY9NjWGEAsTRb1Y3KTQqKywM7TQZQ59DBoOZCYiIh6Zlxm+27he1rSY+wNk5sU8rUrhEBMYLTToHQoRESUQpxGLYbZ9PhHQyAttmRgcpMihBD4qjGAIVYdBxITEVGvjc8yoDUiY0+z+ltvmNykiOO+CJqCMbbaEBFRnzgMWgyz67GloQ0RlbfeMLlJAUII/KOhDZlGDfK4IjEREfXR+Ewj2qICX54KKB3KgGJykwKOeMM40RrFRVkmrkhMRER9ZjdoMDrDgK2n2uAOqXfVYiY3SU4WAhvr2pBv1qLQwlYbIiLqn3FZRhi1Ej6ta1U6lAHD5CbJ7W0OoTkUw6RsttoQEVH/6TUSJmWbcMgTxhFPWOlwBgSTmyTWFpGxqb4Vw2x6ZJnYakNERIlRYtOh0KLD+zU+tEbUty0Dk5skJYTAB7U+xAQwOceodDhERKQikiTh0jwTZAG8W+2DEOqaPcXkJkntbQnhsCeCabkmmHX8z0RERIll1mlwaZ4ZVb4ItjWqa/YUa80k1BiIYv0JP4bb9dxDioiIBkyRVYexGQZsONmG/S3q2VhTp3QA1JkrFMPrRzyw6zW4ONekdDhERKRyE7ONCMYE3q32waSTMNyR+ovFsuUmiXjCMbx2xAOdJGF2kQV6DWdHERHRwJIkCZfkmVBg1aH8mBf7VLC5puLJzR//+EeUlZXBZDJhypQp+Oyzz85ZftOmTZgyZQpMJhOGDx+O559/fpAiHVhV3jBWHnAjJgtcWWSBSav4fxoiIkoTGknCzAIzSmx6vFvtx4a6VsRSeJCxojXoG2+8gQcffBA/+9nPsGvXLsyaNQvz589HTU1Nl+WrqqqwYMECzJo1C7t27cKjjz6KBx54AOXl5YMceeIEozI21LXijaNeZBq1uKbYCqueiQ0REQ0u7TczqCZnG7GtMYCVB9yo9qXmOjiSUHD+16WXXoqLL74Yy5cvj58bO3YsFi1ahGXLlp1V/qc//SnWrl2LysrK+Lm77roLu3fvxtatW3v0nl6vF06nEx6PBw6Ho/8foo984Rj2tYTwRWP79vPjMo0Ym2mAhgv1ERGRwlpCMew4HURTMIZhNj0uzjVhpFPZOqo39bdiA4rD4TB27NiBhx9+uNP5efPmYcuWLV3es3XrVsybN6/TuWuuuQYrVqxAJBKBXp+cM4uEEGiNCjQFoqhri+K4L4xafxRaCSiz6zE+y8jp3kRElDSyjFpcPcSCGn8UhzxhvFXlg1ErodSmR6lDjzyzDjkmLYxJOoRCseSmqakJsVgM+fn5nc7n5+ejoaGhy3saGhq6LB+NRtHU1ITCwsKz7gmFQgiF/jm9zePxAGjPABMtFJPxfrUPVb7oecta9RKGWnRAIIR9df6Ex0JERJQIGQCAGE56YtjtAXbXnf+eS/JMmFloTWgcHfV2TzqcFJ8KfuZ+SUKIc+6h1FX5rs53WLZsGX75y1+edb64uLi3oRIREZHCfD4fnE7nOcsoltzk5ORAq9We1UrT2Nh4VutMh4KCgi7L63Q6ZGdnd3nPI488giVLlsRfy7KMlpYWZGdncyPKfvJ6vSguLkZtba2i45fUjs954PEZDw4+54Gn5mcshIDP50NRUdF5yyqW3BgMBkyZMgXr16/HjTfeGD+/fv163HDDDV3eM2PGDPz973/vdG7dunWYOnVqt+NtjEYjjMbOezNlZGT0L3jqxOFwqO7/RMmIz3ng8RkPDj7ngafWZ3y+FpsOio4EWrJkCf70pz/hpZdeQmVlJR566CHU1NTgrrvuAtDe6nLHHXfEy991112orq7GkiVLUFlZiZdeegkrVqzA0qVLlfoIRERElGQUHXNzyy23oLm5GU888QTq6+sxfvx4vP/++xg2bBgAoL6+vtOaN2VlZXj//ffx0EMP4X/+539QVFSE5557DjfffLNSH4GIiIiSjOIDiu+55x7cc889XV5btWrVWedmz56NnTt3DnBU1BNGoxGPP/74Wd1+lFh8zgOPz3hw8DkPPD7jdoou4kdERESUaMm5+g4RERFRHzG5ISIiIlVhckNERESqwuQmjSxbtgzTpk2D3W5HXl4eFi1ahIMHD3YqI4TAL37xCxQVFcFsNuPKK6/E119/3alMKBTC/fffj5ycHFitVvzLv/wLTpw40amMy+XC7bffDqfTCafTidtvvx1ut7tTmZqaGixcuBBWqxU5OTl44IEHEA6n5g603Vm2bBkkScKDDz4YP8dnnBh1dXX4wQ9+gOzsbFgsFkyaNAk7duyIX+dz7p9oNIqf//znKCsrg9lsxvDhw/HEE09AluV4GT7j3tu8eTMWLlyIoqIiSJKEt99+u9P1ZHume/fuxezZs2E2mzFkyBA88cQTPdr+QHGC0sY111wjVq5cKfbt2ycqKirEddddJ0pKSoTf74+X+e1vfyvsdrsoLy8Xe/fuFbfccosoLCwUXq83Xuauu+4SQ4YMEevXrxc7d+4Uc+bMERMnThTRaDRe5tprrxXjx48XW7ZsEVu2bBHjx48X119/ffx6NBoV48ePF3PmzBE7d+4U69evF0VFReK+++4bnIcxCLZt2yZKS0vFRRddJH7yk5/Ez/MZ919LS4sYNmyYuPPOO8WXX34pqqqqxMcffyyOHDkSL8Pn3D9PPvmkyM7OFu+++66oqqoSf/3rX4XNZhPPPvtsvAyfce+9//774mc/+5koLy8XAMRbb73V6XoyPVOPxyPy8/PFrbfeKvbu3SvKy8uF3W4XTz311MA9oARhcpPGGhsbBQCxadMmIYQQsiyLgoIC8dvf/jZeJhgMCqfTKZ5//nkhhBBut1vo9Xrx+uuvx8vU1dUJjUYjPvzwQyGEEPv37xcAxBdffBEvs3XrVgFAHDhwQAjR/n9wjUYj6urq4mVee+01YTQahcfjGbgPPUh8Pp8YOXKkWL9+vZg9e3Y8ueEzToyf/vSnYubMmd1e53Puv+uuu0786Ec/6nTupptuEj/4wQ+EEHzGiXBmcpNsz/SPf/yjcDqdIhgMxsssW7ZMFBUVCVmWE/gkEo/dUmmsY4f0rKwsAEBVVRUaGhowb968eBmj0YjZs2djy5YtAIAdO3YgEol0KlNUVITx48fHy2zduhVOpxOXXnppvMz06dPhdDo7lRk/fnynPUKuueYahEKhTl0Lqeree+/Fddddh6uvvrrTeT7jxFi7di2mTp2K7373u8jLy8PkyZPx4osvxq/zOfffzJkz8cknn+DQoUMAgN27d+Pzzz/HggULAPAZD4Rke6Zbt27F7NmzO62Zc8011+DkyZM4fvx44h9AAim+iB8pQwiBJUuWYObMmRg/fjwAxDclPXPj0vz8fFRXV8fLGAwGZGZmnlWm4/6Ghgbk5eWd9Z55eXmdypz5PpmZmTAYDGdtjppqXn/9dezcuRNfffXVWdf4jBPj2LFjWL58OZYsWYJHH30U27ZtwwMPPACj0Yg77riDzzkBfvrTn8Lj8WDMmDHQarWIxWL49a9/je9///sA+F0eCMn2TBsaGlBaWnrW+3RcKysr68vHHBRMbtLUfffdhz179uDzzz8/69qZu6ULIc67g/qZZboq35cyqaa2thY/+clPsG7dOphMpm7L8Rn3jyzLmDp1Kn7zm98AACZPnoyvv/4ay5cv77QfHZ9z373xxht4+eWX8eqrr2LcuHGoqKjAgw8+iKKiIixevDhejs848ZLpmXYVS3f3JhN2S6Wh+++/H2vXrsWGDRswdOjQ+PmCggIAOOuXUGNjYzxbLygoQDgchsvlOmeZU6dOnfW+p0+f7lTmzPdxuVyIRCJn/ZpIJTt27EBjYyOmTJkCnU4HnU6HTZs24bnnnoNOp+v0q+fb+Ix7p7CwEBdeeGGnc2PHjo3vRcfvcv/93//7f/Hwww/j1ltvxYQJE3D77bfjoYcewrJlywDwGQ+EZHumXZVpbGwEcHbrUrJhcpNGhBC47777sGbNGnz66adnNSmWlZWhoKAA69evj58Lh8PYtGkTLrvsMgDAlClToNfrO5Wpr6/Hvn374mVmzJgBj8eDbdu2xct8+eWX8Hg8ncrs27cP9fX18TLr1q2D0WjElClTEv/hB8ncuXOxd+9eVFRUxI+pU6fitttuQ0VFBYYPH85nnACXX375WcsYHDp0KL7pLr/L/dfW1gaNpnMVodVq41PB+YwTL9me6YwZM7B58+ZO08PXrVuHoqKis7qrks4gDl4mhd19993C6XSKjRs3ivr6+vjR1tYWL/Pb3/5WOJ1OsWbNGrF3717x/e9/v8tpiEOHDhUff/yx2Llzp7jqqqu6nIZ40UUXia1bt4qtW7eKCRMmdDkNce7cuWLnzp3i448/FkOHDk3JqZ3n8+3ZUkLwGSfCtm3bhE6nE7/+9a/F4cOHxSuvvCIsFot4+eWX42X4nPtn8eLFYsiQIfGp4GvWrBE5OTniP/7jP+Jl+Ix7z+fziV27doldu3YJAOKZZ54Ru3btEtXV1UKI5Hqmbrdb5Ofni+9///ti7969Ys2aNcLhcHAqOCUXAF0eK1eujJeRZVk8/vjjoqCgQBiNRnHFFVeIvXv3dvo7gUBA3HfffSIrK0uYzWZx/fXXi5qamk5lmpubxW233Sbsdruw2+3itttuEy6Xq1OZ6upqcd111wmz2SyysrLEfffd12nKoVqcmdzwGSfG3//+dzF+/HhhNBrFmDFjxAsvvNDpOp9z/3i9XvGTn/xElJSUCJPJJIYPHy5+9rOfiVAoFC/DZ9x7GzZs6PLf4cWLFwshku+Z7tmzR8yaNUsYjUZRUFAgfvGLXyT9NHAhhOCu4ERERKQqHHNDREREqsLkhoiIiFSFyQ0RERGpCpMbIiIiUhUmN0RERKQqTG6IiIhIVZjcEBERkaowuSEiIiJVYXJDRHQex48fhyRJqKioUDoUIuoBJjdEaWjLli3QarW49tprlQ6lTzZu3AhJkuB2u3tUruMwm80YN24cXnjhhcEJlIgUweSGKA299NJLuP/++/H555+jpqZG6XAG3MGDB1FfX4/9+/fjxz/+Me6++2588sknSodFRAOEyQ1RmmltbcWbb76Ju+++G9dffz1WrVp1Vpm1a9di6tSpMJlMyMnJwU033RS/FgqF8B//8R8oLi6G0WjEyJEjsWLFivj1TZs24ZJLLoHRaERhYSEefvhhRKPR+PXS0lI8++yznd5v0qRJ+MUvfhF/LUkS/vSnP+HGG2+ExWLByJEjsXbtWgDtXURz5swBAGRmZkKSJNx5553n/Mx5eXkoKChAWVkZHnjgAZSWlmLnzp3x6x9++CFmzpyJjIwMZGdn4/rrr8fRo0e7/XuxWAz/9m//hrKyMpjNZowePRr//d//3anMnXfeiUWLFuGpp55CYWEhsrOzce+99yISifT4We7fvx8LFiyAzWZDfn4+br/9djQ1NZ3zsxIRkxuitPPGG29g9OjRGD16NH7wgx9g5cqV+Pb+ue+99x5uuukmXHfdddi1axc++eQTTJ06NX79jjvuwOuvv47nnnsOlZWVeP7552Gz2QAAdXV1WLBgAaZNm4bdu3dj+fLlWLFiBZ588slex/nLX/4S3/ve97Bnzx4sWLAAt912G1paWlBcXIzy8nIA/2yROTOx6I4QAh9++CFqa2tx6aWXxs+3trZiyZIl+Oqrr/DJJ59Ao9HgxhtvhCzLXf4dWZYxdOhQvPnmm9i/fz8ee+wxPProo3jzzTc7lduwYQOOHj2KDRs24M9//jNWrVrVKZk817Osr6/H7NmzMWnSJGzfvh0ffvghTp06he9973u9eYxE6UnZTcmJaLBddtll4tlnnxVCCBGJREROTo5Yv359/PqMGTPEbbfd1uW9Bw8eFAA6lf+2Rx99VIwePVrIshw/9z//8z/CZrOJWCwmhBBi2LBh4ve//32n+yZOnCgef/zx+GsA4uc//3n8td/vF5IkiQ8++EAIIcSGDRsEAOFyuc75WTvKWa1WYbVahU6nExqNRjz55JPnvK+xsVEAEHv37hVCCFFVVSUAiF27dnV7zz333CNuvvnm+OvFixeLYcOGiWg0Gj/33e9+V9xyyy1CiPM/y//8z/8U8+bN63SutrZWABAHDx48Z/xE6Y4tN0Rp5ODBg9i2bRtuvfVWAIBOp8Mtt9yCl156KV6moqICc+fO7fL+iooKaLVazJ49u8vrlZWVmDFjBiRJip+7/PLL4ff7ceLEiV7FetFFF8X/t9Vqhd1uR2NjY6/+RofPPvsMFRUVqKiowJ/+9Cf85je/wfLly+PXjx49in/913/F8OHD4XA4UFZWBgDnHI/0/PPPY+rUqcjNzYXNZsOLL754Vvlx48ZBq9XGXxcWFsY/w/me5Y4dO7BhwwbYbLb4MWbMmHi8RNQ9ndIBENHgWbFiBaLRKIYMGRI/J4SAXq+Hy+VCZmYmzGZzt/ef61rH3/p2YtNxDkD8vEaj6dQNBqDTOJQOer2+02tJkrrtJjqfsrIyZGRkAGhPOL788kv8+te/xt133w0AWLhwIYqLi/Hiiy+iqKgIsixj/PjxCIfDXf69N998Ew899BCefvppzJgxA3a7Hf/v//0/fPnllz3+DOd7lrIsY+HChfjd73531rXCwsIefW6idMWWG6I0EY1GsXr1ajz99NPxVoyKigrs3r0bw4YNwyuvvAKgvcWku5lEEyZMgCzL2LRpU5fXL7zwQmzZsqVT8rJlyxbY7fZ4QpWbm4v6+vr4da/Xi6qqql59FoPBAKB9YG9faLVaBAIBAEBzczMqKyvx85//HHPnzsXYsWPhcrnOef9nn32Gyy67DPfccw8mT56MESNG9Lo15XzP8uKLL8bXX3+N0tJSjBgxotNhtVp79V5E6YbJDVGaePfdd+FyufBv//ZvGD9+fKfjO9/5TnyWzuOPP47XXnsNjz/+OCorK7F3717813/9F4D2mU6LFy/Gj370I7z99tuoqqrCxo0b4wNp77nnHtTW1uL+++/HgQMH8M477+Dxxx/HkiVLoNG0/3Nz1VVX4S9/+Qs+++wz7Nu3D4sXL+7UddMTw4YNgyRJePfdd3H69Gn4/f5zlm9sbERDQwOqq6vx17/+FX/5y19www03AGifcZWdnY0XXngBR44cwaeffoolS5ac8++NGDEC27dvx0cffYRDhw7hP//zP/HVV1/16jOc71nee++9aGlpwfe//31s27YNx44dw7p16/CjH/2oz0kdUdpQdMQPEQ2a66+/XixYsKDLazt27BAAxI4dO4QQQpSXl4tJkyYJg8EgcnJyxE033RQvGwgExEMPPSQKCwuFwWAQI0aMEC+99FL8+saNG8W0adOEwWAQBQUF4qc//amIRCLx6x6PR3zve98TDodDFBcXi1WrVnU5oPitt97qFKPT6RQrV66Mv37iiSdEQUGBkCRJLF68uMvP1TGguOPQ6XSirKxMLF26VPj9/ni59evXi7Fjxwqj0SguuugisXHjxk4xnDmgOBgMijvvvFM4nU6RkZEh7r77bvHwww+LiRMnxv/m4sWLxQ033NApnp/85Cdi9uzZPX6Whw4dEjfeeKPIyMgQZrNZjBkzRjz44IOdBmwT0dkkIc7o/CYiIiJKYeyWIiIiIlVhckNERESqwuSGiIiIVIXJDREREakKkxsiIiJSFSY3REREpCpMboiIiEhVmNwQERGRqjC5ISIiIlVhckNERESqwuSGiIiIVIXJDREREanK/weCwzlK54w31QAAAABJRU5ErkJggg==",
      "text/plain": [
       "<Figure size 640x480 with 1 Axes>"
      ]
     },
     "metadata": {},
     "output_type": "display_data"
    }
   ],
   "source": [
    "c = clients[clients['bal']<100000]\n",
    "sns.kdeplot(c['bal'], color='skyblue', shade=True)\n",
    "plt.xlabel('Account Balance')\n",
    "plt.show()"
   ]
  },
  {
   "cell_type": "code",
   "execution_count": 242,
   "metadata": {},
   "outputs": [
    {
     "data": {
      "text/plain": [
       "process_step\n",
       "start      234999\n",
       "step_1     162797\n",
       "step_2     132750\n",
       "step_3     111589\n",
       "confirm    102506\n",
       "Name: count, dtype: int64"
      ]
     },
     "execution_count": 242,
     "metadata": {},
     "output_type": "execute_result"
    }
   ],
   "source": [
    "frequency_table = events[\"process_step\"].value_counts()\n",
    "frequency_table "
   ]
  },
  {
   "cell_type": "code",
   "execution_count": 243,
   "metadata": {},
   "outputs": [
    {
     "data": {
      "text/html": [
       "<div>\n",
       "<style scoped>\n",
       "    .dataframe tbody tr th:only-of-type {\n",
       "        vertical-align: middle;\n",
       "    }\n",
       "\n",
       "    .dataframe tbody tr th {\n",
       "        vertical-align: top;\n",
       "    }\n",
       "\n",
       "    .dataframe thead th {\n",
       "        text-align: right;\n",
       "    }\n",
       "</style>\n",
       "<table border=\"1\" class=\"dataframe\">\n",
       "  <thead>\n",
       "    <tr style=\"text-align: right;\">\n",
       "      <th>col_0</th>\n",
       "      <th>count</th>\n",
       "    </tr>\n",
       "    <tr>\n",
       "      <th>process_step</th>\n",
       "      <th></th>\n",
       "    </tr>\n",
       "  </thead>\n",
       "  <tbody>\n",
       "    <tr>\n",
       "      <th>confirm</th>\n",
       "      <td>102506</td>\n",
       "    </tr>\n",
       "    <tr>\n",
       "      <th>start</th>\n",
       "      <td>234999</td>\n",
       "    </tr>\n",
       "    <tr>\n",
       "      <th>step_1</th>\n",
       "      <td>162797</td>\n",
       "    </tr>\n",
       "    <tr>\n",
       "      <th>step_2</th>\n",
       "      <td>132750</td>\n",
       "    </tr>\n",
       "    <tr>\n",
       "      <th>step_3</th>\n",
       "      <td>111589</td>\n",
       "    </tr>\n",
       "  </tbody>\n",
       "</table>\n",
       "</div>"
      ],
      "text/plain": [
       "col_0          count\n",
       "process_step        \n",
       "confirm       102506\n",
       "start         234999\n",
       "step_1        162797\n",
       "step_2        132750\n",
       "step_3        111589"
      ]
     },
     "execution_count": 243,
     "metadata": {},
     "output_type": "execute_result"
    }
   ],
   "source": [
    "table = pd.crosstab(index = events[\"process_step\"],columns=\"count\")\n",
    "table "
   ]
  },
  {
   "cell_type": "code",
   "execution_count": 244,
   "metadata": {},
   "outputs": [
    {
     "data": {
      "text/html": [
       "<div>\n",
       "<style scoped>\n",
       "    .dataframe tbody tr th:only-of-type {\n",
       "        vertical-align: middle;\n",
       "    }\n",
       "\n",
       "    .dataframe tbody tr th {\n",
       "        vertical-align: top;\n",
       "    }\n",
       "\n",
       "    .dataframe thead th {\n",
       "        text-align: right;\n",
       "    }\n",
       "</style>\n",
       "<table border=\"1\" class=\"dataframe\">\n",
       "  <thead>\n",
       "    <tr style=\"text-align: right;\">\n",
       "      <th>col_0</th>\n",
       "      <th>count</th>\n",
       "    </tr>\n",
       "    <tr>\n",
       "      <th>process_step</th>\n",
       "      <th></th>\n",
       "    </tr>\n",
       "  </thead>\n",
       "  <tbody>\n",
       "    <tr>\n",
       "      <th>confirm</th>\n",
       "      <td>0.14</td>\n",
       "    </tr>\n",
       "    <tr>\n",
       "      <th>start</th>\n",
       "      <td>0.32</td>\n",
       "    </tr>\n",
       "    <tr>\n",
       "      <th>step_1</th>\n",
       "      <td>0.22</td>\n",
       "    </tr>\n",
       "    <tr>\n",
       "      <th>step_2</th>\n",
       "      <td>0.18</td>\n",
       "    </tr>\n",
       "    <tr>\n",
       "      <th>step_3</th>\n",
       "      <td>0.15</td>\n",
       "    </tr>\n",
       "  </tbody>\n",
       "</table>\n",
       "</div>"
      ],
      "text/plain": [
       "col_0         count\n",
       "process_step       \n",
       "confirm        0.14\n",
       "start          0.32\n",
       "step_1         0.22\n",
       "step_2         0.18\n",
       "step_3         0.15"
      ]
     },
     "execution_count": 244,
     "metadata": {},
     "output_type": "execute_result"
    }
   ],
   "source": [
    "(table/table.sum()).round(2)"
   ]
  },
  {
   "cell_type": "code",
   "execution_count": 245,
   "metadata": {},
   "outputs": [
    {
     "name": "stderr",
     "output_type": "stream",
     "text": [
      "C:\\Users\\Lidia Mayor\\AppData\\Local\\Temp\\ipykernel_30880\\362503033.py:1: FutureWarning: \n",
      "\n",
      "Passing `palette` without assigning `hue` is deprecated and will be removed in v0.14.0. Assign the `x` variable to `hue` and set `legend=False` for the same effect.\n",
      "\n",
      "  sns.barplot(x=frequency_table.index, y=frequency_table.values, palette=\"Set3\");\n"
     ]
    },
    {
     "data": {
      "image/png": "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",
      "text/plain": [
       "<Figure size 640x480 with 1 Axes>"
      ]
     },
     "metadata": {},
     "output_type": "display_data"
    }
   ],
   "source": [
    "sns.barplot(x=frequency_table.index, y=frequency_table.values, palette=\"Set3\");\n",
=======
    "test.info()\n",
>>>>>>> main
    "\n",
    "# there are null values in the 'Variation' column. We assume these clients didn't participate in the experiment."
   ]
  },
  {
   "cell_type": "code",
<<<<<<< HEAD
   "execution_count": 246,
=======
   "execution_count": 572,
>>>>>>> main
   "metadata": {},
   "outputs": [],
   "source": [
    "# remove nulls. \n",
    "# we will remove the clients that didn't participate in the experiment.\n",
    "test = test.dropna()"
   ]
  },
  {
   "cell_type": "code",
<<<<<<< HEAD
   "execution_count": 247,
   "metadata": {},
   "outputs": [
    {
     "data": {
      "text/plain": [
       "count     744641\n",
       "unique         5\n",
       "top        start\n",
       "freq      234999\n",
       "Name: process_step, dtype: object"
      ]
     },
     "execution_count": 247,
     "metadata": {},
     "output_type": "execute_result"
    }
   ],
   "source": [
    "events['process_step'].describe()"
   ]
  },
  {
   "cell_type": "markdown",
   "metadata": {},
   "source": [
    "# Correct client ID"
   ]
  },
  {
   "cell_type": "code",
   "execution_count": 248,
   "metadata": {},
   "outputs": [],
   "source": [
    "clients = clients[clients['client_id'].isin(test_in['client_id'])]"
   ]
  },
  {
   "cell_type": "code",
   "execution_count": 249,
   "metadata": {},
   "outputs": [],
   "source": [
    "test_in = test_in[test_in['client_id'].isin(clients['client_id'])]"
   ]
  },
  {
   "cell_type": "code",
   "execution_count": 250,
   "metadata": {},
   "outputs": [],
   "source": [
    "events = events[events['client_id'].isin(clients['client_id'])]"
   ]
  },
  {
   "cell_type": "markdown",
   "metadata": {},
   "source": [
    "# Analysis about clients"
   ]
  },
  {
   "cell_type": "code",
   "execution_count": 251,
=======
   "execution_count": 573,
>>>>>>> main
   "metadata": {},
   "outputs": [
    {
     "data": {
      "text/html": [
       "<div>\n",
       "<style scoped>\n",
       "    .dataframe tbody tr th:only-of-type {\n",
       "        vertical-align: middle;\n",
       "    }\n",
       "\n",
       "    .dataframe tbody tr th {\n",
       "        vertical-align: top;\n",
       "    }\n",
       "\n",
       "    .dataframe thead th {\n",
       "        text-align: right;\n",
       "    }\n",
       "</style>\n",
       "<table border=\"1\" class=\"dataframe\">\n",
       "  <thead>\n",
       "    <tr style=\"text-align: right;\">\n",
       "      <th></th>\n",
       "      <th>client_id</th>\n",
       "      <th>Variation</th>\n",
       "    </tr>\n",
       "  </thead>\n",
       "  <tbody>\n",
       "    <tr>\n",
       "      <th>0</th>\n",
       "      <td>9988021</td>\n",
       "      <td>Test</td>\n",
       "    </tr>\n",
       "    <tr>\n",
       "      <th>1</th>\n",
       "      <td>8320017</td>\n",
       "      <td>Test</td>\n",
       "    </tr>\n",
       "    <tr>\n",
       "      <th>2</th>\n",
       "      <td>4033851</td>\n",
       "      <td>Control</td>\n",
       "    </tr>\n",
       "    <tr>\n",
       "      <th>3</th>\n",
       "      <td>1982004</td>\n",
       "      <td>Test</td>\n",
       "    </tr>\n",
       "    <tr>\n",
       "      <th>4</th>\n",
       "      <td>9294070</td>\n",
       "      <td>Control</td>\n",
       "    </tr>\n",
       "    <tr>\n",
       "      <th>...</th>\n",
       "      <td>...</td>\n",
       "      <td>...</td>\n",
       "    </tr>\n",
       "    <tr>\n",
       "      <th>50495</th>\n",
       "      <td>393005</td>\n",
       "      <td>Control</td>\n",
       "    </tr>\n",
       "    <tr>\n",
       "      <th>50496</th>\n",
       "      <td>2908510</td>\n",
       "      <td>Control</td>\n",
       "    </tr>\n",
       "    <tr>\n",
       "      <th>50497</th>\n",
       "      <td>7230446</td>\n",
       "      <td>Test</td>\n",
       "    </tr>\n",
       "    <tr>\n",
       "      <th>50498</th>\n",
       "      <td>5230357</td>\n",
       "      <td>Test</td>\n",
       "    </tr>\n",
       "    <tr>\n",
       "      <th>50499</th>\n",
       "      <td>6334360</td>\n",
       "      <td>Test</td>\n",
       "    </tr>\n",
       "  </tbody>\n",
       "</table>\n",
       "<p>50500 rows × 2 columns</p>\n",
       "</div>"
      ],
      "text/plain": [
       "       client_id Variation\n",
       "0        9988021      Test\n",
       "1        8320017      Test\n",
       "2        4033851   Control\n",
       "3        1982004      Test\n",
       "4        9294070   Control\n",
       "...          ...       ...\n",
       "50495     393005   Control\n",
       "50496    2908510   Control\n",
       "50497    7230446      Test\n",
       "50498    5230357      Test\n",
       "50499    6334360      Test\n",
       "\n",
       "[50500 rows x 2 columns]"
      ]
     },
<<<<<<< HEAD
     "execution_count": 251,
=======
     "execution_count": 573,
>>>>>>> main
     "metadata": {},
     "output_type": "execute_result"
    }
   ],
   "source": [
    "test"
   ]
  },
  {
   "cell_type": "markdown",
   "metadata": {},
   "source": [
    "## Univariate Analysis"
   ]
  },
  {
   "cell_type": "markdown",
   "metadata": {},
   "source": [
    "### Clients"
   ]
  },
  {
   "cell_type": "code",
<<<<<<< HEAD
   "execution_count": 252,
=======
   "execution_count": 130,
>>>>>>> main
   "metadata": {},
   "outputs": [
    {
     "data": {
      "image/png": "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",
      "text/plain": [
       "<Figure size 800x400 with 1 Axes>"
      ]
     },
<<<<<<< HEAD
     "execution_count": 252,
=======
>>>>>>> main
     "metadata": {},
     "output_type": "display_data"
    },
    {
     "data": {
      "image/png": "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",
      "text/plain": [
       "<Figure size 800x400 with 1 Axes>"
      ]
     },
     "metadata": {},
     "output_type": "display_data"
    },
    {
     "data": {
      "image/png": "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",
      "text/plain": [
       "<Figure size 800x400 with 1 Axes>"
      ]
     },
     "metadata": {},
     "output_type": "display_data"
    },
    {
     "data": {
      "image/png": "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",
      "text/plain": [
       "<Figure size 800x400 with 1 Axes>"
      ]
     },
     "metadata": {},
     "output_type": "display_data"
    },
    {
     "data": {
      "image/png": "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",
      "text/plain": [
       "<Figure size 800x400 with 1 Axes>"
      ]
     },
     "metadata": {},
     "output_type": "display_data"
    },
    {
     "data": {
      "image/png": "iVBORw0KGgoAAAANSUhEUgAAAskAAAFzCAYAAADMjJRjAAAAOXRFWHRTb2Z0d2FyZQBNYXRwbG90bGliIHZlcnNpb24zLjkuMiwgaHR0cHM6Ly9tYXRwbG90bGliLm9yZy8hTgPZAAAACXBIWXMAAA9hAAAPYQGoP6dpAAA4dklEQVR4nO3de1RVdf7/8ddB5KJ5QGS4JQhNJni/UISWWTLipSYnx9GicpR08gum0jfLr4qXmizLe46OzajNGhmt1sg4ZipiqZOIijHeqWZUHBWIL8oJJEA5vz/6sn+d7R2QA/p8rLXX8uzPe3/2e++VrZd7fc4+FrvdbhcAAAAAg4uzGwAAAAAaGkIyAAAAYEJIBgAAAEwIyQAAAIAJIRkAAAAwISQDAAAAJoRkAAAAwISQDAAAAJi4OruB20VVVZXOnDmjFi1ayGKxOLsdAAAAmNjtdn333XcKCgqSi8u1nxUTkuvImTNnFBwc7Ow2AAAAcB2nTp1S69atr1lDSK4jLVq0kPTDTbdarU7uBgAAAGY2m03BwcFGbrsWQnIdqV5iYbVaCckAAAAN2I0sjeWLewAAAIAJIRkAAAAwISQDAAAAJoRkAAAAwISQDAAAAJgQkgEAAAATQjIAAABgQkgGAAAATAjJAAAAgIlTQ/KOHTv0xBNPKCgoSBaLRampqVetffHFF2WxWLRgwQKH/UVFRYqLi5PVapW3t7fi4+NVUlLiUHPgwAE9/PDD8vDwUHBwsObMmXPZ/B999JHCw8Pl4eGhTp06aePGjXVxiQAAAGiEnPqz1KWlperSpYtGjRqlp5566qp169at0+7duxUUFHTZWFxcnM6ePau0tDRVVlZq5MiRGjNmjFJSUiT98Bvd/fr1U0xMjJYtW6aDBw9q1KhR8vb21pgxYyRJu3bt0tNPP63Zs2fr8ccfV0pKigYPHqz9+/erY8eOt+biAQCA0+Xm5qqwsLBO5vL19VVISEidzAXns9jtdruzm5B++A3tdevWafDgwQ77T58+raioKG3evFmDBg3ShAkTNGHCBEnS0aNH1b59e+3du1eRkZGSpE2bNmngwIH6z3/+o6CgIC1dulRTpkxRXl6e3NzcJEmvvfaaUlNTdezYMUnSsGHDVFpaqg0bNhjnffDBB9W1a1ctW7bshvq32Wzy8vJScXGxrFZrLe8GAAC41XJzcxUeHqGysgt1Mp+nZzMdO3aUoNyA3Uxec+qT5OupqqrSc889p1deeUUdOnS4bDwjI0Pe3t5GQJakmJgYubi4KDMzU7/4xS+UkZGh3r17GwFZkmJjY/X222/r3LlzatmypTIyMpSUlOQwd2xs7DWXfwAAgMatsLBQZWUXFDVquqyBobWay3b2hDJXzFRhYSEh+TbRoEPy22+/LVdXV7300ktXHM/Ly5Ofn5/DPldXV/n4+CgvL8+oCQsLc6jx9/c3xlq2bKm8vDxj349rque4kvLycpWXlxufbTbbjV8YAABoMKyBofIJaefsNtDANNi3W2RlZWnhwoVatWqVLBaLs9u5zOzZs+Xl5WVswcHBzm4JAAAAdaTBhuSdO3eqoKBAISEhcnV1laurq06ePKmXX35ZoaGhkqSAgAAVFBQ4HHfx4kUVFRUpICDAqMnPz3eoqf58vZrq8SuZPHmyiouLje3UqVO1ul4AAAA0HA02JD/33HM6cOCAsrOzjS0oKEivvPKKNm/eLEmKjo7W+fPnlZWVZRy3bds2VVVVKSoqyqjZsWOHKisrjZq0tDS1a9dOLVu2NGrS09Mdzp+Wlqbo6Oir9ufu7i6r1eqwAQAA4Pbg1DXJJSUl+uabb4zPx48fV3Z2tnx8fBQSEqJWrVo51Ddt2lQBAQFq1+6HdUMRERHq37+/Ro8erWXLlqmyslKJiYkaPny48bq4Z555RjNnzlR8fLxeffVVHTp0SAsXLtT8+fONecePH69HHnlEc+fO1aBBg7RmzRrt27dPy5cvr4e7AAAAgIbGqU+S9+3bp27duqlbt26SpKSkJHXr1k3Jyck3PMfq1asVHh6uvn37auDAgXrooYccwq2Xl5e2bNmi48ePq0ePHnr55ZeVnJxsvCNZknr27KmUlBQtX75cXbp00ccff6zU1FTekQwAAHCHcuqT5D59+uhmXtN84sSJy/b5+PgYPxxyNZ07d9bOnTuvWTN06FANHTr0hnsBAADA7avBrkkGAAAAnIWQDAAAAJgQkgEAAAATQjIAAABgQkgGAAAATAjJAAAAgAkhGQAAADAhJAMAAAAmhGQAAADAhJAMAAAAmBCSAQAAABNCMgAAAGBCSAYAAABMCMkAAACACSEZAAAAMCEkAwAAACaEZAAAAMCEkAwAAACYEJIBAAAAE0IyAAAAYEJIBgAAAEwIyQAAAIAJIRkAAAAwISQDAAAAJoRkAAAAwISQDAAAAJgQkgEAAAATQjIAAABgQkgGAAAATAjJAAAAgAkhGQAAADBxakjesWOHnnjiCQUFBclisSg1NdUYq6ys1KuvvqpOnTqpefPmCgoK0vPPP68zZ844zFFUVKS4uDhZrVZ5e3srPj5eJSUlDjUHDhzQww8/LA8PDwUHB2vOnDmX9fLRRx8pPDxcHh4e6tSpkzZu3HhLrhkAAAANn1NDcmlpqbp06aIlS5ZcNnbhwgXt379f06ZN0/79+/XXv/5VOTk5+vnPf+5QFxcXp8OHDystLU0bNmzQjh07NGbMGGPcZrOpX79+atOmjbKysvTOO+9oxowZWr58uVGza9cuPf3004qPj9eXX36pwYMHa/DgwTp06NCtu3gAAAA0WBa73W53dhOSZLFYtG7dOg0ePPiqNXv37tUDDzygkydPKiQkREePHlX79u21d+9eRUZGSpI2bdqkgQMH6j//+Y+CgoK0dOlSTZkyRXl5eXJzc5Mkvfbaa0pNTdWxY8ckScOGDVNpaak2bNhgnOvBBx9U165dtWzZshvq32azycvLS8XFxbJarTW8CwAAoL7s379fPXr00M+mrJRPSLtazVWUm6O0345UVlaWunfvXkcdoq7dTF5rVGuSi4uLZbFY5O3tLUnKyMiQt7e3EZAlKSYmRi4uLsrMzDRqevfubQRkSYqNjVVOTo7OnTtn1MTExDicKzY2VhkZGVftpby8XDabzWEDAADA7aHRhOTvv/9er776qp5++mkj+efl5cnPz8+hztXVVT4+PsrLyzNq/P39HWqqP1+vpnr8SmbPni0vLy9jCw4Ort0FAgAAoMFoFCG5srJSv/rVr2S327V06VJntyNJmjx5soqLi43t1KlTzm4JAAAAdcTV2Q1cT3VAPnnypLZt2+awfiQgIEAFBQUO9RcvXlRRUZECAgKMmvz8fIea6s/Xq6kevxJ3d3e5u7vX/MIAAADQYDXoJ8nVAfnrr7/W1q1b1apVK4fx6OhonT9/XllZWca+bdu2qaqqSlFRUUbNjh07VFlZadSkpaWpXbt2atmypVGTnp7uMHdaWpqio6Nv1aUBAACgAXNqSC4pKVF2drays7MlScePH1d2drZyc3NVWVmpX/7yl9q3b59Wr16tS5cuKS8vT3l5eaqoqJAkRUREqH///ho9erT27NmjL774QomJiRo+fLiCgoIkSc8884zc3NwUHx+vw4cPa+3atVq4cKGSkpKMPsaPH69NmzZp7ty5OnbsmGbMmKF9+/YpMTGx3u8JAAAAnM+pIXnfvn3q1q2bunXrJklKSkpSt27dlJycrNOnT2v9+vX6z3/+o65duyowMNDYdu3aZcyxevVqhYeHq2/fvho4cKAeeughh3cge3l5acuWLTp+/Lh69Oihl19+WcnJyQ7vUu7Zs6dSUlK0fPlydenSRR9//LFSU1PVsWPH+rsZAAAAaDCcuia5T58+utZrmm/kFc4+Pj5KSUm5Zk3nzp21c+fOa9YMHTpUQ4cOve75AAAAcPtr0GuSAQAAAGcgJAMAAAAmhGQAAADAhJAMAAAAmBCSAQAAABNCMgAAAGBCSAYAAABMCMkAAACACSEZAAAAMCEkAwAAACaEZAAAAMCEkAwAAACYEJIBAAAAE1dnNwDUt9zcXBUWFtbZfL6+vgoJCamz+QAAgPMRknFHyc3NVXh4hMrKLtTZnJ6ezXTs2FGCMgAAtxFCMu4ohYWFKiu7oKhR02UNDK31fLazJ5S5YqYKCwsJyQAA3EYIybgjWQND5RPSztltAACABoov7gEAAAAmhGQAAADAhJAMAAAAmBCSAQAAABNCMgAAAGBCSAYAAABMCMkAAACACSEZAAAAMCEkAwAAACaEZAAAAMCEkAwAAACYuDq7AQCNQ25urgoLC+tkLl9fX4WEhNTJXAAA3AqEZADXlZubq/DwCJWVXaiT+Tw9m+nYsaMEZQBAg0VIBnBdhYWFKiu7oKhR02UNDK3VXLazJ5S5YqYKCwsJyQCABsupa5J37NihJ554QkFBQbJYLEpNTXUYt9vtSk5OVmBgoDw9PRUTE6Ovv/7aoaaoqEhxcXGyWq3y9vZWfHy8SkpKHGoOHDighx9+WB4eHgoODtacOXMu6+Wjjz5SeHi4PDw81KlTJ23cuLHOrxdo7KyBofIJaVerrbYhGwCA+uDUkFxaWqouXbpoyZIlVxyfM2eOFi1apGXLlikzM1PNmzdXbGysvv/+e6MmLi5Ohw8fVlpamjZs2KAdO3ZozJgxxrjNZlO/fv3Upk0bZWVl6Z133tGMGTO0fPlyo2bXrl16+umnFR8fry+//FKDBw/W4MGDdejQoVt38QAAAGiwnLrcYsCAARowYMAVx+x2uxYsWKCpU6fqySeflCT96U9/kr+/v1JTUzV8+HAdPXpUmzZt0t69exUZGSlJWrx4sQYOHKh3331XQUFBWr16tSoqKrRixQq5ubmpQ4cOys7O1rx584wwvXDhQvXv31+vvPKKJOn1119XWlqa3nvvPS1btqwe7gQAAAAakgb7Crjjx48rLy9PMTExxj4vLy9FRUUpIyNDkpSRkSFvb28jIEtSTEyMXFxclJmZadT07t1bbm5uRk1sbKxycnJ07tw5o+bH56muqT7PlZSXl8tmszlsAAAAuD002JCcl5cnSfL393fY7+/vb4zl5eXJz8/PYdzV1VU+Pj4ONVea48fnuFpN9fiVzJ49W15eXsYWHBx8s5cIAACABqrBhuSGbvLkySouLja2U6dOObslAAAA1JEGG5IDAgIkSfn5+Q778/PzjbGAgAAVFBQ4jF+8eFFFRUUONVea48fnuFpN9fiVuLu7y2q1OmwAAAC4PTTYkBwWFqaAgAClp6cb+2w2mzIzMxUdHS1Jio6O1vnz55WVlWXUbNu2TVVVVYqKijJqduzYocrKSqMmLS1N7dq1U8uWLY2aH5+nuqb6PAAAALizODUkl5SUKDs7W9nZ2ZJ++LJedna2cnNzZbFYNGHCBL3xxhtav369Dh48qOeff15BQUEaPHiwJCkiIkL9+/fX6NGjtWfPHn3xxRdKTEzU8OHDFRQUJEl65pln5Obmpvj4eB0+fFhr167VwoULlZSUZPQxfvx4bdq0SXPnztWxY8c0Y8YM7du3T4mJifV9SwAAANAAOPUVcPv27dOjjz5qfK4OriNGjNCqVas0adIklZaWasyYMTp//rweeughbdq0SR4eHsYxq1evVmJiovr27SsXFxcNGTJEixYtMsa9vLy0ZcsWJSQkqEePHvL19VVycrLDu5R79uyplJQUTZ06Vf/zP/+jtm3bKjU1VR07dqyHuwAAAICGxqkhuU+fPrLb7Vcdt1gsmjVrlmbNmnXVGh8fH6WkpFzzPJ07d9bOnTuvWTN06FANHTr02g0DAADgjtBg1yQDAAAAzkJIBgAAAEwIyQAAAIAJIRkAAAAwISQDAAAAJoRkAAAAwISQDAAAAJgQkgEAAAATQjIAAABgQkgGAAAATAjJAAAAgAkhGQAAADAhJAMAAAAmhGQAAADAhJAMAAAAmBCSAQAAABNCMgAAAGBCSAYAAABMXJ3dAADcznJzc1VYWFgnc/n6+iokJKRO5gIAXBshGQBukdzcXIWHR6is7EKdzOfp2UzHjh0lKANAPSAkA8AtUlhYqLKyC4oaNV3WwNBazWU7e0KZK2aqsLCQkAwA9YCQDAC3mDUwVD4h7ZzdBgDgJvDFPQAAAMCEkAwAAACYEJIBAAAAE0IyAAAAYEJIBgAAAEwIyQAAAIAJIRkAAAAwqVFIvueee/S///u/l+0/f/687rnnnlo3BQAAADhTjULyiRMndOnSpcv2l5eX6/Tp07VuqtqlS5c0bdo0hYWFydPTUz/96U/1+uuvy263GzV2u13JyckKDAyUp6enYmJi9PXXXzvMU1RUpLi4OFmtVnl7eys+Pl4lJSUONQcOHNDDDz8sDw8PBQcHa86cOXV2HQAAAGhcbuoX99avX2/8efPmzfLy8jI+X7p0Senp6QoNDa2z5t5++20tXbpUH3zwgTp06KB9+/Zp5MiR8vLy0ksvvSRJmjNnjhYtWqQPPvhAYWFhmjZtmmJjY3XkyBF5eHhIkuLi4nT27FmlpaWpsrJSI0eO1JgxY5SSkiJJstls6tevn2JiYrRs2TIdPHhQo0aNkre3t8aMGVNn1wMAAIDG4aZC8uDBgyVJFotFI0aMcBhr2rSpQkNDNXfu3DprbteuXXryySc1aNAgSVJoaKj+8pe/aM+ePZJ+eIq8YMECTZ06VU8++aQk6U9/+pP8/f2Vmpqq4cOH6+jRo9q0aZP27t2ryMhISdLixYs1cOBAvfvuuwoKCtLq1atVUVGhFStWyM3NTR06dFB2drbmzZtHSAYAALgD3dRyi6qqKlVVVSkkJEQFBQXG56qqKpWXlysnJ0ePP/54nTXXs2dPpaen66uvvpIk/fOf/9Q//vEPDRgwQJJ0/Phx5eXlKSYmxjjGy8tLUVFRysjIkCRlZGTI29vbCMiSFBMTIxcXF2VmZho1vXv3lpubm1ETGxurnJwcnTt37oq9lZeXy2azOWwAAAC4PdzUk+Rqx48fr+s+rui1116TzWZTeHi4mjRpokuXLum3v/2t4uLiJEl5eXmSJH9/f4fj/P39jbG8vDz5+fk5jLu6usrHx8ehJiws7LI5qsdatmx5WW+zZ8/WzJkz6+AqAQAA0NDUKCRLUnp6utLT040nyj+2YsWKWjcmSR9++KFWr16tlJQUYwnEhAkTFBQUdNlyj/o2efJkJSUlGZ9tNpuCg4Od2BEAAADqSo1C8syZMzVr1ixFRkYqMDBQFoulrvuSJL3yyit67bXXNHz4cElSp06ddPLkSc2ePVsjRoxQQECAJCk/P1+BgYHGcfn5+erataskKSAgQAUFBQ7zXrx4UUVFRcbxAQEBys/Pd6ip/lxdY+bu7i53d/faXyQAAAAanBqF5GXLlmnVqlV67rnn6rofBxcuXJCLi+Oy6SZNmhhPrsPCwhQQEKD09HQjFNtsNmVmZmrs2LGSpOjoaJ0/f15ZWVnq0aOHJGnbtm2qqqpSVFSUUTNlyhRVVlaqadOmkqS0tDS1a9fuikstAAAAcHur0XuSKyoq1LNnz7ru5TJPPPGEfvvb3+qTTz7RiRMntG7dOs2bN0+/+MUvJP3wlo0JEybojTfe0Pr163Xw4EE9//zzCgoKMt7EERERof79+2v06NHas2ePvvjiCyUmJmr48OEKCgqSJD3zzDNyc3NTfHy8Dh8+rLVr12rhwoUOyykAAABw56jRk+QXXnhBKSkpmjZtWl3342Dx4sWaNm2a/uu//ksFBQUKCgrSb37zGyUnJxs1kyZNUmlpqcaMGaPz58/roYce0qZNm4x3JEvS6tWrlZiYqL59+8rFxUVDhgzRokWLjHEvLy9t2bJFCQkJ6tGjh3x9fZWcnNzgX/+Wm5urwsLCOpvP19dXISEhdTYfAABAY1WjkPz9999r+fLl2rp1qzp37mwsUag2b968OmmuRYsWWrBggRYsWHDVGovFolmzZmnWrFlXrfHx8TF+OORqOnfurJ07d9a01XqXm5ur8PAIlZVdqLM5PT2b6dixowRlAABwx6tRSD5w4ICxBvjQoUMOY7fqS3xwVFhYqLKyC4oaNV3WwNBaz2c7e0KZK2aqsLCQkAwAAO54NQrJn332WV33gRqyBobKJ6Sds9sAAAC4rdToi3sAAADA7axGT5IfffTRay6r2LZtW40bAgAAAJytRiG5ej1ytcrKSmVnZ+vQoUNO/yU8AAAAoLZqFJLnz59/xf0zZsxQSUlJrRoCAAAAnK1O1yQ/++yzWrFiRV1OCQAAANS7Og3JGRkZDj/iAQAAADRGNVpu8dRTTzl8ttvtOnv2rPbt23fLf4UPAAAAuNVqFJK9vLwcPru4uKhdu3aaNWuW+vXrVyeNAQDuTLm5uSosLKyz+Xx9ffmRJAA3rUYheeXKlXXdBwAAys3NVXh4hMrKLtTZnJ6ezXTs2FGCMoCbUqOQXC0rK0tHjx6VJHXo0EHdunWrk6YAAHemwsJClZVdUNSo6bIGhtZ6PtvZE8pcMVOFhYWEZAA3pUYhuaCgQMOHD9fnn38ub29vSdL58+f16KOPas2aNfrJT35Slz0CAO4w1sBQ+YS0c3YbAO5gNXq7xbhx4/Tdd9/p8OHDKioqUlFRkQ4dOiSbzaaXXnqprnsEAAAA6lWNniRv2rRJW7duVUREhLGvffv2WrJkCV/cAwAAQKNXoyfJVVVVatq06WX7mzZtqqqqqlo3BQAAADhTjULyY489pvHjx+vMmTPGvtOnT2vixInq27dvnTUHAAAAOEONQvJ7770nm82m0NBQ/fSnP9VPf/pThYWFyWazafHixXXdIwAAAFCvarQmOTg4WPv379fWrVt17NgxSVJERIRiYmLqtDkAAADAGW7qSfK2bdvUvn172Ww2WSwW/exnP9O4ceM0btw43X///erQoYN27tx5q3oFAAAA6sVNheQFCxZo9OjRslqtl415eXnpN7/5jebNm1dnzQEAAADOcFPLLf75z3/q7bffvup4v3799O6779a6KQAAcHNyc3NVWFhYJ3P5+vryC4W4491USM7Pz7/iq9+MyVxd9e2339a6KQAAcONyc3MVHh6hsrILdTKfp2czHTt2lKCMO9pNheS7775bhw4d0r333nvF8QMHDigwMLBOGgMAADemsLBQZWUXFDVquqyBobWay3b2hDJXzFRhYSEhGXe0mwrJAwcO1LRp09S/f395eHg4jJWVlWn69Ol6/PHH67RBAABwY6yBofIJaefsNoDbwk2F5KlTp+qvf/2r7rvvPiUmJqpdux/+Ih47dkxLlizRpUuXNGXKlFvSKAAAAFBfbiok+/v7a9euXRo7dqwmT54su90uSbJYLIqNjdWSJUvk7+9/SxoFAAAA6stN/5hImzZttHHjRp07d07ffPON7Ha72rZtq5YtW96K/gAAAIB6V6Nf3JOkli1b6v7776/LXgAAAIAG4aZ+TAQAAAC4ExCSAQAAAJMGH5JPnz6tZ599Vq1atZKnp6c6deqkffv2GeN2u13JyckKDAyUp6enYmJi9PXXXzvMUVRUpLi4OFmtVnl7eys+Pl4lJSUONQcOHNDDDz8sDw8PBQcHa86cOfVyfQAAAGh4GnRIPnfunHr16qWmTZvq008/1ZEjRzR37lyHLwnOmTNHixYt0rJly5SZmanmzZsrNjZW33//vVETFxenw4cPKy0tTRs2bNCOHTs0ZswYY9xms6lfv35q06aNsrKy9M4772jGjBlavnx5vV4vAAAAGoYaf3GvPrz99tsKDg7WypUrjX1hYWHGn+12uxYsWKCpU6fqySeflCT96U9/kr+/v1JTUzV8+HAdPXpUmzZt0t69exUZGSlJWrx4sQYOHKh3331XQUFBWr16tSoqKrRixQq5ubmpQ4cOys7O1rx58xzCNAAAAO4MDfpJ8vr16xUZGamhQ4fKz89P3bp10/vvv2+MHz9+XHl5eYqJiTH2eXl5KSoqShkZGZKkjIwMeXt7GwFZkmJiYuTi4qLMzEyjpnfv3nJzczNqYmNjlZOTo3Pnzl2xt/LyctlsNocNAAAAt4cGHZL//e9/a+nSpWrbtq02b96ssWPH6qWXXtIHH3wgScrLy5Oky37AxN/f3xjLy8uTn5+fw7irq6t8fHwcaq40x4/PYTZ79mx5eXkZW3BwcC2vFgAAAA1Fgw7JVVVV6t69u958801169ZNY8aM0ejRo7Vs2TJnt6bJkyeruLjY2E6dOuXslgAAAFBHGnRIDgwMVPv27R32RUREKDc3V5IUEBAgScrPz3eoyc/PN8YCAgJUUFDgMH7x4kUVFRU51Fxpjh+fw8zd3V1Wq9VhAwAAwO2hQYfkXr16KScnx2HfV199pTZt2kj64Ut8AQEBSk9PN8ZtNpsyMzMVHR0tSYqOjtb58+eVlZVl1Gzbtk1VVVWKiooyanbs2KHKykqjJi0tTe3atePntgEAAO5ADTokT5w4Ubt379abb76pb775RikpKVq+fLkSEhIkSRaLRRMmTNAbb7yh9evX6+DBg3r++ecVFBSkwYMHS/rhyXP//v01evRo7dmzR1988YUSExM1fPhwBQUFSZKeeeYZubm5KT4+XocPH9batWu1cOFCJSUlOevSAQAA4EQN+hVw999/v9atW6fJkydr1qxZCgsL04IFCxQXF2fUTJo0SaWlpRozZozOnz+vhx56SJs2bZKHh4dRs3r1aiUmJqpv375ycXHRkCFDtGjRImPcy8tLW7ZsUUJCgnr06CFfX18lJyfz+jcAAIA7VIMOyZL0+OOP6/HHH7/quMVi0axZszRr1qyr1vj4+CglJeWa5+ncubN27txZ4z4BAABw+2jQyy0AAAAAZyAkAwAAACaEZAAAAMCEkAwAAACYEJIBAAAAE0IyAAAAYEJIBgAAAEwIyQAAAIAJIRkAAAAwISQDAAAAJoRkAAAAwISQDAAAAJgQkgEAAAATQjIAAABg4ursBgAAANC45ObmqrCwsE7m8vX1VUhISJ3MVZcIyQAAALhhubm5Cg+PUFnZhTqZz9OzmY4dO9rggjIhGQAAADessLBQZWUXFDVquqyBobWay3b2hDJXzFRhYSEhGQAAAI2fNTBUPiHtnN3GLcMX9wAAAAATQjIAAABgQkgGAAAATAjJAAAAgAkhGQAAADAhJAMAAAAmhGQAAADAhJAMAAAAmBCSAQAAABNCMgAAAGBCSAYAAABMCMkAAACASaMKyW+99ZYsFosmTJhg7Pv++++VkJCgVq1a6a677tKQIUOUn5/vcFxubq4GDRqkZs2ayc/PT6+88oouXrzoUPP555+re/fucnd317333qtVq1bVwxUBAACgIWo0IXnv3r36/e9/r86dOzvsnzhxov7+97/ro48+0vbt23XmzBk99dRTxvilS5c0aNAgVVRUaNeuXfrggw+0atUqJScnGzXHjx/XoEGD9Oijjyo7O1sTJkzQCy+8oM2bN9fb9QEAAKDhaBQhuaSkRHFxcXr//ffVsmVLY39xcbH++Mc/at68eXrsscfUo0cPrVy5Urt27dLu3bslSVu2bNGRI0f05z//WV27dtWAAQP0+uuva8mSJaqoqJAkLVu2TGFhYZo7d64iIiKUmJioX/7yl5o/f75TrhcAAADO1ShCckJCggYNGqSYmBiH/VlZWaqsrHTYHx4erpCQEGVkZEiSMjIy1KlTJ/n7+xs1sbGxstlsOnz4sFFjnjs2NtaY40rKy8tls9kcNgAAANweXJ3dwPWsWbNG+/fv1969ey8by8vLk5ubm7y9vR32+/v7Ky8vz6j5cUCuHq8eu1aNzWZTWVmZPD09Lzv37NmzNXPmzBpfFwAAABquBv0k+dSpUxo/frxWr14tDw8PZ7fjYPLkySouLja2U6dOObslAAAA1JEGHZKzsrJUUFCg7t27y9XVVa6urtq+fbsWLVokV1dX+fv7q6KiQufPn3c4Lj8/XwEBAZKkgICAy952Uf35ejVWq/WKT5Elyd3dXVar1WEDAADA7aFBh+S+ffvq4MGDys7ONrbIyEjFxcUZf27atKnS09ONY3JycpSbm6vo6GhJUnR0tA4ePKiCggKjJi0tTVarVe3btzdqfjxHdU31HAAAALizNOg1yS1atFDHjh0d9jVv3lytWrUy9sfHxyspKUk+Pj6yWq0aN26coqOj9eCDD0qS+vXrp/bt2+u5557TnDlzlJeXp6lTpyohIUHu7u6SpBdffFHvvfeeJk2apFGjRmnbtm368MMP9cknn9TvBQMAAKBBaNAh+UbMnz9fLi4uGjJkiMrLyxUbG6vf/e53xniTJk20YcMGjR07VtHR0WrevLlGjBihWbNmGTVhYWH65JNPNHHiRC1cuFCtW7fWH/7wB8XGxjrjkgAAAOBkjS4kf/755w6fPTw8tGTJEi1ZsuSqx7Rp00YbN2685rx9+vTRl19+WRctAgAAoJFr0GuSAQAAAGcgJAMAAAAmhGQAAADAhJAMAAAAmBCSAQAAABNCMgAAAGBCSAYAAABMCMkAAACACSEZAAAAMCEkAwAAACaEZAAAAMCEkAwAAACYEJIBAAAAE0IyAAAAYEJIBgAAAEwIyQAAAIAJIRkAAAAwISQDAAAAJoRkAAAAwISQDAAAAJgQkgEAAAATQjIAAABgQkgGAAAATAjJAAAAgAkhGQAAADAhJAMAAAAmhGQAAADAhJAMAAAAmBCSAQAAABNCMgAAAGBCSAYAAABMGnRInj17tu6//361aNFCfn5+Gjx4sHJychxqvv/+eyUkJKhVq1a66667NGTIEOXn5zvU5ObmatCgQWrWrJn8/Pz0yiuv6OLFiw41n3/+ubp37y53d3fde++9WrVq1a2+PAAAADRQDTokb9++XQkJCdq9e7fS0tJUWVmpfv36qbS01KiZOHGi/v73v+ujjz7S9u3bdebMGT311FPG+KVLlzRo0CBVVFRo165d+uCDD7Rq1SolJycbNcePH9egQYP06KOPKjs7WxMmTNALL7ygzZs31+v1AgAAoGFwdXYD17Jp0yaHz6tWrZKfn5+ysrLUu3dvFRcX649//KNSUlL02GOPSZJWrlypiIgI7d69Ww8++KC2bNmiI0eOaOvWrfL391fXrl31+uuv69VXX9WMGTPk5uamZcuWKSwsTHPnzpUkRURE6B//+Ifmz5+v2NjYer9uAAAAOFeDfpJsVlxcLEny8fGRJGVlZamyslIxMTFGTXh4uEJCQpSRkSFJysjIUKdOneTv72/UxMbGymaz6fDhw0bNj+eorqme40rKy8tls9kcNgAAANweGk1Irqqq0oQJE9SrVy917NhRkpSXlyc3Nzd5e3s71Pr7+ysvL8+o+XFArh6vHrtWjc1mU1lZ2RX7mT17try8vIwtODi41tcIAACAhqHRhOSEhAQdOnRIa9ascXYrkqTJkyeruLjY2E6dOuXslgAAAFBHGvSa5GqJiYnasGGDduzYodatWxv7AwICVFFRofPnzzs8Tc7Pz1dAQIBRs2fPHof5qt9+8eMa8xsx8vPzZbVa5enpecWe3N3d5e7uXutrAwAAQMPToJ8k2+12JSYmat26ddq2bZvCwsIcxnv06KGmTZsqPT3d2JeTk6Pc3FxFR0dLkqKjo3Xw4EEVFBQYNWlpabJarWrfvr1R8+M5qmuq5wAAAMCdpUE/SU5ISFBKSor+9re/qUWLFsYaYi8vL3l6esrLy0vx8fFKSkqSj4+PrFarxo0bp+joaD344IOSpH79+ql9+/Z67rnnNGfOHOXl5Wnq1KlKSEgwngS/+OKLeu+99zRp0iSNGjVK27Zt04cffqhPPvnEadcOAAAA52nQT5KXLl2q4uJi9enTR4GBgca2du1ao2b+/Pl6/PHHNWTIEPXu3VsBAQH661//aow3adJEGzZsUJMmTRQdHa1nn31Wzz//vGbNmmXUhIWF6ZNPPlFaWpq6dOmiuXPn6g9/+AOvfwMAALhDNegnyXa7/bo1Hh4eWrJkiZYsWXLVmjZt2mjjxo3XnKdPnz768ssvb7pHAAAA3H4a9JNkAAAAwBkIyQAAAIAJIRkAAAAwISQDAAAAJoRkAAAAwISQDAAAAJgQkgEAAAATQjIAAABgQkgGAAAATAjJAAAAgAkhGQAAADAhJAMAAAAmhGQAAADAhJAMAAAAmBCSAQAAABNCMgAAAGBCSAYAAABMCMkAAACACSEZAAAAMCEkAwAAACaEZAAAAMCEkAwAAACYEJIBAAAAE0IyAAAAYEJIBgAAAEwIyQAAAIAJIRkAAAAwISQDAAAAJoRkAAAAwISQDAAAAJgQkgEAAAATQrLJkiVLFBoaKg8PD0VFRWnPnj3ObgkAAAD1jJD8I2vXrlVSUpKmT5+u/fv3q0uXLoqNjVVBQYGzWwMAAEA9IiT/yLx58zR69GiNHDlS7du317Jly9SsWTOtWLHC2a0BAACgHrk6u4GGoqKiQllZWZo8ebKxz8XFRTExMcrIyLisvry8XOXl5cbn4uJiSZLNZrv1zUoqKSmRJBWdzNHF8rJaz2fLy5UkZWVlGXPXhouLi6qqqmo9T13Pl5OTI+nOuG91OVdd3re6vmcS960m+DtaM3fCfePvaM1w32qm+r6VlJTUS4aqPofdbr9urcV+I1V3gDNnzujuu+/Wrl27FB0dbeyfNGmStm/frszMTIf6GTNmaObMmfXdJgAAAGrp1KlTat269TVreJJcQ5MnT1ZSUpLxuaqqSkVFRWrVqpUsFsstP7/NZlNwcLBOnTolq9V6y893O+Ie1g73r/a4h7XD/as97mHtcP9qr77vod1u13fffaegoKDr1hKS/4+vr6+aNGmi/Px8h/35+fkKCAi4rN7d3V3u7u4O+7y9vW9li1dktVr5i1lL3MPa4f7VHvewdrh/tcc9rB3uX+3V5z308vK6oTq+uPd/3Nzc1KNHD6Wnpxv7qqqqlJ6e7rD8AgAAALc/niT/SFJSkkaMGKHIyEg98MADWrBggUpLSzVy5EhntwYAAIB6REj+kWHDhunbb79VcnKy8vLy1LVrV23atEn+/v7Obu0y7u7umj59+mVLPnDjuIe1w/2rPe5h7XD/ao97WDvcv9pryPeQt1sAAAAAJqxJBgAAAEwIyQAAAIAJIRkAAAAwISQDAAAAJoTkRmrJkiUKDQ2Vh4eHoqKitGfPHme31Gjs2LFDTzzxhIKCgmSxWJSamurslhqV2bNn6/7771eLFi3k5+enwYMHKycnx9ltNSpLly5V586djZfnR0dH69NPP3V2W43WW2+9JYvFogkTJji7lUZjxowZslgsDlt4eLiz22pUTp8+rWeffVatWrWSp6enOnXqpH379jm7rUYjNDT0sv8GLRaLEhISnN2agZDcCK1du1ZJSUmaPn269u/fry5duig2NlYFBQXObq1RKC0tVZcuXbRkyRJnt9Iobd++XQkJCdq9e7fS0tJUWVmpfv36qbS01NmtNRqtW7fWW2+9paysLO3bt0+PPfaYnnzySR0+fNjZrTU6e/fu1e9//3t17tzZ2a00Oh06dNDZs2eN7R//+IezW2o0zp07p169eqlp06b69NNPdeTIEc2dO1ctW7Z0dmuNxt69ex3++0tLS5MkDR061Mmd/X+8Aq4RioqK0v3336/33ntP0g+/DBgcHKxx48bptddec3J3jYvFYtG6des0ePBgZ7fSaH377bfy8/PT9u3b1bt3b2e302j5+PjonXfeUXx8vLNbaTRKSkrUvXt3/e53v9Mbb7yhrl27asGCBc5uq1GYMWOGUlNTlZ2d7exWGqXXXntNX3zxhXbu3OnsVm4bEyZM0IYNG/T111/LYrE4ux1JPEludCoqKpSVlaWYmBhjn4uLi2JiYpSRkeHEznCnKi4ulvRDyMPNu3TpktasWaPS0lJFR0c7u51GJSEhQYMGDXL4/yFu3Ndff62goCDdc889iouLU25urrNbajTWr1+vyMhIDR06VH5+furWrZvef/99Z7fVaFVUVOjPf/6zRo0a1WACskRIbnQKCwt16dKly34F0N/fX3l5eU7qCneqqqoqTZgwQb169VLHjh2d3U6jcvDgQd11111yd3fXiy++qHXr1ql9+/bObqvRWLNmjfbv36/Zs2c7u5VGKSoqSqtWrdKmTZu0dOlSHT9+XA8//LC+++47Z7fWKPz73//W0qVL1bZtW23evFljx47VSy+9pA8++MDZrTVKqampOn/+vH796187uxUH/Cw1gBpLSEjQoUOHWMtYA+3atVN2draKi4v18ccfa8SIEdq+fTtB+QacOnVK48ePV1pamjw8PJzdTqM0YMAA48+dO3dWVFSU2rRpow8//JAlPzegqqpKkZGRevPNNyVJ3bp106FDh7Rs2TKNGDHCyd01Pn/84x81YMAABQUFObsVBzxJbmR8fX3VpEkT5efnO+zPz89XQECAk7rCnSgxMVEbNmzQZ599ptatWzu7nUbHzc1N9957r3r06KHZs2erS5cuWrhwobPbahSysrJUUFCg7t27y9XVVa6urtq+fbsWLVokV1dXXbp0ydktNjre3t6677779M033zi7lUYhMDDwsn/QRkREsGSlBk6ePKmtW7fqhRdecHYrlyEkNzJubm7q0aOH0tPTjX1VVVVKT09nPSPqhd1uV2JiotatW6dt27YpLCzM2S3dFqqqqlReXu7sNhqFvn376uDBg8rOzja2yMhIxcXFKTs7W02aNHF2i41OSUmJ/vWvfykwMNDZrTQKvXr1uuzVl1999ZXatGnjpI4ar5UrV8rPz0+DBg1ydiuXYblFI5SUlKQRI0YoMjJSDzzwgBYsWKDS0lKNHDnS2a01CiUlJQ5PS44fP67s7Gz5+PgoJCTEiZ01DgkJCUpJSdHf/vY3tWjRwlgL7+XlJU9PTyd31zhMnjxZAwYMUEhIiL777julpKTo888/1+bNm53dWqPQokWLy9bAN2/eXK1atWJt/A367//+bz3xxBNq06aNzpw5o+nTp6tJkyZ6+umnnd1aozBx4kT17NlTb775pn71q19pz549Wr58uZYvX+7s1hqVqqoqrVy5UiNGjJCrawOMpHY0SosXL7aHhITY3dzc7A888IB99+7dzm6p0fjss8/ski7bRowY4ezWGoUr3TtJ9pUrVzq7tUZj1KhR9jZt2tjd3NzsP/nJT+x9+/a1b9myxdltNWqPPPKIffz48c5uo9EYNmyYPTAw0O7m5ma/++677cOGDbN/8803zm6rUfn73/9u79ixo93d3d0eHh5uX758ubNbanQ2b95sl2TPyclxditXxHuSAQAAABPWJAMAAAAmhGQAAADAhJAMAAAAmBCSAQAAABNCMgAAAGBCSAYAAABMCMkAAACACSEZABqRGTNmqGvXrsbnX//61xo8eLDT+nEWi8Wi1NRUZ7cB4DZGSAYASJLOnz+vhIQEBQYGyt3dXffdd582btzo1J7M/ygAgPrSAH8oGwBQ3yoqKvSzn/1Mfn5++vjjj3X33Xfr5MmT8vb2dnZrAOAUPEkGgHpWVVWlOXPm6N5775W7u7tCQkL029/+VpL06quv6r777lOzZs10zz33aNq0aaqsrLzhuT/++GN16tRJnp6eatWqlWJiYlRaWnrd41asWKGioiKlpqaqV69eCg0N1SOPPKIuXbrc0Hn79OmjcePGacKECWrZsqX8/f31/vvvq7S0VCNHjlSLFi1077336tNPPzWO+fzzz2WxWJSenq7IyEg1a9ZMPXv2VE5OjiRp1apVmjlzpv75z3/KYrHIYrFo1apVxvGFhYX6xS9+oWbNmqlt27Zav379Dd8nALgeQjIA1LPJkyfrrbfe0rRp03TkyBGlpKTI399fktSiRQutWrVKR44c0cKFC/X+++9r/vz5NzTv2bNn9fTTT2vUqFE6evSoPv/8cz311FOy2+3XPXb9+vWKjo5WQkKC/P391bFjR7355pu6dOnSDV/XBx98IF9fX+3Zs0fjxo3T2LFjNXToUPXs2VP79+9Xv3799Nxzz+nChQsOx02ZMkVz587Vvn375OrqqlGjRkmShg0bppdfflkdOnTQ2bNndfbsWQ0bNsw4bubMmfrVr36lAwcOaODAgYqLi1NRUdEN9wsA12QHANQbm81md3d3t7///vs3VP/OO+/Ye/ToYXyePn26vUuXLsbnESNG2J988km73W63Z2Vl2SXZT5w4cdN9tWvXzu7u7m4fNWqUfd++ffY1a9bYfXx87DNmzLih4x955BH7Qw89ZHy+ePGivXnz5vbnnnvO2Hf27Fm7JHtGRobdbrfbP/vsM7sk+9atW42aTz75xC7JXlZWdsXrrSbJPnXqVONzSUmJXZL9008/vanrBoCrYU0yANSjo0ePqry8XH379r3i+Nq1a7Vo0SL961//UklJiS5evCir1XpDc3fp0kV9+/ZVp06dFBsbq379+umXv/ylWrZsed1jq6qq5Ofnp+XLl6tJkybq0aOHTp8+rXfeeUfTp0+/ofN37tzZ+HOTJk3UqlUrderUydhX/bS8oKDgqscFBgYaNSEhITd8vubNm8tqtV42NwDUFMstAKAeeXp6XnUsIyNDcXFxGjhwoDZs2KAvv/xSU6ZMUUVFxQ3N3aRJE6WlpenTTz9V+/bttXjxYrVr107Hjx+/7rGBgYG677771KRJE2NfRESE8vLybvj8TZs2dfhssVgc9lksFkk/BPKrHXe1mhs9340cBwA3gpAMAPWobdu28vT0VHp6+mVju3btUps2bTRlyhRFRkaqbdu2Onny5E3Nb7FY1KtXL82cOVNffvml3NzctG7duuse16tXL33zzTcOIfOrr75SYGCg3NzcbqqHuuTm5nZT66IBoK6w3AIA6pGHh4deffVVTZo0SW5uburVq5e+/fZbHT58WG3btlVubq7WrFmj+++/X5988skNBdxqmZmZSk9PV79+/eTn56fMzEx9++23ioiIuO6xY8eO1Xvvvafx48dr3Lhx+vrrr/Xmm2/qpZdeqs3l1lpoaKiOHz+u7OxstW7dWi1atJC7u7tTewJwZ+BJMgDUs2nTpunll19WcnKyIiIiNGzYMBUUFOjnP/+5Jk6cqMTERHXt2lW7du3StGnTbnheq9WqHTt2aODAgbrvvvs0depUzZ07VwMGDLjuscHBwdq8ebP27t2rzp0766WXXtL48eP12muv1eZSa23IkCHq37+/Hn30Uf3kJz/RX/7yF6f2A+DOYbHbb+DdQAAAAMAdhCfJAAAAgAkhGQDuAHfddddVt507d17z2Nzc3Gsen5ubW09XAQD1h+UWAHAH+Oabb646dvfdd1/z1XQXL17UiRMnrjoeGhoqV1e+Bw7g9kJIBgAAAExYbgEAAACYEJIBAAAAE0IyAAAAYEJIBgAAAEwIyQAAAIAJIRkAAAAwISQDAAAAJoRkAAAAwOT/ASSX/d7pQKNBAAAAAElFTkSuQmCC",
      "text/plain": [
       "<Figure size 800x400 with 1 Axes>"
      ]
     },
     "metadata": {},
     "output_type": "display_data"
    },
    {
     "data": {
      "image/png": "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",
      "text/plain": [
       "<Figure size 800x400 with 1 Axes>"
      ]
     },
     "metadata": {},
     "output_type": "display_data"
    }
   ],
   "source": [
    "# visualise distributions for numerical columns.  \n",
    "\n",
    "for col in clients_num:\n",
    "    plt.figure(figsize=(8, 4))\n",
    "    sns.histplot(x=clients[col])\n",
    "    plt.show()\n"
   ]
  },
  {
   "cell_type": "code",
<<<<<<< HEAD
   "execution_count": 253,
=======
   "execution_count": 131,
>>>>>>> main
   "metadata": {},
   "outputs": [
    {
     "name": "stderr",
     "output_type": "stream",
     "text": [
      "/var/folders/yf/ydfr37g56sb7b4mncpm76gk00000gn/T/ipykernel_43952/3211288094.py:2: FutureWarning: \n",
      "\n",
      "`shade` is now deprecated in favor of `fill`; setting `fill=True`.\n",
      "This will become an error in seaborn v0.14.0; please update your code.\n",
      "\n",
      "  sns.kdeplot(c['bal'], color='skyblue', shade=True)\n"
     ]
    },
    {
     "data": {
      "image/png": "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",
      "text/plain": [
       "<Figure size 640x480 with 1 Axes>"
      ]
     },
     "metadata": {},
     "output_type": "display_data"
    }
   ],
   "source": [
    "c = clients[clients['bal']<100000]\n",
    "sns.kdeplot(c['bal'], color='skyblue', shade=True)\n",
    "plt.xlabel('Account Balance')\n",
    "plt.show()"
   ]
  },
  {
   "cell_type": "markdown",
   "metadata": {},
   "source": [
    "### Events"
   ]
  },
  {
   "cell_type": "code",
   "execution_count": 132,
   "metadata": {},
   "outputs": [
    {
     "data": {
      "image/png": "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",
      "text/plain": [
       "<Figure size 640x480 with 1 Axes>"
      ]
     },
     "metadata": {},
     "output_type": "display_data"
    }
   ],
   "source": [
    "# Let's see how far in the funnel the users get\n",
    "\n",
    "frequency_table = events[\"process_step\"].value_counts()\n",
    "frequency_table \n",
    "\n",
    "sns.barplot(x=frequency_table.index, y=frequency_table.values);\n",
    "\n",
    "plt.show()"
   ]
  },
  {
   "cell_type": "markdown",
   "metadata": {},
   "source": [
    "### Most active clients"
   ]
  },
  {
   "cell_type": "code",
   "execution_count": 265,
   "metadata": {},
   "outputs": [],
   "source": [
    "# We will count the number of events to identify the most active clients. \n",
    "client_event_counts = events['client_id'].value_counts()\n",
    "clients_events = pd.merge(clients, client_event_counts, on=\"client_id\", how=\"inner\")"
   ]
  },
  {
   "cell_type": "code",
   "execution_count": 266,
   "metadata": {},
   "outputs": [],
   "source": [
    "# order clients by event_count\n",
    "clients_events = clients_events.sort_values(by='count', ascending=False).reset_index(drop=True)"
   ]
  },
  {
   "cell_type": "code",
   "execution_count": 267,
   "metadata": {},
   "outputs": [
    {
     "data": {
      "text/html": [
       "<div>\n",
       "<style scoped>\n",
       "    .dataframe tbody tr th:only-of-type {\n",
       "        vertical-align: middle;\n",
       "    }\n",
       "\n",
       "    .dataframe tbody tr th {\n",
       "        vertical-align: top;\n",
       "    }\n",
       "\n",
       "    .dataframe thead th {\n",
       "        text-align: right;\n",
       "    }\n",
       "</style>\n",
       "<table border=\"1\" class=\"dataframe\">\n",
       "  <thead>\n",
       "    <tr style=\"text-align: right;\">\n",
       "      <th></th>\n",
       "      <th>client_id</th>\n",
       "      <th>clnt_tenure_yr</th>\n",
       "      <th>clnt_tenure_mnth</th>\n",
       "      <th>clnt_age</th>\n",
       "      <th>gendr</th>\n",
       "      <th>num_accts</th>\n",
       "      <th>bal</th>\n",
       "      <th>calls_6_mnth</th>\n",
       "      <th>logons_6_mnth</th>\n",
       "      <th>count</th>\n",
       "    </tr>\n",
       "  </thead>\n",
       "  <tbody>\n",
       "    <tr>\n",
       "      <th>0</th>\n",
<<<<<<< HEAD
       "      <td>836976</td>\n",
       "      <td>6</td>\n",
       "      <td>73</td>\n",
       "      <td>60.5</td>\n",
       "      <td>U</td>\n",
       "      <td>2</td>\n",
       "      <td>45105.30</td>\n",
       "      <td>6</td>\n",
       "      <td>9</td>\n",
       "    </tr>\n",
       "    <tr>\n",
       "      <th>28</th>\n",
       "      <td>3055315</td>\n",
       "      <td>5</td>\n",
       "      <td>65</td>\n",
       "      <td>34.5</td>\n",
       "      <td>F</td>\n",
       "      <td>2</td>\n",
       "      <td>66560.69</td>\n",
       "      <td>1</td>\n",
       "      <td>5</td>\n",
       "    </tr>\n",
       "    <tr>\n",
       "      <th>35</th>\n",
       "      <td>2305285</td>\n",
       "      <td>14</td>\n",
       "      <td>168</td>\n",
       "      <td>54.0</td>\n",
       "      <td>M</td>\n",
       "      <td>2</td>\n",
       "      <td>132347.89</td>\n",
       "      <td>6</td>\n",
       "      <td>9</td>\n",
       "    </tr>\n",
       "    <tr>\n",
       "      <th>37</th>\n",
       "      <td>3065089</td>\n",
       "      <td>19</td>\n",
       "      <td>228</td>\n",
       "      <td>63.0</td>\n",
       "      <td>M</td>\n",
       "      <td>2</td>\n",
       "      <td>439723.43</td>\n",
       "      <td>6</td>\n",
       "      <td>9</td>\n",
       "    </tr>\n",
       "    <tr>\n",
       "      <th>39</th>\n",
       "      <td>9721424</td>\n",
       "      <td>12</td>\n",
       "      <td>152</td>\n",
       "      <td>32.0</td>\n",
       "      <td>F</td>\n",
       "      <td>2</td>\n",
       "      <td>29667.60</td>\n",
       "      <td>0</td>\n",
       "      <td>3</td>\n",
=======
       "      <td>2128341</td>\n",
       "      <td>12</td>\n",
       "      <td>153</td>\n",
       "      <td>52.5</td>\n",
       "      <td>F</td>\n",
       "      <td>2</td>\n",
       "      <td>176731.72</td>\n",
       "      <td>3</td>\n",
       "      <td>3</td>\n",
       "      <td>81</td>\n",
       "    </tr>\n",
       "    <tr>\n",
       "      <th>1</th>\n",
       "      <td>9800867</td>\n",
       "      <td>22</td>\n",
       "      <td>266</td>\n",
       "      <td>62.0</td>\n",
       "      <td>U</td>\n",
       "      <td>2</td>\n",
       "      <td>24449.73</td>\n",
       "      <td>6</td>\n",
       "      <td>6</td>\n",
       "      <td>75</td>\n",
       "    </tr>\n",
       "    <tr>\n",
       "      <th>2</th>\n",
       "      <td>465007</td>\n",
       "      <td>14</td>\n",
       "      <td>179</td>\n",
       "      <td>73.0</td>\n",
       "      <td>M</td>\n",
       "      <td>3</td>\n",
       "      <td>126442.72</td>\n",
       "      <td>6</td>\n",
       "      <td>9</td>\n",
       "      <td>72</td>\n",
       "    </tr>\n",
       "    <tr>\n",
       "      <th>3</th>\n",
       "      <td>9638063</td>\n",
       "      <td>33</td>\n",
       "      <td>406</td>\n",
       "      <td>78.0</td>\n",
       "      <td>F</td>\n",
       "      <td>2</td>\n",
       "      <td>87107.79</td>\n",
       "      <td>6</td>\n",
       "      <td>9</td>\n",
       "      <td>71</td>\n",
       "    </tr>\n",
       "    <tr>\n",
       "      <th>4</th>\n",
       "      <td>3539274</td>\n",
       "      <td>23</td>\n",
       "      <td>282</td>\n",
       "      <td>67.5</td>\n",
       "      <td>M</td>\n",
       "      <td>4</td>\n",
       "      <td>2797594.12</td>\n",
       "      <td>7</td>\n",
       "      <td>7</td>\n",
       "      <td>69</td>\n",
>>>>>>> main
       "    </tr>\n",
       "    <tr>\n",
       "      <th>...</th>\n",
       "      <td>...</td>\n",
       "      <td>...</td>\n",
       "      <td>...</td>\n",
       "      <td>...</td>\n",
       "      <td>...</td>\n",
       "      <td>...</td>\n",
       "      <td>...</td>\n",
       "      <td>...</td>\n",
       "      <td>...</td>\n",
       "      <td>...</td>\n",
       "    </tr>\n",
       "    <tr>\n",
<<<<<<< HEAD
       "      <th>50479</th>\n",
       "      <td>1738333</td>\n",
       "      <td>7</td>\n",
       "      <td>90</td>\n",
       "      <td>68.5</td>\n",
       "      <td>U</td>\n",
       "      <td>2</td>\n",
       "      <td>341777.81</td>\n",
       "      <td>3</td>\n",
       "      <td>6</td>\n",
       "    </tr>\n",
       "    <tr>\n",
       "      <th>50480</th>\n",
       "      <td>1624825</td>\n",
       "      <td>16</td>\n",
       "      <td>195</td>\n",
       "      <td>63.5</td>\n",
       "      <td>F</td>\n",
       "      <td>2</td>\n",
       "      <td>106532.51</td>\n",
       "      <td>3</td>\n",
       "      <td>6</td>\n",
       "    </tr>\n",
       "    <tr>\n",
       "      <th>50482</th>\n",
       "      <td>9677776</td>\n",
       "      <td>5</td>\n",
       "      <td>70</td>\n",
       "      <td>64.5</td>\n",
       "      <td>U</td>\n",
       "      <td>2</td>\n",
       "      <td>57398.19</td>\n",
       "      <td>1</td>\n",
       "      <td>4</td>\n",
       "    </tr>\n",
       "    <tr>\n",
       "      <th>50485</th>\n",
       "      <td>3823121</td>\n",
       "      <td>14</td>\n",
       "      <td>178</td>\n",
       "      <td>68.5</td>\n",
       "      <td>F</td>\n",
       "      <td>2</td>\n",
       "      <td>32666.22</td>\n",
       "      <td>6</td>\n",
       "      <td>9</td>\n",
       "    </tr>\n",
       "    <tr>\n",
       "      <th>50495</th>\n",
       "      <td>1780858</td>\n",
       "      <td>21</td>\n",
       "      <td>262</td>\n",
       "      <td>68.5</td>\n",
       "      <td>M</td>\n",
       "      <td>3</td>\n",
       "      <td>372100.59</td>\n",
       "      <td>6</td>\n",
       "      <td>9</td>\n",
=======
       "      <th>7054</th>\n",
       "      <td>5845872</td>\n",
       "      <td>5</td>\n",
       "      <td>70</td>\n",
       "      <td>23.5</td>\n",
       "      <td>U</td>\n",
       "      <td>2</td>\n",
       "      <td>28614.42</td>\n",
       "      <td>6</td>\n",
       "      <td>9</td>\n",
       "      <td>11</td>\n",
       "    </tr>\n",
       "    <tr>\n",
       "      <th>7055</th>\n",
       "      <td>5098714</td>\n",
       "      <td>11</td>\n",
       "      <td>141</td>\n",
       "      <td>68.5</td>\n",
       "      <td>M</td>\n",
       "      <td>2</td>\n",
       "      <td>1236849.99</td>\n",
       "      <td>4</td>\n",
       "      <td>7</td>\n",
       "      <td>11</td>\n",
       "    </tr>\n",
       "    <tr>\n",
       "      <th>7056</th>\n",
       "      <td>8022911</td>\n",
       "      <td>7</td>\n",
       "      <td>85</td>\n",
       "      <td>67.0</td>\n",
       "      <td>U</td>\n",
       "      <td>2</td>\n",
       "      <td>158011.75</td>\n",
       "      <td>2</td>\n",
       "      <td>5</td>\n",
       "      <td>11</td>\n",
       "    </tr>\n",
       "    <tr>\n",
       "      <th>7057</th>\n",
       "      <td>9495046</td>\n",
       "      <td>16</td>\n",
       "      <td>195</td>\n",
       "      <td>66.5</td>\n",
       "      <td>M</td>\n",
       "      <td>2</td>\n",
       "      <td>32268.96</td>\n",
       "      <td>3</td>\n",
       "      <td>6</td>\n",
       "      <td>11</td>\n",
       "    </tr>\n",
       "    <tr>\n",
       "      <th>7058</th>\n",
       "      <td>8399455</td>\n",
       "      <td>27</td>\n",
       "      <td>325</td>\n",
       "      <td>84.0</td>\n",
       "      <td>F</td>\n",
       "      <td>2</td>\n",
       "      <td>79467.10</td>\n",
       "      <td>0</td>\n",
       "      <td>5</td>\n",
       "      <td>11</td>\n",
>>>>>>> main
       "    </tr>\n",
       "  </tbody>\n",
       "</table>\n",
       "<p>7059 rows × 10 columns</p>\n",
       "</div>"
      ],
      "text/plain": [
<<<<<<< HEAD
       "       client_id  clnt_tenure_yr  clnt_tenure_mnth  clnt_age gendr  num_accts  \\\n",
       "0         836976               6                73      60.5     U          2   \n",
       "28       3055315               5                65      34.5     F          2   \n",
       "35       2305285              14               168      54.0     M          2   \n",
       "37       3065089              19               228      63.0     M          2   \n",
       "39       9721424              12               152      32.0     F          2   \n",
       "...          ...             ...               ...       ...   ...        ...   \n",
       "50479    1738333               7                90      68.5     U          2   \n",
       "50480    1624825              16               195      63.5     F          2   \n",
       "50482    9677776               5                70      64.5     U          2   \n",
       "50485    3823121              14               178      68.5     F          2   \n",
       "50495    1780858              21               262      68.5     M          3   \n",
       "\n",
       "             bal  calls_6_mnth  logons_6_mnth  \n",
       "0       45105.30             6              9  \n",
       "28      66560.69             1              5  \n",
       "35     132347.89             6              9  \n",
       "37     439723.43             6              9  \n",
       "39      29667.60             0              3  \n",
       "...          ...           ...            ...  \n",
       "50479  341777.81             3              6  \n",
       "50480  106532.51             3              6  \n",
       "50482   57398.19             1              4  \n",
       "50485   32666.22             6              9  \n",
       "50495  372100.59             6              9  \n",
=======
       "      client_id  clnt_tenure_yr  clnt_tenure_mnth  clnt_age gendr  num_accts  \\\n",
       "0       2128341              12               153      52.5     F          2   \n",
       "1       9800867              22               266      62.0     U          2   \n",
       "2        465007              14               179      73.0     M          3   \n",
       "3       9638063              33               406      78.0     F          2   \n",
       "4       3539274              23               282      67.5     M          4   \n",
       "...         ...             ...               ...       ...   ...        ...   \n",
       "7054    5845872               5                70      23.5     U          2   \n",
       "7055    5098714              11               141      68.5     M          2   \n",
       "7056    8022911               7                85      67.0     U          2   \n",
       "7057    9495046              16               195      66.5     M          2   \n",
       "7058    8399455              27               325      84.0     F          2   \n",
       "\n",
       "             bal  calls_6_mnth  logons_6_mnth  count  \n",
       "0      176731.72             3              3     81  \n",
       "1       24449.73             6              6     75  \n",
       "2      126442.72             6              9     72  \n",
       "3       87107.79             6              9     71  \n",
       "4     2797594.12             7              7     69  \n",
       "...          ...           ...            ...    ...  \n",
       "7054    28614.42             6              9     11  \n",
       "7055  1236849.99             4              7     11  \n",
       "7056   158011.75             2              5     11  \n",
       "7057    32268.96             3              6     11  \n",
       "7058    79467.10             0              5     11  \n",
>>>>>>> main
       "\n",
       "[7059 rows x 10 columns]"
      ]
     },
<<<<<<< HEAD
     "execution_count": 253,
=======
     "execution_count": 267,
>>>>>>> main
     "metadata": {},
     "output_type": "execute_result"
    }
   ],
   "source": [
    "# Identify the top 10% of active clients (this can be changed to any other percentage if needed)\n",
    "clients_events.head(int(len(clients_events) * 0.10))\n"
   ]
  },
  {
   "cell_type": "code",
<<<<<<< HEAD
   "execution_count": 254,
=======
   "execution_count": 280,
   "metadata": {},
   "outputs": [],
   "source": [
    "# we will signal those clients that are most active (top 10%).\n",
    "\n",
    "clients_events['most_active'] = clients_events['client_id'].isin(clients_events['client_id'].head(int(len(clients_events) * 0.10)))\n",
    "\n",
    "top_client_info = clients_events[clients_events['most_active'] == True]"
   ]
  },
  {
   "cell_type": "code",
   "execution_count": 278,
>>>>>>> main
   "metadata": {},
   "outputs": [
    {
     "name": "stdout",
     "output_type": "stream",
     "text": [
      "Age Analysis:\n",
      " count    7059.000000\n",
      "mean       51.867899\n",
      "std        15.561601\n",
      "min        14.500000\n",
      "25%        40.500000\n",
      "50%        54.500000\n",
      "75%        63.000000\n",
      "max        94.000000\n",
      "Name: clnt_age, dtype: float64\n",
      "\n",
      "Tenure (Years) Analysis:\n",
      " count    7059.000000\n",
      "mean       12.904661\n",
      "std         7.384789\n",
      "min         2.000000\n",
      "25%         6.000000\n",
      "50%        12.000000\n",
      "75%        17.000000\n",
      "max        55.000000\n",
      "Name: clnt_tenure_yr, dtype: float64\n",
      "\n",
      "Tenure (Months) Analysis:\n",
      " count    7059.000000\n",
      "mean      160.762856\n",
      "std        88.371098\n",
      "min        33.000000\n",
      "25%        83.000000\n",
      "50%       146.000000\n",
      "75%       214.000000\n",
      "max       668.000000\n",
      "Name: clnt_tenure_mnth, dtype: float64\n"
     ]
    }
   ],
   "source": [
    "age_analysis = top_client_info['clnt_age'].describe()\n",
    "tenure_years_analysis = top_client_info['clnt_tenure_yr'].describe()\n",
    "tenure_months_analysis = top_client_info['clnt_tenure_mnth'].describe()\n",
    "\n",
    "print(\"Age Analysis:\\n\", age_analysis)\n",
    "print(\"\\nTenure (Years) Analysis:\\n\", tenure_years_analysis)\n",
    "print(\"\\nTenure (Months) Analysis:\\n\", tenure_months_analysis)"
   ]
  },
  {
   "cell_type": "code",
<<<<<<< HEAD
   "execution_count": 255,
   "metadata": {},
   "outputs": [
    {
     "name": "stderr",
     "output_type": "stream",
     "text": [
      "C:\\Users\\Lidia Mayor\\AppData\\Local\\Temp\\ipykernel_30880\\4103859942.py:1: FutureWarning: \n",
      "\n",
      "`shade` is now deprecated in favor of `fill`; setting `fill=True`.\n",
      "This will become an error in seaborn v0.14.0; please update your code.\n",
      "\n",
      "  sns.kdeplot(clients['clnt_age'], color='skyblue', shade=True)\n"
     ]
    },
    {
=======
   "execution_count": 313,
   "metadata": {},
   "outputs": [
    {
>>>>>>> main
     "data": {
      "image/png": "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",
      "text/plain": [
       "<Figure size 640x480 with 1 Axes>"
      ]
     },
     "metadata": {},
     "output_type": "display_data"
    },
    {
<<<<<<< HEAD
     "name": "stderr",
     "output_type": "stream",
     "text": [
      "C:\\Users\\Lidia Mayor\\AppData\\Local\\Temp\\ipykernel_30880\\4103859942.py:5: FutureWarning: \n",
      "\n",
      "`shade` is now deprecated in favor of `fill`; setting `fill=True`.\n",
      "This will become an error in seaborn v0.14.0; please update your code.\n",
      "\n",
      "  sns.kdeplot(top_client_info['clnt_age'], color='skyblue', shade=True)\n"
     ]
    },
    {
=======
>>>>>>> main
     "data": {
      "image/png": "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",
      "text/plain": [
       "<Figure size 640x480 with 1 Axes>"
      ]
     },
     "metadata": {},
     "output_type": "display_data"
    }
   ],
   "source": [
    "# Let's take a look at the distribution for age and tenure. \n",
    "for col in ['clnt_age', 'clnt_tenure_mnth']:\n",
    "    sns.violinplot(data=clients_events, x='most_active', y=col)\n",
    "    plt.show()\n",
    "\n",
    "# the median age and tenure is higher for the most active clients."
   ]
  },
  {
   "cell_type": "code",
<<<<<<< HEAD
   "execution_count": 256,
   "metadata": {},
   "outputs": [
    {
     "name": "stderr",
     "output_type": "stream",
     "text": [
      "C:\\Users\\Lidia Mayor\\AppData\\Local\\Temp\\ipykernel_30880\\1122749775.py:1: FutureWarning: \n",
      "\n",
      "`shade` is now deprecated in favor of `fill`; setting `fill=True`.\n",
      "This will become an error in seaborn v0.14.0; please update your code.\n",
      "\n",
      "  sns.kdeplot(clients['clnt_tenure_yr'], color='skyblue', shade=True)\n"
     ]
    },
    {
     "data": {
      "image/png": "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",
      "text/plain": [
       "<Figure size 640x480 with 1 Axes>"
      ]
     },
     "metadata": {},
     "output_type": "display_data"
    },
    {
     "name": "stderr",
     "output_type": "stream",
     "text": [
      "C:\\Users\\Lidia Mayor\\AppData\\Local\\Temp\\ipykernel_30880\\1122749775.py:5: FutureWarning: \n",
      "\n",
      "`shade` is now deprecated in favor of `fill`; setting `fill=True`.\n",
      "This will become an error in seaborn v0.14.0; please update your code.\n",
      "\n",
      "  sns.kdeplot(top_client_info['clnt_tenure_yr'], color='skyblue', shade=True)\n"
     ]
    },
    {
     "data": {
      "image/png": "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",
=======
   "execution_count": 312,
   "metadata": {},
   "outputs": [
    {
     "data": {
      "image/png": "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",
>>>>>>> main
      "text/plain": [
       "<Figure size 640x480 with 1 Axes>"
      ]
     },
     "metadata": {},
     "output_type": "display_data"
    }
   ],
   "source": [
<<<<<<< HEAD
    "sns.kdeplot(clients['clnt_tenure_yr'], color='skyblue', shade=True)\n",
    "plt.xlabel('Years')\n",
    "plt.title('Distribution of the tenure of all clients')\n",
    "plt.show()\n",
    "sns.kdeplot(top_client_info['clnt_tenure_yr'], color='skyblue', shade=True)\n",
    "plt.xlabel('Years')\n",
    "plt.title('Distribution of the tenure of top clients')\n",
    "plt.show()"
   ]
  },
  {
   "cell_type": "code",
   "execution_count": 257,
   "metadata": {},
   "outputs": [
    {
     "name": "stderr",
     "output_type": "stream",
     "text": [
      "C:\\Users\\Lidia Mayor\\AppData\\Local\\Temp\\ipykernel_30880\\3245863311.py:1: FutureWarning: \n",
      "\n",
      "`shade` is now deprecated in favor of `fill`; setting `fill=True`.\n",
      "This will become an error in seaborn v0.14.0; please update your code.\n",
      "\n",
      "  sns.kdeplot(top_client_info['clnt_tenure_mnth'], color='skyblue', shade=True)\n"
     ]
    },
    {
     "data": {
      "image/png": "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",
      "text/plain": [
       "<Figure size 640x480 with 1 Axes>"
      ]
     },
     "metadata": {},
     "output_type": "display_data"
    }
   ],
   "source": [
    "sns.kdeplot(top_client_info['clnt_tenure_mnth'], color='skyblue', shade=True)\n",
    "plt.xlabel('Months')\n",
    "plt.title('Distribution of the tenure of top clients')\n",
    "plt.show()"
   ]
  },
  {
   "cell_type": "code",
   "execution_count": 258,
   "metadata": {},
   "outputs": [
    {
     "name": "stdout",
     "output_type": "stream",
     "text": [
      "Balance Analysis:\n",
      " count    5.048000e+03\n",
      "mean     1.910168e+05\n",
      "std      3.996731e+05\n",
      "min      2.378961e+04\n",
      "25%      4.568401e+04\n",
      "50%      8.175343e+04\n",
      "75%      1.919637e+05\n",
      "max      1.632004e+07\n",
      "Name: bal, dtype: float64\n",
      "\n",
      "Calls (Last 6 Months) Analysis:\n",
      " count    5048.000000\n",
      "mean        3.597068\n",
      "std         2.181048\n",
      "min         0.000000\n",
      "25%         2.000000\n",
      "50%         4.000000\n",
      "75%         6.000000\n",
      "max         6.000000\n",
      "Name: calls_6_mnth, dtype: float64\n",
      "\n",
      "Logons (Last 6 Months) Analysis:\n",
      " count    5048.000000\n",
      "mean        6.637480\n",
      "std         2.161619\n",
      "min         3.000000\n",
      "25%         5.000000\n",
      "50%         7.000000\n",
      "75%         9.000000\n",
      "max         9.000000\n",
      "Name: logons_6_mnth, dtype: float64\n"
     ]
    }
   ],
   "source": [
    "balance_analysis = top_client_info['bal'].describe()\n",
    "calls_analysis = top_client_info['calls_6_mnth'].describe()\n",
    "logons_analysis = top_client_info['logons_6_mnth'].describe()\n",
    "\n",
    "print(\"Balance Analysis:\\n\", balance_analysis)\n",
    "print(\"\\nCalls (Last 6 Months) Analysis:\\n\", calls_analysis)\n",
    "print(\"\\nLogons (Last 6 Months) Analysis:\\n\", logons_analysis)"
   ]
  },
  {
   "cell_type": "code",
   "execution_count": 259,
   "metadata": {},
   "outputs": [
    {
     "name": "stdout",
     "output_type": "stream",
     "text": [
      "Key Insights:\n",
      "The primary clients using the online process have an average age of 52.765649762282095 years.\n",
      "These clients have an average tenure of 12.803882725832013 years and 159.60360538827257 months.\n",
      "On average, these clients have an account balance of 191016.80021394612 and log in 6.637480190174326 times in the last 6 months.\n",
      "Additionally, they make an average of 3.597068145800317 calls in the last 6 months.\n"
     ]
    }
   ],
   "source": [
    "# Insights Summary\n",
    "print(\"Key Insights:\")\n",
    "print(f\"The primary clients using the online process have an average age of {age_analysis['mean']} years.\")\n",
    "print(f\"These clients have an average tenure of {tenure_years_analysis['mean']} years and {tenure_months_analysis['mean']} months.\")\n",
    "print(f\"On average, these clients have an account balance of {balance_analysis['mean']} and log in {logons_analysis['mean']} times in the last 6 months.\")\n",
    "print(f\"Additionally, they make an average of {calls_analysis['mean']} calls in the last 6 months.\")\n"
   ]
  },
  {
   "cell_type": "code",
   "execution_count": 260,
   "metadata": {},
   "outputs": [],
   "source": [
    "# Sample % of the data for quicker analysis\n",
    "sample_clients = clients.sample(frac=1, random_state=42)  # Adjust the fraction as needed\n",
    "\n",
    "# Merge with events for analysis on sampled data\n",
    "sample_clients_events = pd.merge(sample_clients, events[['client_id', 'process_step']], on=\"client_id\", how=\"inner\")"
   ]
  },
  {
   "cell_type": "code",
   "execution_count": null,
   "metadata": {},
   "outputs": [],
   "source": []
  },
  {
   "cell_type": "code",
   "execution_count": 261,
   "metadata": {},
   "outputs": [
    {
     "name": "stdout",
     "output_type": "stream",
     "text": [
      "Average balance: 149516.7943833066\n",
      "Average calls in last 6 months: 3.0932715352466973\n",
      "Average logons in last 6 months: 6.1318557252362\n"
     ]
    }
   ],
   "source": [
    "# Calculate mean behavior metrics for sampled clients\n",
    "mean_balance = sample_clients['bal'].mean()\n",
    "mean_calls = sample_clients['calls_6_mnth'].mean()\n",
    "mean_logons = sample_clients['logons_6_mnth'].mean()\n",
    "\n",
    "print(f\"Average balance: {mean_balance}\")\n",
    "print(f\"Average calls in last 6 months: {mean_calls}\")\n",
    "print(f\"Average logons in last 6 months: {mean_logons}\")\n"
   ]
  },
  {
   "cell_type": "code",
   "execution_count": 262,
   "metadata": {},
   "outputs": [
    {
     "name": "stdout",
     "output_type": "stream",
     "text": [
      "Test Group - Avg Balance: 148962.60503171248, Avg Calls: 3.061941322651237, Avg Logons: 6.101850821557064\n",
      "Control Group - Avg Balance: 150151.90018575193, Avg Calls: 3.1291762305534303, Avg Logons: 6.16624160503273\n"
     ]
    }
   ],
   "source": [
    "# Merge with clients to add the test/control variation\n",
    "clients_variation = pd.merge(clients, test_in, on=\"client_id\", how=\"left\")\n",
    "\n",
    "# Check the behavior based on Variation (1 = Test, 0 = Control)\n",
    "test_clients = clients_variation[clients_variation['Variation'] == 1]\n",
    "control_clients = clients_variation[clients_variation['Variation'] == 0]\n",
    "\n",
    "# Calculate the average balance, calls, and logons for both groups\n",
    "test_balance_mean = test_clients['bal'].mean()\n",
    "control_balance_mean = control_clients['bal'].mean()\n",
    "\n",
    "test_calls_mean = test_clients['calls_6_mnth'].mean()\n",
    "control_calls_mean = control_clients['calls_6_mnth'].mean()\n",
    "\n",
    "test_logons_mean = test_clients['logons_6_mnth'].mean()\n",
    "control_logons_mean = control_clients['logons_6_mnth'].mean()\n",
    "\n",
    "print(f\"Test Group - Avg Balance: {test_balance_mean}, Avg Calls: {test_calls_mean}, Avg Logons: {test_logons_mean}\")\n",
    "print(f\"Control Group - Avg Balance: {control_balance_mean}, Avg Calls: {control_calls_mean}, Avg Logons: {control_logons_mean}\")\n"
   ]
  },
  {
   "cell_type": "code",
   "execution_count": 263,
   "metadata": {},
   "outputs": [
    {
     "data": {
      "image/png": "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",
      "text/plain": [
       "<Figure size 1000x600 with 1 Axes>"
      ]
     },
     "metadata": {},
     "output_type": "display_data"
    },
    {
     "data": {
      "image/png": "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",
      "text/plain": [
       "<Figure size 1000x600 with 1 Axes>"
      ]
     },
     "metadata": {},
     "output_type": "display_data"
    }
   ],
   "source": [
    "# Plot call frequency distribution for top clients\n",
    "plt.figure(figsize=(10, 6))\n",
    "sns.histplot(top_client_info['calls_6_mnth'], bins=10, kde=True, color='orange')\n",
    "plt.title('Call Frequency (Last 6 Months) for Top Clients', fontsize=15)\n",
    "plt.xlabel('Calls in the Last 6 Months', fontsize=12)\n",
    "plt.ylabel('Frequency', fontsize=12)\n",
=======
    "# There are very high outliers in balance. We will filter them out to see the distribution\n",
    "sns.violinplot(data = clients_events [clients_events['bal'] < 1000000], x='most_active', y='bal')\n",
>>>>>>> main
    "plt.show()\n",
    "\n",
    "# the median balance is higher for most active users. "
   ]
  },
  {
   "cell_type": "code",
<<<<<<< HEAD
   "execution_count": 264,
=======
   "execution_count": 316,
   "metadata": {},
   "outputs": [
    {
     "data": {
      "image/png": "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",
      "text/plain": [
       "<Figure size 640x480 with 1 Axes>"
      ]
     },
     "metadata": {},
     "output_type": "display_data"
    },
    {
     "data": {
      "image/png": "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",
      "text/plain": [
       "<Figure size 640x480 with 1 Axes>"
      ]
     },
     "metadata": {},
     "output_type": "display_data"
    }
   ],
   "source": [
    "for col in ['logons_6_mnth', 'calls_6_mnth']:\n",
    "    sns.countplot(data=clients_events, x=col, hue='most_active')\n",
    "    plt.show()"
   ]
  },
  {
   "cell_type": "markdown",
   "metadata": {},
   "source": [
    "## Behavior analysis"
   ]
  },
  {
   "cell_type": "markdown",
   "metadata": {},
   "source": [
    "We want to analyse if the test affected the user behaviour. \n",
    "With that goal in mind we will some metrics that will later be used to compare the behaviour of those users that participated in the test o that were in the control group. \n",
    "\n",
    "**Key performance indicator**: \n",
    "- Users that \"confirmed\" the operation. \n",
    "Our main goal is to optimise the funnel to increase this metric. We will label this as \"conversion\". \n",
    "\n",
    "**Other metrics**: \n",
    "- Avg. visit duration. \n",
    "- Step duration. \n",
    "- Total errors. \n",
    "- Step errors. \n",
    "- Drop off step. "
   ]
  },
  {
   "cell_type": "code",
   "execution_count": 574,
   "metadata": {},
   "outputs": [
    {
     "name": "stderr",
     "output_type": "stream",
     "text": [
      "/var/folders/yf/ydfr37g56sb7b4mncpm76gk00000gn/T/ipykernel_43952/3071506753.py:4: FutureWarning: Downcasting behavior in `replace` is deprecated and will be removed in a future version. To retain the old behavior, explicitly call `result.infer_objects(copy=False)`. To opt-in to the future behavior, set `pd.set_option('future.no_silent_downcasting', True)`\n",
      "  events['init_step'] = events['process_step'].replace({'start': 0, 'step_1': 1, 'step_2': 2, 'step_3': 3, 'confirm': 4})\n"
     ]
    }
   ],
   "source": [
    "# Duration and step metrics. \n",
    "\n",
    "# turn the step column into a numeric value. \n",
    "events['init_step'] = events['process_step'].replace({'start': 0, 'step_1': 1, 'step_2': 2, 'step_3': 3, 'confirm': 4})\n",
    "\n",
    "# shift the table to calculate the time spent in each step and the next step.\n",
    "# we need to sort by visit_id and date_time first: \n",
    "events = events.sort_values(['visit_id', 'date_time']).reset_index()\n",
    "events[['end_time', 'next_step']] = events[['visit_id', 'date_time','init_step']].groupby('visit_id').shift(-1)\n",
    "events = events.rename(columns={'date_time':'init_time'})\n",
    "\n",
    "# get the time spent on each step\n",
    "events['time_spent'] = (events['end_time']-events['init_time']).dt.total_seconds()\n",
    "\n",
    "# get the 'progress' (difference between the next step and the current step)\n",
    "events['progress'] = events['next_step'] - events['init_step']\n"
   ]
  },
  {
   "cell_type": "code",
   "execution_count": 575,
>>>>>>> main
   "metadata": {},
   "outputs": [
    {
     "data": {
      "text/html": [
       "<div>\n",
       "<style scoped>\n",
       "    .dataframe tbody tr th:only-of-type {\n",
       "        vertical-align: middle;\n",
       "    }\n",
       "\n",
       "    .dataframe tbody tr th {\n",
       "        vertical-align: top;\n",
       "    }\n",
       "\n",
       "    .dataframe thead th {\n",
       "        text-align: right;\n",
       "    }\n",
       "</style>\n",
       "<table border=\"1\" class=\"dataframe\">\n",
       "  <thead>\n",
       "    <tr style=\"text-align: right;\">\n",
       "      <th></th>\n",
       "      <th>client_id</th>\n",
       "      <th>visitor_id</th>\n",
       "      <th>visit_id</th>\n",
       "      <th>process_step</th>\n",
       "      <th>init_time</th>\n",
       "      <th>end_time</th>\n",
       "      <th>time_spent</th>\n",
       "      <th>init_step</th>\n",
       "      <th>next_step</th>\n",
       "      <th>progress</th>\n",
       "    </tr>\n",
       "  </thead>\n",
       "  <tbody>\n",
       "    <tr>\n",
       "      <th>0</th>\n",
<<<<<<< HEAD
       "      <td>Control</td>\n",
       "      <td>140482</td>\n",
       "    </tr>\n",
       "    <tr>\n",
       "      <th>1</th>\n",
       "      <td>Test</td>\n",
       "      <td>176641</td>\n",
=======
       "      <td>3561384</td>\n",
       "      <td>451664975_1722933822</td>\n",
       "      <td>100012776_37918976071_457913</td>\n",
       "      <td>confirm</td>\n",
       "      <td>2017-04-26 13:22:17</td>\n",
       "      <td>2017-04-26 13:23:09</td>\n",
       "      <td>52.0</td>\n",
       "      <td>4</td>\n",
       "      <td>4.0</td>\n",
       "      <td>0.0</td>\n",
       "    </tr>\n",
       "    <tr>\n",
       "      <th>1</th>\n",
       "      <td>3561384</td>\n",
       "      <td>451664975_1722933822</td>\n",
       "      <td>100012776_37918976071_457913</td>\n",
       "      <td>confirm</td>\n",
       "      <td>2017-04-26 13:23:09</td>\n",
       "      <td>NaT</td>\n",
       "      <td>NaN</td>\n",
       "      <td>4</td>\n",
       "      <td>NaN</td>\n",
       "      <td>NaN</td>\n",
       "    </tr>\n",
       "    <tr>\n",
       "      <th>2</th>\n",
       "      <td>9056452</td>\n",
       "      <td>306992881_89423906595</td>\n",
       "      <td>1000165_4190026492_760066</td>\n",
       "      <td>start</td>\n",
       "      <td>2017-06-04 01:07:29</td>\n",
       "      <td>2017-06-04 01:07:32</td>\n",
       "      <td>3.0</td>\n",
       "      <td>0</td>\n",
       "      <td>1.0</td>\n",
       "      <td>1.0</td>\n",
       "    </tr>\n",
       "    <tr>\n",
       "      <th>3</th>\n",
       "      <td>9056452</td>\n",
       "      <td>306992881_89423906595</td>\n",
       "      <td>1000165_4190026492_760066</td>\n",
       "      <td>step_1</td>\n",
       "      <td>2017-06-04 01:07:32</td>\n",
       "      <td>2017-06-04 01:07:56</td>\n",
       "      <td>24.0</td>\n",
       "      <td>1</td>\n",
       "      <td>2.0</td>\n",
       "      <td>1.0</td>\n",
       "    </tr>\n",
       "    <tr>\n",
       "      <th>4</th>\n",
       "      <td>9056452</td>\n",
       "      <td>306992881_89423906595</td>\n",
       "      <td>1000165_4190026492_760066</td>\n",
       "      <td>step_2</td>\n",
       "      <td>2017-06-04 01:07:56</td>\n",
       "      <td>2017-06-04 01:09:13</td>\n",
       "      <td>77.0</td>\n",
       "      <td>2</td>\n",
       "      <td>3.0</td>\n",
       "      <td>1.0</td>\n",
>>>>>>> main
       "    </tr>\n",
       "  </tbody>\n",
       "</table>\n",
       "</div>"
      ],
      "text/plain": [
<<<<<<< HEAD
       "  Variation  event_count\n",
       "0   Control       140482\n",
       "1      Test       176641"
      ]
     },
     "execution_count": 264,
=======
       "   client_id             visitor_id                      visit_id  \\\n",
       "0    3561384   451664975_1722933822  100012776_37918976071_457913   \n",
       "1    3561384   451664975_1722933822  100012776_37918976071_457913   \n",
       "2    9056452  306992881_89423906595     1000165_4190026492_760066   \n",
       "3    9056452  306992881_89423906595     1000165_4190026492_760066   \n",
       "4    9056452  306992881_89423906595     1000165_4190026492_760066   \n",
       "\n",
       "  process_step           init_time            end_time  time_spent  init_step  \\\n",
       "0      confirm 2017-04-26 13:22:17 2017-04-26 13:23:09        52.0          4   \n",
       "1      confirm 2017-04-26 13:23:09                 NaT         NaN          4   \n",
       "2        start 2017-06-04 01:07:29 2017-06-04 01:07:32         3.0          0   \n",
       "3       step_1 2017-06-04 01:07:32 2017-06-04 01:07:56        24.0          1   \n",
       "4       step_2 2017-06-04 01:07:56 2017-06-04 01:09:13        77.0          2   \n",
       "\n",
       "   next_step  progress  \n",
       "0        4.0       0.0  \n",
       "1        NaN       NaN  \n",
       "2        1.0       1.0  \n",
       "3        2.0       1.0  \n",
       "4        3.0       1.0  "
      ]
     },
     "execution_count": 575,
>>>>>>> main
     "metadata": {},
     "output_type": "execute_result"
    }
   ],
   "source": [
    "# change columns order to make them easier to read. \n",
    "events = events[['client_id', 'visitor_id', 'visit_id', 'process_step', 'init_time', 'end_time', 'time_spent', 'init_step', 'next_step', 'progress']]\n",
    "\n",
    "events.head()"
   ]
  },
  {
   "cell_type": "code",
<<<<<<< HEAD
   "execution_count": 265,
   "metadata": {},
   "outputs": [
    {
     "name": "stderr",
     "output_type": "stream",
     "text": [
      "C:\\Users\\Lidia Mayor\\AppData\\Local\\Temp\\ipykernel_30880\\577264953.py:3: FutureWarning: \n",
      "\n",
      "Passing `palette` without assigning `hue` is deprecated and will be removed in v0.14.0. Assign the `x` variable to `hue` and set `legend=False` for the same effect.\n",
      "\n",
      "  sns.barplot(x='Variation', y='event_count', data=event_counts, palette='Set2')\n"
     ]
    },
    {
     "data": {
      "image/png": "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",
=======
   "execution_count": 578,
   "metadata": {},
   "outputs": [],
   "source": [
    "# We will now calculate metrics per client and add them to the test df. \n",
    "# add last step to test df\n",
    "test_metrics = pd.merge(test, events.groupby('client_id')['init_step'].max().reset_index(name='last_step'), on='client_id', how='left')\n",
    "\n",
    "# add converstion to test df  \n",
    "# the value will be 1 if the user completed the process and 0 if they did not.\n",
    "test_metrics['conversion'] = (test_metrics['last_step'] == 4)\n",
    "\n",
    "# get the number of events per client\n",
    "test_metrics = pd.merge(test_metrics, events.groupby('client_id').size().reset_index(name='event_count'), on='client_id', how='left')\n",
    "\n",
    "# get the average time spent in each step per client\n",
    "test_metrics = pd.merge(test_metrics, events.groupby('client_id')['time_spent'].mean().reset_index(name='avg_step_time'), on='client_id', how='left')\n",
    "\n",
    "# get the number of errors (progress < 0) per client \n",
    "test_metrics = pd.merge(test_metrics, events[events['progress'] < 0].groupby('client_id').size().reset_index(name='error_count'), on='client_id', how='left')\n"
   ]
  },
  {
   "cell_type": "code",
   "execution_count": 581,
   "metadata": {},
   "outputs": [
    {
     "data": {
      "text/html": [
       "<div>\n",
       "<style scoped>\n",
       "    .dataframe tbody tr th:only-of-type {\n",
       "        vertical-align: middle;\n",
       "    }\n",
       "\n",
       "    .dataframe tbody tr th {\n",
       "        vertical-align: top;\n",
       "    }\n",
       "\n",
       "    .dataframe thead th {\n",
       "        text-align: right;\n",
       "    }\n",
       "</style>\n",
       "<table border=\"1\" class=\"dataframe\">\n",
       "  <thead>\n",
       "    <tr style=\"text-align: right;\">\n",
       "      <th></th>\n",
       "      <th>client_id</th>\n",
       "      <th>Variation</th>\n",
       "      <th>last_step</th>\n",
       "      <th>conversion</th>\n",
       "      <th>event_count</th>\n",
       "      <th>avg_step_time</th>\n",
       "      <th>error_count</th>\n",
       "    </tr>\n",
       "  </thead>\n",
       "  <tbody>\n",
       "    <tr>\n",
       "      <th>20590</th>\n",
       "      <td>6826961</td>\n",
       "      <td>Test</td>\n",
       "      <td>4</td>\n",
       "      <td>True</td>\n",
       "      <td>6</td>\n",
       "      <td>NaN</td>\n",
       "      <td>NaN</td>\n",
       "    </tr>\n",
       "    <tr>\n",
       "      <th>39672</th>\n",
       "      <td>2647155</td>\n",
       "      <td>Test</td>\n",
       "      <td>4</td>\n",
       "      <td>True</td>\n",
       "      <td>5</td>\n",
       "      <td>NaN</td>\n",
       "      <td>NaN</td>\n",
       "    </tr>\n",
       "    <tr>\n",
       "      <th>763</th>\n",
       "      <td>589393</td>\n",
       "      <td>Test</td>\n",
       "      <td>4</td>\n",
       "      <td>True</td>\n",
       "      <td>5</td>\n",
       "      <td>NaN</td>\n",
       "      <td>NaN</td>\n",
       "    </tr>\n",
       "    <tr>\n",
       "      <th>35433</th>\n",
       "      <td>891230</td>\n",
       "      <td>Test</td>\n",
       "      <td>4</td>\n",
       "      <td>True</td>\n",
       "      <td>5</td>\n",
       "      <td>NaN</td>\n",
       "      <td>NaN</td>\n",
       "    </tr>\n",
       "    <tr>\n",
       "      <th>273</th>\n",
       "      <td>2289897</td>\n",
       "      <td>Control</td>\n",
       "      <td>4</td>\n",
       "      <td>True</td>\n",
       "      <td>5</td>\n",
       "      <td>NaN</td>\n",
       "      <td>NaN</td>\n",
       "    </tr>\n",
       "    <tr>\n",
       "      <th>...</th>\n",
       "      <td>...</td>\n",
       "      <td>...</td>\n",
       "      <td>...</td>\n",
       "      <td>...</td>\n",
       "      <td>...</td>\n",
       "      <td>...</td>\n",
       "      <td>...</td>\n",
       "    </tr>\n",
       "    <tr>\n",
       "      <th>345</th>\n",
       "      <td>304982</td>\n",
       "      <td>Control</td>\n",
       "      <td>0</td>\n",
       "      <td>False</td>\n",
       "      <td>1</td>\n",
       "      <td>NaN</td>\n",
       "      <td>NaN</td>\n",
       "    </tr>\n",
       "    <tr>\n",
       "      <th>352</th>\n",
       "      <td>2498676</td>\n",
       "      <td>Test</td>\n",
       "      <td>0</td>\n",
       "      <td>False</td>\n",
       "      <td>1</td>\n",
       "      <td>NaN</td>\n",
       "      <td>NaN</td>\n",
       "    </tr>\n",
       "    <tr>\n",
       "      <th>360</th>\n",
       "      <td>2611324</td>\n",
       "      <td>Test</td>\n",
       "      <td>0</td>\n",
       "      <td>False</td>\n",
       "      <td>1</td>\n",
       "      <td>NaN</td>\n",
       "      <td>NaN</td>\n",
       "    </tr>\n",
       "    <tr>\n",
       "      <th>361</th>\n",
       "      <td>8766886</td>\n",
       "      <td>Test</td>\n",
       "      <td>0</td>\n",
       "      <td>False</td>\n",
       "      <td>1</td>\n",
       "      <td>NaN</td>\n",
       "      <td>NaN</td>\n",
       "    </tr>\n",
       "    <tr>\n",
       "      <th>50294</th>\n",
       "      <td>5422343</td>\n",
       "      <td>Control</td>\n",
       "      <td>0</td>\n",
       "      <td>False</td>\n",
       "      <td>1</td>\n",
       "      <td>NaN</td>\n",
       "      <td>NaN</td>\n",
       "    </tr>\n",
       "  </tbody>\n",
       "</table>\n",
       "<p>3934 rows × 7 columns</p>\n",
       "</div>"
      ],
      "text/plain": [
       "       client_id Variation  last_step  conversion  event_count  avg_step_time  \\\n",
       "20590    6826961      Test          4        True            6            NaN   \n",
       "39672    2647155      Test          4        True            5            NaN   \n",
       "763       589393      Test          4        True            5            NaN   \n",
       "35433     891230      Test          4        True            5            NaN   \n",
       "273      2289897   Control          4        True            5            NaN   \n",
       "...          ...       ...        ...         ...          ...            ...   \n",
       "345       304982   Control          0       False            1            NaN   \n",
       "352      2498676      Test          0       False            1            NaN   \n",
       "360      2611324      Test          0       False            1            NaN   \n",
       "361      8766886      Test          0       False            1            NaN   \n",
       "50294    5422343   Control          0       False            1            NaN   \n",
       "\n",
       "       error_count  \n",
       "20590          NaN  \n",
       "39672          NaN  \n",
       "763            NaN  \n",
       "35433          NaN  \n",
       "273            NaN  \n",
       "...            ...  \n",
       "345            NaN  \n",
       "352            NaN  \n",
       "360            NaN  \n",
       "361            NaN  \n",
       "50294          NaN  \n",
       "\n",
       "[3934 rows x 7 columns]"
      ]
     },
     "execution_count": 581,
     "metadata": {},
     "output_type": "execute_result"
    }
   ],
   "source": [
    "test_metrics[test_metrics['avg_step_time'].isna()].sort_values('event_count', ascending = False)"
   ]
  },
  {
   "cell_type": "code",
   "execution_count": 589,
   "metadata": {},
   "outputs": [
    {
     "data": {
      "text/html": [
       "<div>\n",
       "<style scoped>\n",
       "    .dataframe tbody tr th:only-of-type {\n",
       "        vertical-align: middle;\n",
       "    }\n",
       "\n",
       "    .dataframe tbody tr th {\n",
       "        vertical-align: top;\n",
       "    }\n",
       "\n",
       "    .dataframe thead th {\n",
       "        text-align: right;\n",
       "    }\n",
       "</style>\n",
       "<table border=\"1\" class=\"dataframe\">\n",
       "  <thead>\n",
       "    <tr style=\"text-align: right;\">\n",
       "      <th></th>\n",
       "      <th>client_id</th>\n",
       "      <th>visitor_id</th>\n",
       "      <th>visit_id</th>\n",
       "      <th>process_step</th>\n",
       "      <th>init_time</th>\n",
       "      <th>end_time</th>\n",
       "      <th>time_spent</th>\n",
       "      <th>init_step</th>\n",
       "      <th>next_step</th>\n",
       "      <th>progress</th>\n",
       "    </tr>\n",
       "  </thead>\n",
       "  <tbody>\n",
       "    <tr>\n",
       "      <th>230929</th>\n",
       "      <td>2498676</td>\n",
       "      <td>793656031_40021852517</td>\n",
       "      <td>380462089_11395191817_585791</td>\n",
       "      <td>start</td>\n",
       "      <td>2017-04-06 09:35:35</td>\n",
       "      <td>NaT</td>\n",
       "      <td>NaN</td>\n",
       "      <td>0</td>\n",
       "      <td>NaN</td>\n",
       "      <td>NaN</td>\n",
       "    </tr>\n",
       "  </tbody>\n",
       "</table>\n",
       "</div>"
      ],
      "text/plain": [
       "        client_id             visitor_id                      visit_id  \\\n",
       "230929    2498676  793656031_40021852517  380462089_11395191817_585791   \n",
       "\n",
       "       process_step           init_time end_time  time_spent  init_step  \\\n",
       "230929        start 2017-04-06 09:35:35      NaT         NaN          0   \n",
       "\n",
       "        next_step  progress  \n",
       "230929        NaN       NaN  "
      ]
     },
     "execution_count": 589,
     "metadata": {},
     "output_type": "execute_result"
    }
   ],
   "source": [
    "events[events['client_id'] == 2498676].sort_values('init_time')"
   ]
  },
  {
   "cell_type": "code",
   "execution_count": null,
   "metadata": {},
   "outputs": [],
   "source": [
    "#let's find null values\n",
    "test_metrics.isnull().sum()\n",
    "\n",
    "#these values indicate that the user didn't spend time on the steps. Let's replace them with 0.\n",
    "test_metrics.fillna(0, inplace=True)\n",
    "test_metrics.head()"
   ]
  },
  {
   "cell_type": "markdown",
   "metadata": {},
   "source": [
    "### Control vs Test"
   ]
  },
  {
   "cell_type": "code",
   "execution_count": 593,
   "metadata": {},
   "outputs": [
    {
     "data": {
      "image/png": "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",
>>>>>>> main
      "text/plain": [
       "<Figure size 800x500 with 1 Axes>"
      ]
     },
     "metadata": {},
     "output_type": "display_data"
    }
   ],
   "source": [
    "# Plot the number of events for Test vs Control groups\n",
    "plt.figure(figsize=(8, 5))\n",
    "sns.barplot(x='Variation', y='event_count', data=test_metrics)\n",
    "plt.title('Number of Events by Test/Control Group', fontsize=15)\n",
    "plt.xlabel('Group', fontsize=12)\n",
    "plt.ylabel('Number of Events', fontsize=12)\n",
    "plt.xticks([0, 1], ['Control', 'Test'])\n",
    "plt.show()"
   ]
  },
  {
   "cell_type": "code",
   "execution_count": 592,
   "metadata": {},
<<<<<<< HEAD
   "outputs": [],
   "source": []
  },
  {
   "cell_type": "markdown",
   "metadata": {},
   "source": [
    "# Probability"
   ]
  },
  {
   "cell_type": "code",
   "execution_count": 266,
   "metadata": {},
   "outputs": [
    {
     "name": "stderr",
     "output_type": "stream",
     "text": [
      "C:\\Users\\Lidia Mayor\\AppData\\Local\\Temp\\ipykernel_30880\\2682578454.py:2: FutureWarning: Downcasting behavior in `replace` is deprecated and will be removed in a future version. To retain the old behavior, explicitly call `result.infer_objects(copy=False)`. To opt-in to the future behavior, set `pd.set_option('future.no_silent_downcasting', True)`\n",
      "  events['num_step'] = events['process_step'].replace(replace_step)\n"
     ]
    }
   ],
   "source": [
    "replace_step = {'start': 0, 'step_1': 1, 'step_2': 2, 'step_3': 3, 'confirm': 4}\n",
    "events['num_step'] = events['process_step'].replace(replace_step)\n",
    "events['reached_confirm'] = events.groupby('client_id')['process_step'].transform(lambda x: int('confirm' in x.values))\n",
    "\n",
    "\n",
    "clients_reached = pd.merge(clients, events[['client_id','reached_confirm']].groupby('client_id').first(), on='client_id', how='inner')\n",
    "clients_reached = pd.merge(clients_reached, test_in, on='client_id', how='inner')"
=======
   "outputs": [
    {
     "data": {
      "image/png": "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",
      "text/plain": [
       "<Figure size 800x500 with 1 Axes>"
      ]
     },
     "metadata": {},
     "output_type": "display_data"
    }
   ],
   "source": [
    "# Plot the number of errors for Test vs Control groups\n",
    "plt.figure(figsize=(8, 5))\n",
    "sns.barplot(x='Variation', y='error_count', data=test_metrics)\n",
    "plt.title('Number of Errors by Test/Control Group', fontsize=15)\n",
    "plt.xlabel('Group', fontsize=12)\n",
    "plt.ylabel('Number of Errors', fontsize=12)\n",
    "plt.xticks([0, 1], ['Control', 'Test'])\n",
    "plt.show()\n",
    "\n"
>>>>>>> main
   ]
  },
  {
   "cell_type": "code",
<<<<<<< HEAD
   "execution_count": 392,
=======
   "execution_count": 200,
>>>>>>> main
   "metadata": {},
   "outputs": [
    {
     "data": {
<<<<<<< HEAD
      "text/html": [
       "<div>\n",
       "<style scoped>\n",
       "    .dataframe tbody tr th:only-of-type {\n",
       "        vertical-align: middle;\n",
       "    }\n",
       "\n",
       "    .dataframe tbody tr th {\n",
       "        vertical-align: top;\n",
       "    }\n",
       "\n",
       "    .dataframe thead th {\n",
       "        text-align: right;\n",
       "    }\n",
       "</style>\n",
       "<table border=\"1\" class=\"dataframe\">\n",
       "  <thead>\n",
       "    <tr style=\"text-align: right;\">\n",
       "      <th></th>\n",
       "      <th>client_id</th>\n",
       "      <th>visitor_id</th>\n",
       "      <th>visit_id</th>\n",
       "      <th>process_step</th>\n",
       "      <th>init_time</th>\n",
       "      <th>end_time</th>\n",
       "      <th>init_step</th>\n",
       "      <th>next_step</th>\n",
       "      <th>reached_confirm</th>\n",
       "      <th>time_spend</th>\n",
       "      <th>step</th>\n",
       "    </tr>\n",
       "  </thead>\n",
       "  <tbody>\n",
       "    <tr>\n",
       "      <th>0</th>\n",
       "      <td>6627522</td>\n",
       "      <td>730634087_44272418812</td>\n",
       "      <td>999988789_76411676596_272843</td>\n",
       "      <td>start</td>\n",
       "      <td>2017-04-21 23:51:09</td>\n",
       "      <td>NaT</td>\n",
       "      <td>0</td>\n",
       "      <td>NaN</td>\n",
       "      <td>1</td>\n",
       "      <td>NaN</td>\n",
       "      <td>NaN</td>\n",
       "    </tr>\n",
       "    <tr>\n",
       "      <th>1</th>\n",
       "      <td>6627522</td>\n",
       "      <td>730634087_44272418812</td>\n",
       "      <td>999988789_76411676596_272843</td>\n",
       "      <td>step_1</td>\n",
       "      <td>2017-04-21 23:51:00</td>\n",
       "      <td>2017-04-21 23:51:09</td>\n",
       "      <td>1</td>\n",
       "      <td>0.0</td>\n",
       "      <td>1</td>\n",
       "      <td>9.0</td>\n",
       "      <td>-1.0</td>\n",
       "    </tr>\n",
       "    <tr>\n",
       "      <th>2</th>\n",
       "      <td>6627522</td>\n",
       "      <td>730634087_44272418812</td>\n",
       "      <td>999988789_76411676596_272843</td>\n",
       "      <td>step_2</td>\n",
       "      <td>2017-04-21 23:50:16</td>\n",
       "      <td>2017-04-21 23:51:00</td>\n",
       "      <td>2</td>\n",
       "      <td>1.0</td>\n",
       "      <td>1</td>\n",
       "      <td>44.0</td>\n",
       "      <td>-1.0</td>\n",
       "    </tr>\n",
       "    <tr>\n",
       "      <th>3</th>\n",
       "      <td>6627522</td>\n",
       "      <td>730634087_44272418812</td>\n",
       "      <td>999988789_76411676596_272843</td>\n",
       "      <td>step_1</td>\n",
       "      <td>2017-04-21 23:49:22</td>\n",
       "      <td>2017-04-21 23:50:16</td>\n",
       "      <td>1</td>\n",
       "      <td>2.0</td>\n",
       "      <td>1</td>\n",
       "      <td>54.0</td>\n",
       "      <td>1.0</td>\n",
       "    </tr>\n",
       "    <tr>\n",
       "      <th>4</th>\n",
       "      <td>6627522</td>\n",
       "      <td>730634087_44272418812</td>\n",
       "      <td>999988789_76411676596_272843</td>\n",
       "      <td>start</td>\n",
       "      <td>2017-04-21 23:49:11</td>\n",
       "      <td>2017-04-21 23:49:22</td>\n",
       "      <td>0</td>\n",
       "      <td>1.0</td>\n",
       "      <td>1</td>\n",
       "      <td>11.0</td>\n",
       "      <td>1.0</td>\n",
       "    </tr>\n",
       "    <tr>\n",
       "      <th>5</th>\n",
       "      <td>4064969</td>\n",
       "      <td>110735946_42614968419</td>\n",
       "      <td>999985675_64610694964_443659</td>\n",
       "      <td>confirm</td>\n",
       "      <td>2017-04-20 10:02:48</td>\n",
       "      <td>NaT</td>\n",
       "      <td>4</td>\n",
       "      <td>NaN</td>\n",
       "      <td>1</td>\n",
       "      <td>NaN</td>\n",
       "      <td>NaN</td>\n",
       "    </tr>\n",
       "    <tr>\n",
       "      <th>6</th>\n",
       "      <td>4064969</td>\n",
       "      <td>110735946_42614968419</td>\n",
       "      <td>999985675_64610694964_443659</td>\n",
       "      <td>step_3</td>\n",
       "      <td>2017-04-20 09:48:45</td>\n",
       "      <td>2017-04-20 10:02:48</td>\n",
       "      <td>3</td>\n",
       "      <td>4.0</td>\n",
       "      <td>1</td>\n",
       "      <td>843.0</td>\n",
       "      <td>1.0</td>\n",
       "    </tr>\n",
       "    <tr>\n",
       "      <th>7</th>\n",
       "      <td>4064969</td>\n",
       "      <td>110735946_42614968419</td>\n",
       "      <td>999985675_64610694964_443659</td>\n",
       "      <td>step_2</td>\n",
       "      <td>2017-04-20 09:47:04</td>\n",
       "      <td>2017-04-20 09:48:45</td>\n",
       "      <td>2</td>\n",
       "      <td>3.0</td>\n",
       "      <td>1</td>\n",
       "      <td>101.0</td>\n",
       "      <td>1.0</td>\n",
       "    </tr>\n",
       "    <tr>\n",
       "      <th>8</th>\n",
       "      <td>4064969</td>\n",
       "      <td>110735946_42614968419</td>\n",
       "      <td>999985675_64610694964_443659</td>\n",
       "      <td>step_1</td>\n",
       "      <td>2017-04-20 09:46:26</td>\n",
       "      <td>2017-04-20 09:47:04</td>\n",
       "      <td>1</td>\n",
       "      <td>2.0</td>\n",
       "      <td>1</td>\n",
       "      <td>38.0</td>\n",
       "      <td>1.0</td>\n",
       "    </tr>\n",
       "    <tr>\n",
       "      <th>9</th>\n",
       "      <td>4064969</td>\n",
       "      <td>110735946_42614968419</td>\n",
       "      <td>999985675_64610694964_443659</td>\n",
       "      <td>start</td>\n",
       "      <td>2017-04-20 09:45:18</td>\n",
       "      <td>2017-04-20 09:46:26</td>\n",
       "      <td>0</td>\n",
       "      <td>1.0</td>\n",
       "      <td>1</td>\n",
       "      <td>68.0</td>\n",
       "      <td>1.0</td>\n",
       "    </tr>\n",
       "    <tr>\n",
       "      <th>10</th>\n",
       "      <td>829911</td>\n",
       "      <td>648229874_89449279372</td>\n",
       "      <td>999984454_18731538378_781808</td>\n",
       "      <td>confirm</td>\n",
       "      <td>2017-03-29 11:21:07</td>\n",
       "      <td>NaT</td>\n",
       "      <td>4</td>\n",
       "      <td>NaN</td>\n",
       "      <td>1</td>\n",
       "      <td>NaN</td>\n",
       "      <td>NaN</td>\n",
       "    </tr>\n",
       "    <tr>\n",
       "      <th>11</th>\n",
       "      <td>829911</td>\n",
       "      <td>648229874_89449279372</td>\n",
       "      <td>999984454_18731538378_781808</td>\n",
       "      <td>step_3</td>\n",
       "      <td>2017-03-29 11:20:23</td>\n",
       "      <td>2017-03-29 11:21:07</td>\n",
       "      <td>3</td>\n",
       "      <td>4.0</td>\n",
       "      <td>1</td>\n",
       "      <td>44.0</td>\n",
       "      <td>1.0</td>\n",
       "    </tr>\n",
       "    <tr>\n",
       "      <th>12</th>\n",
       "      <td>829911</td>\n",
       "      <td>648229874_89449279372</td>\n",
       "      <td>999984454_18731538378_781808</td>\n",
       "      <td>step_2</td>\n",
       "      <td>2017-03-29 11:19:32</td>\n",
       "      <td>2017-03-29 11:20:23</td>\n",
       "      <td>2</td>\n",
       "      <td>3.0</td>\n",
       "      <td>1</td>\n",
       "      <td>51.0</td>\n",
       "      <td>1.0</td>\n",
       "    </tr>\n",
       "    <tr>\n",
       "      <th>13</th>\n",
       "      <td>829911</td>\n",
       "      <td>648229874_89449279372</td>\n",
       "      <td>999984454_18731538378_781808</td>\n",
       "      <td>step_1</td>\n",
       "      <td>2017-03-29 11:18:51</td>\n",
       "      <td>2017-03-29 11:19:32</td>\n",
       "      <td>1</td>\n",
       "      <td>2.0</td>\n",
       "      <td>1</td>\n",
       "      <td>41.0</td>\n",
       "      <td>1.0</td>\n",
       "    </tr>\n",
       "    <tr>\n",
       "      <th>14</th>\n",
       "      <td>829911</td>\n",
       "      <td>648229874_89449279372</td>\n",
       "      <td>999984454_18731538378_781808</td>\n",
       "      <td>start</td>\n",
       "      <td>2017-03-29 11:18:33</td>\n",
       "      <td>2017-03-29 11:18:51</td>\n",
       "      <td>0</td>\n",
       "      <td>1.0</td>\n",
       "      <td>1</td>\n",
       "      <td>18.0</td>\n",
       "      <td>1.0</td>\n",
       "    </tr>\n",
       "    <tr>\n",
       "      <th>15</th>\n",
       "      <td>4449968</td>\n",
       "      <td>842902495_57580498240</td>\n",
       "      <td>999976049_95772503197_182554</td>\n",
       "      <td>confirm</td>\n",
       "      <td>2017-04-04 13:02:18</td>\n",
       "      <td>NaT</td>\n",
       "      <td>4</td>\n",
       "      <td>NaN</td>\n",
       "      <td>1</td>\n",
       "      <td>NaN</td>\n",
       "      <td>NaN</td>\n",
       "    </tr>\n",
       "    <tr>\n",
       "      <th>16</th>\n",
       "      <td>4449968</td>\n",
       "      <td>842902495_57580498240</td>\n",
       "      <td>999976049_95772503197_182554</td>\n",
       "      <td>step_3</td>\n",
       "      <td>2017-04-04 12:59:35</td>\n",
       "      <td>2017-04-04 13:02:18</td>\n",
       "      <td>3</td>\n",
       "      <td>4.0</td>\n",
       "      <td>1</td>\n",
       "      <td>163.0</td>\n",
       "      <td>1.0</td>\n",
       "    </tr>\n",
       "    <tr>\n",
       "      <th>17</th>\n",
       "      <td>4449968</td>\n",
       "      <td>842902495_57580498240</td>\n",
       "      <td>999976049_95772503197_182554</td>\n",
       "      <td>step_3</td>\n",
       "      <td>2017-04-04 12:54:54</td>\n",
       "      <td>2017-04-04 12:59:35</td>\n",
       "      <td>3</td>\n",
       "      <td>3.0</td>\n",
       "      <td>1</td>\n",
       "      <td>281.0</td>\n",
       "      <td>0.0</td>\n",
       "    </tr>\n",
       "    <tr>\n",
       "      <th>18</th>\n",
       "      <td>4449968</td>\n",
       "      <td>842902495_57580498240</td>\n",
       "      <td>999976049_95772503197_182554</td>\n",
       "      <td>step_2</td>\n",
       "      <td>2017-04-04 12:53:01</td>\n",
       "      <td>2017-04-04 12:54:54</td>\n",
       "      <td>2</td>\n",
       "      <td>3.0</td>\n",
       "      <td>1</td>\n",
       "      <td>113.0</td>\n",
       "      <td>1.0</td>\n",
       "    </tr>\n",
       "    <tr>\n",
       "      <th>19</th>\n",
       "      <td>4449968</td>\n",
       "      <td>842902495_57580498240</td>\n",
       "      <td>999976049_95772503197_182554</td>\n",
       "      <td>step_1</td>\n",
       "      <td>2017-04-04 12:52:26</td>\n",
       "      <td>2017-04-04 12:53:01</td>\n",
       "      <td>1</td>\n",
       "      <td>2.0</td>\n",
       "      <td>1</td>\n",
       "      <td>35.0</td>\n",
       "      <td>1.0</td>\n",
       "    </tr>\n",
       "    <tr>\n",
       "      <th>20</th>\n",
       "      <td>4449968</td>\n",
       "      <td>842902495_57580498240</td>\n",
       "      <td>999976049_95772503197_182554</td>\n",
       "      <td>start</td>\n",
       "      <td>2017-04-04 12:50:10</td>\n",
       "      <td>2017-04-04 12:52:26</td>\n",
       "      <td>0</td>\n",
       "      <td>1.0</td>\n",
       "      <td>1</td>\n",
       "      <td>136.0</td>\n",
       "      <td>1.0</td>\n",
       "    </tr>\n",
       "    <tr>\n",
       "      <th>21</th>\n",
       "      <td>2979920</td>\n",
       "      <td>830229399_73416253406</td>\n",
       "      <td>999971096_28827267783_236076</td>\n",
       "      <td>confirm</td>\n",
       "      <td>2017-04-13 10:34:08</td>\n",
       "      <td>NaT</td>\n",
       "      <td>4</td>\n",
       "      <td>NaN</td>\n",
       "      <td>1</td>\n",
       "      <td>NaN</td>\n",
       "      <td>NaN</td>\n",
       "    </tr>\n",
       "    <tr>\n",
       "      <th>22</th>\n",
       "      <td>2979920</td>\n",
       "      <td>830229399_73416253406</td>\n",
       "      <td>999971096_28827267783_236076</td>\n",
       "      <td>step_3</td>\n",
       "      <td>2017-04-13 10:33:40</td>\n",
       "      <td>2017-04-13 10:34:08</td>\n",
       "      <td>3</td>\n",
       "      <td>4.0</td>\n",
       "      <td>1</td>\n",
       "      <td>28.0</td>\n",
       "      <td>1.0</td>\n",
       "    </tr>\n",
       "    <tr>\n",
       "      <th>23</th>\n",
       "      <td>2979920</td>\n",
       "      <td>830229399_73416253406</td>\n",
       "      <td>999971096_28827267783_236076</td>\n",
       "      <td>step_2</td>\n",
       "      <td>2017-04-13 10:32:53</td>\n",
       "      <td>2017-04-13 10:33:40</td>\n",
       "      <td>2</td>\n",
       "      <td>3.0</td>\n",
       "      <td>1</td>\n",
       "      <td>47.0</td>\n",
       "      <td>1.0</td>\n",
       "    </tr>\n",
       "    <tr>\n",
       "      <th>24</th>\n",
       "      <td>2979920</td>\n",
       "      <td>830229399_73416253406</td>\n",
       "      <td>999971096_28827267783_236076</td>\n",
       "      <td>step_1</td>\n",
       "      <td>2017-04-13 10:32:44</td>\n",
       "      <td>2017-04-13 10:32:53</td>\n",
       "      <td>1</td>\n",
       "      <td>2.0</td>\n",
       "      <td>1</td>\n",
       "      <td>9.0</td>\n",
       "      <td>1.0</td>\n",
       "    </tr>\n",
       "  </tbody>\n",
       "</table>\n",
       "</div>"
      ],
      "text/plain": [
       "    client_id             visitor_id                      visit_id  \\\n",
       "0     6627522  730634087_44272418812  999988789_76411676596_272843   \n",
       "1     6627522  730634087_44272418812  999988789_76411676596_272843   \n",
       "2     6627522  730634087_44272418812  999988789_76411676596_272843   \n",
       "3     6627522  730634087_44272418812  999988789_76411676596_272843   \n",
       "4     6627522  730634087_44272418812  999988789_76411676596_272843   \n",
       "5     4064969  110735946_42614968419  999985675_64610694964_443659   \n",
       "6     4064969  110735946_42614968419  999985675_64610694964_443659   \n",
       "7     4064969  110735946_42614968419  999985675_64610694964_443659   \n",
       "8     4064969  110735946_42614968419  999985675_64610694964_443659   \n",
       "9     4064969  110735946_42614968419  999985675_64610694964_443659   \n",
       "10     829911  648229874_89449279372  999984454_18731538378_781808   \n",
       "11     829911  648229874_89449279372  999984454_18731538378_781808   \n",
       "12     829911  648229874_89449279372  999984454_18731538378_781808   \n",
       "13     829911  648229874_89449279372  999984454_18731538378_781808   \n",
       "14     829911  648229874_89449279372  999984454_18731538378_781808   \n",
       "15    4449968  842902495_57580498240  999976049_95772503197_182554   \n",
       "16    4449968  842902495_57580498240  999976049_95772503197_182554   \n",
       "17    4449968  842902495_57580498240  999976049_95772503197_182554   \n",
       "18    4449968  842902495_57580498240  999976049_95772503197_182554   \n",
       "19    4449968  842902495_57580498240  999976049_95772503197_182554   \n",
       "20    4449968  842902495_57580498240  999976049_95772503197_182554   \n",
       "21    2979920  830229399_73416253406  999971096_28827267783_236076   \n",
       "22    2979920  830229399_73416253406  999971096_28827267783_236076   \n",
       "23    2979920  830229399_73416253406  999971096_28827267783_236076   \n",
       "24    2979920  830229399_73416253406  999971096_28827267783_236076   \n",
       "\n",
       "   process_step           init_time            end_time  init_step  next_step  \\\n",
       "0         start 2017-04-21 23:51:09                 NaT          0        NaN   \n",
       "1        step_1 2017-04-21 23:51:00 2017-04-21 23:51:09          1        0.0   \n",
       "2        step_2 2017-04-21 23:50:16 2017-04-21 23:51:00          2        1.0   \n",
       "3        step_1 2017-04-21 23:49:22 2017-04-21 23:50:16          1        2.0   \n",
       "4         start 2017-04-21 23:49:11 2017-04-21 23:49:22          0        1.0   \n",
       "5       confirm 2017-04-20 10:02:48                 NaT          4        NaN   \n",
       "6        step_3 2017-04-20 09:48:45 2017-04-20 10:02:48          3        4.0   \n",
       "7        step_2 2017-04-20 09:47:04 2017-04-20 09:48:45          2        3.0   \n",
       "8        step_1 2017-04-20 09:46:26 2017-04-20 09:47:04          1        2.0   \n",
       "9         start 2017-04-20 09:45:18 2017-04-20 09:46:26          0        1.0   \n",
       "10      confirm 2017-03-29 11:21:07                 NaT          4        NaN   \n",
       "11       step_3 2017-03-29 11:20:23 2017-03-29 11:21:07          3        4.0   \n",
       "12       step_2 2017-03-29 11:19:32 2017-03-29 11:20:23          2        3.0   \n",
       "13       step_1 2017-03-29 11:18:51 2017-03-29 11:19:32          1        2.0   \n",
       "14        start 2017-03-29 11:18:33 2017-03-29 11:18:51          0        1.0   \n",
       "15      confirm 2017-04-04 13:02:18                 NaT          4        NaN   \n",
       "16       step_3 2017-04-04 12:59:35 2017-04-04 13:02:18          3        4.0   \n",
       "17       step_3 2017-04-04 12:54:54 2017-04-04 12:59:35          3        3.0   \n",
       "18       step_2 2017-04-04 12:53:01 2017-04-04 12:54:54          2        3.0   \n",
       "19       step_1 2017-04-04 12:52:26 2017-04-04 12:53:01          1        2.0   \n",
       "20        start 2017-04-04 12:50:10 2017-04-04 12:52:26          0        1.0   \n",
       "21      confirm 2017-04-13 10:34:08                 NaT          4        NaN   \n",
       "22       step_3 2017-04-13 10:33:40 2017-04-13 10:34:08          3        4.0   \n",
       "23       step_2 2017-04-13 10:32:53 2017-04-13 10:33:40          2        3.0   \n",
       "24       step_1 2017-04-13 10:32:44 2017-04-13 10:32:53          1        2.0   \n",
       "\n",
       "    reached_confirm  time_spend  step  \n",
       "0                 1         NaN   NaN  \n",
       "1                 1         9.0  -1.0  \n",
       "2                 1        44.0  -1.0  \n",
       "3                 1        54.0   1.0  \n",
       "4                 1        11.0   1.0  \n",
       "5                 1         NaN   NaN  \n",
       "6                 1       843.0   1.0  \n",
       "7                 1       101.0   1.0  \n",
       "8                 1        38.0   1.0  \n",
       "9                 1        68.0   1.0  \n",
       "10                1         NaN   NaN  \n",
       "11                1        44.0   1.0  \n",
       "12                1        51.0   1.0  \n",
       "13                1        41.0   1.0  \n",
       "14                1        18.0   1.0  \n",
       "15                1         NaN   NaN  \n",
       "16                1       163.0   1.0  \n",
       "17                1       281.0   0.0  \n",
       "18                1       113.0   1.0  \n",
       "19                1        35.0   1.0  \n",
       "20                1       136.0   1.0  \n",
       "21                1         NaN   NaN  \n",
       "22                1        28.0   1.0  \n",
       "23                1        47.0   1.0  \n",
       "24                1         9.0   1.0  "
      ]
     },
     "execution_count": 392,
=======
      "text/plain": [
       "(np.float64(78.5879813123307), np.float64(7.651350968671897e-19))"
      ]
     },
     "execution_count": 200,
>>>>>>> main
     "metadata": {},
     "output_type": "execute_result"
    }
   ],
   "source": [
<<<<<<< HEAD
    "import numpy as np\n",
    "events_shift = events.copy().sort_values(by = ['visit_id', 'date_time'], ascending=False).reset_index()\n",
    "events_shift[['end_time', 'next_step']] = events_shift[['visit_id', 'date_time','num_step']].groupby('visit_id').shift(1)\n",
    "events_shift = events_shift.rename(columns={'date_time':'init_time', 'num_step':'init_step'})\n",
    "new_orden = ['client_id', 'visitor_id', 'visit_id', 'process_step', 'init_time', 'end_time', 'init_step', 'next_step', 'reached_confirm']\n",
    "events_shift= events_shift[new_orden]\n",
    "events_shift['next_step'] = events_shift['next_step'].apply(lambda x: int(x) if pd.notnull(x) else np.nan)\n",
    "\n",
    "events_shift['time_spend'] = (events_shift['end_time']-events_shift['init_time']).dt.total_seconds()\n",
    "events_shift['step'] = events_shift['next_step']-events_shift['init_step']\n",
    "\n",
    "events_shift.head(25)"
   ]
  },
  {
   "cell_type": "code",
   "execution_count": null,
   "metadata": {},
   "outputs": [],
   "source": []
=======
    "crosstab_result = pd.crosstab(test['Variation'], test['conversion'])\n",
    "\n",
    "crosstab_result\n",
    "\n",
    "# Chi-square test for 'MSZoning' and 'SaleCondition'\n",
    "chi2_statistic, chi2_p_value, _, _ = chi2_contingency(crosstab_result)\n",
    "\n",
    "chi2_statistic, chi2_p_value\n",
    "chi2_p_value < 0.05"
   ]
>>>>>>> main
  }
 ],
 "metadata": {
  "kernelspec": {
   "display_name": ".venv",
   "language": "python",
   "name": "python3"
  },
  "language_info": {
   "codemirror_mode": {
    "name": "ipython",
    "version": 3
   },
   "file_extension": ".py",
   "mimetype": "text/x-python",
   "name": "python",
   "nbconvert_exporter": "python",
   "pygments_lexer": "ipython3",
   "version": "3.11.9"
  }
 },
 "nbformat": 4,
 "nbformat_minor": 2
}
